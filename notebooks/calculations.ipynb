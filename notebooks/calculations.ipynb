{
 "cells": [
  {
   "cell_type": "markdown",
   "metadata": {},
   "source": [
    "# Lot Calculations\n",
    "\n",
    "This notebook calculates parking stats for lots (everything besides street parking)."
   ]
  },
  {
   "cell_type": "markdown",
   "metadata": {
    "pycharm": {
     "name": "#%% md\n"
    }
   },
   "source": [
    "[OSMnx](https://github.com/gboeing/osmnx) is used to download and maniuplate data from [OpenStreetMap](https://www.openstreetmap.org/#map=15/41.8222/-71.4085) (OSM)."
   ]
  },
  {
   "cell_type": "code",
   "execution_count": 162,
   "metadata": {},
   "outputs": [
    {
     "data": {
      "text/plain": [
       "'0.11'"
      ]
     },
     "execution_count": 162,
     "metadata": {},
     "output_type": "execute_result"
    }
   ],
   "source": [
    "import pandas as pd\n",
    "import geopandas as gpd\n",
    "import osmnx as ox\n",
    "%matplotlib inline\n",
    "ox.config(log_console=True, use_cache=True)\n",
    "ox.__version__"
   ]
  },
  {
   "cell_type": "code",
   "execution_count": null,
   "metadata": {},
   "outputs": [],
   "source": []
  },
  {
   "cell_type": "markdown",
   "metadata": {},
   "source": [
    "## Setup"
   ]
  },
  {
   "cell_type": "markdown",
   "metadata": {
    "pycharm": {
     "name": "#%% md\n"
    }
   },
   "source": [
    "Specify the area to look for and the type of footprints to look for. Here, we only want the Downtown Neighborhood, and we are only looking for footprints tagged as \"amenity:parking\" in OSM.\n",
    "\n",
    "**Note:** You must supply a `place` string which returns a valid result in OSM. For this calculation, I manually had to create the \"Dowtown\" neighborhood from the [City's GIS](http://pvdgis.maps.arcgis.com/home/webmap/viewer.html?useExisting=1&layers=07555d51a34a4fa0a43e9c920f68970f). Other neighborhoods may or may not be on OSM. For example, Fox Point and College Hill are, but Upper South Providence is not."
   ]
  },
  {
   "cell_type": "code",
   "execution_count": 6,
   "metadata": {
    "pycharm": {
     "name": "#%%\n"
    }
   },
   "outputs": [],
   "source": [
    "place = \"Downtown, Providence, RI, USA\""
   ]
  },
  {
   "cell_type": "markdown",
   "metadata": {},
   "source": [
    "Because of the way OSM stores data and OSMnx retrieves it, we need to handle street parking separately from how we handle parking in lots, whether they be surface, underground, or multi-level.\n",
    "\n",
    "### Lot Parking\n",
    "\n",
    "We will use OSMnx to download \"footprints.\" These are effectively polygons representing the shapes of lots in the neighborhood. Each shape is \"tagged\" (in OSM parlance) with various bits of information (surface type, capacity, etc.).\n",
    "\n",
    "For OSMnx to retrieve the right footprints, we need to specify a type:"
   ]
  },
  {
   "cell_type": "code",
   "execution_count": 7,
   "metadata": {},
   "outputs": [],
   "source": [
    "footprint_type = \"parking\""
   ]
  },
  {
   "cell_type": "markdown",
   "metadata": {
    "pycharm": {
     "name": "#%% md\n"
    }
   },
   "source": [
    "Download the footprints from OSM, and them project them to UTM 19 via OSMnx (UTM Zone selected automatically):"
   ]
  },
  {
   "cell_type": "code",
   "execution_count": 8,
   "metadata": {
    "pycharm": {
     "name": "#%%\n"
    }
   },
   "outputs": [],
   "source": [
    "footprints_unprojected = ox.footprints.footprints_from_place(place, footprint_type=footprint_type)\n",
    "footprints = ox.project_gdf(footprints_unprojected)"
   ]
  },
  {
   "cell_type": "markdown",
   "metadata": {
    "pycharm": {
     "name": "#%% md\n"
    }
   },
   "source": [
    "`footprints_from_place` and `project_gdf` returnn GeoPandas `GeoDataFrame`s. Examine the first few entries of the latter:"
   ]
  },
  {
   "cell_type": "code",
   "execution_count": 9,
   "metadata": {},
   "outputs": [
    {
     "data": {
      "text/html": [
       "<div>\n",
       "<style scoped>\n",
       "    .dataframe tbody tr th:only-of-type {\n",
       "        vertical-align: middle;\n",
       "    }\n",
       "\n",
       "    .dataframe tbody tr th {\n",
       "        vertical-align: top;\n",
       "    }\n",
       "\n",
       "    .dataframe thead th {\n",
       "        text-align: right;\n",
       "    }\n",
       "</style>\n",
       "<table border=\"1\" class=\"dataframe\">\n",
       "  <thead>\n",
       "    <tr style=\"text-align: right;\">\n",
       "      <th></th>\n",
       "      <th>nodes</th>\n",
       "      <th>amenity</th>\n",
       "      <th>building</th>\n",
       "      <th>capacity</th>\n",
       "      <th>capacity:disabled</th>\n",
       "      <th>name</th>\n",
       "      <th>parking</th>\n",
       "      <th>source</th>\n",
       "      <th>supervised</th>\n",
       "      <th>wikidata</th>\n",
       "      <th>...</th>\n",
       "      <th>addr:state</th>\n",
       "      <th>addr:street</th>\n",
       "      <th>description</th>\n",
       "      <th>fee</th>\n",
       "      <th>building:levels</th>\n",
       "      <th>layer</th>\n",
       "      <th>lit</th>\n",
       "      <th>smoothness</th>\n",
       "      <th>members</th>\n",
       "      <th>type</th>\n",
       "    </tr>\n",
       "  </thead>\n",
       "  <tbody>\n",
       "    <tr>\n",
       "      <th>121498413</th>\n",
       "      <td>[1359954107, 1359954080, 1359954126, 135995408...</td>\n",
       "      <td>parking</td>\n",
       "      <td>yes</td>\n",
       "      <td>2400</td>\n",
       "      <td>33</td>\n",
       "      <td>Rhode Island Convention Center</td>\n",
       "      <td>multi-storey</td>\n",
       "      <td>Bing</td>\n",
       "      <td>yes</td>\n",
       "      <td>Q7320906</td>\n",
       "      <td>...</td>\n",
       "      <td>NaN</td>\n",
       "      <td>NaN</td>\n",
       "      <td>NaN</td>\n",
       "      <td>NaN</td>\n",
       "      <td>NaN</td>\n",
       "      <td>NaN</td>\n",
       "      <td>NaN</td>\n",
       "      <td>NaN</td>\n",
       "      <td>NaN</td>\n",
       "      <td>NaN</td>\n",
       "    </tr>\n",
       "    <tr>\n",
       "      <th>141535719</th>\n",
       "      <td>[1549239929, 1549239995, 1549239920, 154923986...</td>\n",
       "      <td>parking</td>\n",
       "      <td>yes</td>\n",
       "      <td>NaN</td>\n",
       "      <td>NaN</td>\n",
       "      <td>Biltmore Garage</td>\n",
       "      <td>multi-storey</td>\n",
       "      <td>NaN</td>\n",
       "      <td>NaN</td>\n",
       "      <td>NaN</td>\n",
       "      <td>...</td>\n",
       "      <td>NaN</td>\n",
       "      <td>NaN</td>\n",
       "      <td>NaN</td>\n",
       "      <td>NaN</td>\n",
       "      <td>NaN</td>\n",
       "      <td>NaN</td>\n",
       "      <td>NaN</td>\n",
       "      <td>NaN</td>\n",
       "      <td>NaN</td>\n",
       "      <td>NaN</td>\n",
       "    </tr>\n",
       "    <tr>\n",
       "      <th>141535724</th>\n",
       "      <td>[1549239764, 3190088397, 1549239673, 154923959...</td>\n",
       "      <td>parking</td>\n",
       "      <td>yes</td>\n",
       "      <td>NaN</td>\n",
       "      <td>NaN</td>\n",
       "      <td>NaN</td>\n",
       "      <td>multi-storey</td>\n",
       "      <td>NaN</td>\n",
       "      <td>NaN</td>\n",
       "      <td>NaN</td>\n",
       "      <td>...</td>\n",
       "      <td>NaN</td>\n",
       "      <td>NaN</td>\n",
       "      <td>NaN</td>\n",
       "      <td>NaN</td>\n",
       "      <td>NaN</td>\n",
       "      <td>NaN</td>\n",
       "      <td>NaN</td>\n",
       "      <td>NaN</td>\n",
       "      <td>NaN</td>\n",
       "      <td>NaN</td>\n",
       "    </tr>\n",
       "    <tr>\n",
       "      <th>141535769</th>\n",
       "      <td>[1549239670, 7105448142, 7105448141, 154923954...</td>\n",
       "      <td>parking</td>\n",
       "      <td>yes</td>\n",
       "      <td>NaN</td>\n",
       "      <td>NaN</td>\n",
       "      <td>NaN</td>\n",
       "      <td>multi-storey</td>\n",
       "      <td>NaN</td>\n",
       "      <td>NaN</td>\n",
       "      <td>NaN</td>\n",
       "      <td>...</td>\n",
       "      <td>NaN</td>\n",
       "      <td>NaN</td>\n",
       "      <td>NaN</td>\n",
       "      <td>NaN</td>\n",
       "      <td>NaN</td>\n",
       "      <td>NaN</td>\n",
       "      <td>NaN</td>\n",
       "      <td>NaN</td>\n",
       "      <td>NaN</td>\n",
       "      <td>NaN</td>\n",
       "    </tr>\n",
       "    <tr>\n",
       "      <th>141535777</th>\n",
       "      <td>[1549239863, 7107873191, 1549239787, 154923972...</td>\n",
       "      <td>parking</td>\n",
       "      <td>yes</td>\n",
       "      <td>NaN</td>\n",
       "      <td>NaN</td>\n",
       "      <td>NaN</td>\n",
       "      <td>multi-storey</td>\n",
       "      <td>NaN</td>\n",
       "      <td>NaN</td>\n",
       "      <td>NaN</td>\n",
       "      <td>...</td>\n",
       "      <td>NaN</td>\n",
       "      <td>NaN</td>\n",
       "      <td>NaN</td>\n",
       "      <td>NaN</td>\n",
       "      <td>NaN</td>\n",
       "      <td>NaN</td>\n",
       "      <td>NaN</td>\n",
       "      <td>NaN</td>\n",
       "      <td>NaN</td>\n",
       "      <td>NaN</td>\n",
       "    </tr>\n",
       "  </tbody>\n",
       "</table>\n",
       "<p>5 rows × 29 columns</p>\n",
       "</div>"
      ],
      "text/plain": [
       "                                                       nodes  amenity  \\\n",
       "121498413  [1359954107, 1359954080, 1359954126, 135995408...  parking   \n",
       "141535719  [1549239929, 1549239995, 1549239920, 154923986...  parking   \n",
       "141535724  [1549239764, 3190088397, 1549239673, 154923959...  parking   \n",
       "141535769  [1549239670, 7105448142, 7105448141, 154923954...  parking   \n",
       "141535777  [1549239863, 7107873191, 1549239787, 154923972...  parking   \n",
       "\n",
       "          building capacity capacity:disabled                            name  \\\n",
       "121498413      yes     2400                33  Rhode Island Convention Center   \n",
       "141535719      yes      NaN               NaN                 Biltmore Garage   \n",
       "141535724      yes      NaN               NaN                             NaN   \n",
       "141535769      yes      NaN               NaN                             NaN   \n",
       "141535777      yes      NaN               NaN                             NaN   \n",
       "\n",
       "                parking source supervised  wikidata  ... addr:state  \\\n",
       "121498413  multi-storey   Bing        yes  Q7320906  ...        NaN   \n",
       "141535719  multi-storey    NaN        NaN       NaN  ...        NaN   \n",
       "141535724  multi-storey    NaN        NaN       NaN  ...        NaN   \n",
       "141535769  multi-storey    NaN        NaN       NaN  ...        NaN   \n",
       "141535777  multi-storey    NaN        NaN       NaN  ...        NaN   \n",
       "\n",
       "          addr:street description  fee building:levels layer  lit smoothness  \\\n",
       "121498413         NaN         NaN  NaN             NaN   NaN  NaN        NaN   \n",
       "141535719         NaN         NaN  NaN             NaN   NaN  NaN        NaN   \n",
       "141535724         NaN         NaN  NaN             NaN   NaN  NaN        NaN   \n",
       "141535769         NaN         NaN  NaN             NaN   NaN  NaN        NaN   \n",
       "141535777         NaN         NaN  NaN             NaN   NaN  NaN        NaN   \n",
       "\n",
       "          members type  \n",
       "121498413     NaN  NaN  \n",
       "141535719     NaN  NaN  \n",
       "141535724     NaN  NaN  \n",
       "141535769     NaN  NaN  \n",
       "141535777     NaN  NaN  \n",
       "\n",
       "[5 rows x 29 columns]"
      ]
     },
     "execution_count": 9,
     "metadata": {},
     "output_type": "execute_result"
    }
   ],
   "source": [
    "footprints.head()"
   ]
  },
  {
   "cell_type": "markdown",
   "metadata": {},
   "source": [
    "And take a look at the geometries (stored as [Shapely Polygons](https://shapely.readthedocs.io/en/stable/manual.html#polygons))."
   ]
  },
  {
   "cell_type": "code",
   "execution_count": 10,
   "metadata": {},
   "outputs": [
    {
     "data": {
      "text/plain": [
       "121498413    POLYGON ((299344.171 4633139.476, 299344.231 4...\n",
       "141535719    POLYGON ((299480.300 4633065.483, 299518.656 4...\n",
       "141535724    POLYGON ((299920.958 4632965.162, 299927.951 4...\n",
       "141535769    POLYGON ((299345.605 4632950.568, 299388.869 4...\n",
       "141535777    POLYGON ((299862.573 4633016.029, 299886.587 4...\n",
       "Name: geometry, dtype: geometry"
      ]
     },
     "execution_count": 10,
     "metadata": {},
     "output_type": "execute_result"
    }
   ],
   "source": [
    "footprints.geometry.head()"
   ]
  },
  {
   "cell_type": "markdown",
   "metadata": {},
   "source": [
    "And plot these as well, using OSMnx's `plot_footprints` function:"
   ]
  },
  {
   "cell_type": "code",
   "execution_count": 11,
   "metadata": {
    "pycharm": {
     "name": "#%%\n"
    }
   },
   "outputs": [
    {
     "data": {
      "image/png": "[encoded data removed]",
      "text/plain": [
       "<Figure size 432x288 with 1 Axes>"
      ]
     },
     "metadata": {},
     "output_type": "display_data"
    },
    {
     "data": {
      "text/plain": [
       "(<Figure size 432x288 with 1 Axes>,\n",
       " <matplotlib.axes._subplots.AxesSubplot at 0x122396890>)"
      ]
     },
     "execution_count": 11,
     "metadata": {},
     "output_type": "execute_result"
    }
   ],
   "source": [
    "ox.footprints.plot_footprints(footprints)"
   ]
  },
  {
   "cell_type": "markdown",
   "metadata": {},
   "source": [
    "### Street Parking\n",
    "\n",
    "Streets are defined as \"ways\" in OSM. Ideally, we would be able to pull these from OSM using the `osmnx.pois` module, but this is not currently possible because `osmnx.pois.create_poi_gdf` filters the dataset using the OSM `amenity` tag, which won't work since street parking is defined with the `parking:lane` tag. **Note:** [there is discussion](https://github.com/gboeing/osmnx/pull/342) on changing this in a future release of OSMnx.\n",
    "\n",
    "Instead, we will get *all* OSM data as JSON, and filter to the ways we want.\n",
    "\n",
    "First, we use `ox.gdf_from_place` to retrieve the geometry of the Downtown neighborhood:"
   ]
  },
  {
   "cell_type": "code",
   "execution_count": 17,
   "metadata": {},
   "outputs": [
    {
     "data": {
      "image/svg+xml": [
       "<svg xmlns=\"http://www.w3.org/2000/svg\" xmlns:xlink=\"http://www.w3.org/1999/xlink\" width=\"100.0\" height=\"100.0\" viewBox=\"-71.42108325599999 41.811119644 0.020872311999980298 0.024765911999999446\" preserveAspectRatio=\"xMinYMin meet\"><g transform=\"matrix(1,0,0,-1,0,83.6470052)\"><path fill-rule=\"evenodd\" fill=\"#66cc99\" stroke=\"#555555\" stroke-width=\"0.0004953182399999889\" opacity=\"0.6\" d=\"M -71.420166,41.821842 L -71.420143,41.821514 L -71.420105,41.821297 L -71.4200017,41.8209329 L -71.4198043,41.8205171 L -71.419521,41.8201077 L -71.419258,41.819794 L -71.4177865,41.8186288 L -71.4163619,41.8175702 L -71.4153126,41.8168979 L -71.414818,41.8165671 L -71.4137236,41.8159474 L -71.4125917,41.8154116 L -71.4120222,41.8151637 L -71.4110958,41.8148552 L -71.4106988,41.8147337 L -71.409676,41.814419 L -71.408966,41.814213 L -71.4085148,41.8140483 L -71.4082263,41.8139113 L -71.407852,41.813702 L -71.4077,41.813591 L -71.407379,41.81332 L -71.407204,41.813137 L -71.407043,41.812921 L -71.4068698,41.812704 L -71.4056073,41.8120412 L -71.4053806,41.8120369 L -71.4011282,41.8121672 L -71.4028028,41.814727 L -71.4059938,41.8202862 L -71.4057328,41.820337 L -71.4054806,41.8203557 L -71.405226,41.8203598 L -71.4049567,41.8203436 L -71.4046789,41.8203024 L -71.4044809,41.8202488 L -71.4043889,41.8203283 L -71.4043636,41.8203687 L -71.4043279,41.8204288 L -71.4044013,41.8205401 L -71.4044535,41.8206361 L -71.4044865,41.8208353 L -71.4045121,41.8208655 L -71.4048575,41.8211978 L -71.4049302,41.8212963 L -71.4053586,41.8217523 L -71.4057293,41.8221228 L -71.4060004,41.8223892 L -71.4061471,41.8225369 L -71.4062308,41.8226381 L -71.4064443,41.8228514 L -71.4058325,41.8231776 L -71.4061676,41.8235193 L -71.4063817,41.8237289 L -71.4066067,41.8239813 L -71.4066995,41.8240864 L -71.4068399,41.824266 L -71.406868,41.82431 L -71.4071336,41.824704 L -71.4073306,41.824997 L -71.4077893,41.8256255 L -71.4078477,41.8256958 L -71.4080521,41.8259161 L -71.408197,41.826076 L -71.408278,41.826207 L -71.4086712,41.8268404 L -71.40873,41.826935 L -71.409058,41.827488 L -71.409184,41.827695 L -71.409302,41.8278888 L -71.409351,41.827972 L -71.409447,41.828136 L -71.409538,41.828354 L -71.4095867,41.8285113 L -71.409637,41.828655 L -71.4103281,41.8285351 L -71.41069,41.828468 L -71.4107335,41.8285676 L -71.410749,41.82861 L -71.4108026,41.8287581 L -71.410828,41.828854 L -71.410851,41.828957 L -71.410866,41.829052 L -71.410873,41.829086 L -71.410962,41.829518 L -71.410995,41.829681 L -71.411034,41.829862 L -71.4110742,41.8300502 L -71.4113056,41.831133 L -71.411324,41.831219 L -71.4113373,41.831395 L -71.411331,41.831684 L -71.411308,41.831863 L -71.411255,41.832382 L -71.4112264,41.8325556 L -71.4111926,41.8327604 L -71.411175,41.832867 L -71.411163,41.832943 L -71.4112022,41.833057 L -71.4112229,41.8331026 L -71.4112602,41.8331595 L -71.4112962,41.8332105 L -71.4113405,41.833277 L -71.4114005,41.8333673 L -71.4114288,41.8334328 L -71.4114428,41.8334944 L -71.411453,41.8335623 L -71.411447,41.833648 L -71.411438,41.833694 L -71.41143,41.833771 L -71.411392,41.834003 L -71.411392,41.834042 L -71.411377,41.834118 L -71.411377,41.834164 L -71.411369,41.834209 L -71.411369,41.834286 L -71.411377,41.83432 L -71.411383,41.834428 L -71.4113949,41.8345775 L -71.411469,41.834923 L -71.4116733,41.8349683 L -71.411964,41.834957 L -71.412347,41.8349416 L -71.4128494,41.8349214 L -71.4130387,41.8349123 L -71.4131163,41.8349086 L -71.4136809,41.8348814 L -71.4141815,41.8348589 L -71.4143547,41.8348172 L -71.4153307,41.8347681 L -71.4153989,41.8347658 L -71.4159144,41.8347489 L -71.416084,41.834667 L -71.416115,41.834595 L -71.416328,41.834087 L -71.416656,41.833347 L -71.41673,41.833156 L -71.416786,41.833012 L -71.4169358,41.8326449 L -71.4171857,41.8320338 L -71.417305,41.831734 L -71.417419,41.831417 L -71.417526,41.831093 L -71.41758,41.830833 L -71.417648,41.830441 L -71.4177199,41.8298442 L -71.4178466,41.8290983 L -71.4180632,41.8282187 L -71.418218,41.82774 L -71.418557,41.826774 L -71.41863,41.826576 L -71.418732,41.826302 L -71.4189195,41.8258237 L -71.4190055,41.8255784 L -71.4192926,41.8248107 L -71.419533,41.82412 L -71.419708,41.823647 L -71.419818,41.82331 L -71.419922,41.823009 L -71.420067,41.822544 L -71.42012,41.822338 L -71.420151,41.82214 L -71.420166,41.821842 z\" /></g></svg>"
      ],
      "text/plain": [
       "<shapely.geometry.polygon.Polygon at 0x122206590>"
      ]
     },
     "execution_count": 17,
     "metadata": {},
     "output_type": "execute_result"
    }
   ],
   "source": [
    "downtown_poly = ox.gdf_from_place(\"Downtown, Providence, RI, USA\").geometry[0]\n",
    "downtown_poly"
   ]
  },
  {
   "cell_type": "markdown",
   "metadata": {},
   "source": [
    "Next, we extract the elements from this download, and filter:"
   ]
  },
  {
   "cell_type": "code",
   "execution_count": 109,
   "metadata": {},
   "outputs": [
    {
     "data": {
      "text/plain": [
       "[{'type': 'way',\n",
       "  'id': 19371263,\n",
       "  'nodes': [2462943205,\n",
       "   201164458,\n",
       "   201401172,\n",
       "   201164445,\n",
       "   4221450297,\n",
       "   201401176,\n",
       "   201312046,\n",
       "   201401178],\n",
       "  'tags': {'highway': 'primary',\n",
       "   'lanes': '2',\n",
       "   'name': 'North Main Street',\n",
       "   'oneway': 'yes',\n",
       "   'parking:lane:both': 'parallel',\n",
       "   'ref': 'US 44',\n",
       "   'surface': 'asphalt',\n",
       "   'tiger:cfcc': 'A25',\n",
       "   'tiger:name_base': 'Main',\n",
       "   'tiger:name_base_1': 'United States Highway 1',\n",
       "   'tiger:name_direction_prefix': 'N',\n",
       "   'tiger:name_type': 'St',\n",
       "   'tiger:reviewed': 'no'}},\n",
       " {'type': 'way',\n",
       "  'id': 19375884,\n",
       "  'nodes': [201319599,\n",
       "   5689655376,\n",
       "   201461429,\n",
       "   201461427,\n",
       "   201263932,\n",
       "   201461424,\n",
       "   201461411,\n",
       "   5740722900,\n",
       "   201461409,\n",
       "   201381708],\n",
       "  'tags': {'cycleway': 'no',\n",
       "   'highway': 'tertiary',\n",
       "   'lanes': '3',\n",
       "   'name': 'Empire Street',\n",
       "   'oneway': 'no',\n",
       "   'parking:lane:left': 'parallel',\n",
       "   'parking:lane:left:capacity': '10',\n",
       "   'parking:lane:left:parallel': 'painted_area_only',\n",
       "   'surface': 'paved',\n",
       "   'tiger:cfcc': 'A25',\n",
       "   'tiger:name_base': 'Empire',\n",
       "   'tiger:name_base_1': 'United States Highway 1',\n",
       "   'tiger:name_type': 'St',\n",
       "   'tiger:reviewed': 'no'}},\n",
       " {'type': 'way',\n",
       "  'id': 90091975,\n",
       "  'nodes': [201246130,\n",
       "   201319547,\n",
       "   201319550,\n",
       "   201319554,\n",
       "   201319557,\n",
       "   201319565,\n",
       "   3420673039,\n",
       "   201305067,\n",
       "   201319573,\n",
       "   201319577,\n",
       "   201319583,\n",
       "   201319596,\n",
       "   5689655378,\n",
       "   201319599],\n",
       "  'tags': {'highway': 'residential',\n",
       "   'lanes': '1',\n",
       "   'maxspeed': '25 mph',\n",
       "   'name': 'Westminster Street',\n",
       "   'oneway': 'yes',\n",
       "   'parking:lane:right': 'parallel',\n",
       "   'parking:lane:right:capacity': '66',\n",
       "   'parking:lane:right:parallel': 'on_street',\n",
       "   'surface': 'paved'}},\n",
       " {'type': 'way',\n",
       "  'id': 547275326,\n",
       "  'nodes': [201461438, 5689638619, 201638338, 5689659080, 201734869],\n",
       "  'tags': {'highway': 'unclassified',\n",
       "   'name': 'Washington Street',\n",
       "   'parking:lane:both': 'parallel',\n",
       "   'parking:lane:both:capacity': '10',\n",
       "   'parking:lane:both:parallel': 'painted_area_only',\n",
       "   'surface': 'asphalt'}},\n",
       " {'type': 'way',\n",
       "  'id': 560205077,\n",
       "  'nodes': [446866033, 201216312, 2462943205],\n",
       "  'tags': {'highway': 'primary',\n",
       "   'lanes': '2',\n",
       "   'name': 'North Main Street',\n",
       "   'oneway': 'yes',\n",
       "   'parking:lane:both': 'parallel',\n",
       "   'ref': 'US 44',\n",
       "   'surface': 'asphalt',\n",
       "   'tiger:cfcc': 'A25',\n",
       "   'tiger:name_base': 'Main',\n",
       "   'tiger:name_base_1': 'United States Highway 1',\n",
       "   'tiger:name_direction_prefix': 'N',\n",
       "   'tiger:name_type': 'St',\n",
       "   'tiger:reviewed': 'no'}},\n",
       " {'type': 'way',\n",
       "  'id': 560205081,\n",
       "  'nodes': [201347292, 201401167, 201344814, 201369750, 446866033],\n",
       "  'tags': {'highway': 'primary',\n",
       "   'lanes': '2',\n",
       "   'name': 'North Main Street',\n",
       "   'oneway': 'yes',\n",
       "   'parking:lane:both': 'parallel',\n",
       "   'ref': 'US 44',\n",
       "   'surface': 'asphalt',\n",
       "   'tiger:cfcc': 'A25',\n",
       "   'tiger:name_base': 'Main',\n",
       "   'tiger:name_base_1': 'United States Highway 1',\n",
       "   'tiger:name_direction_prefix': 'N',\n",
       "   'tiger:name_type': 'St',\n",
       "   'tiger:reviewed': 'no'}}]"
      ]
     },
     "execution_count": 109,
     "metadata": {},
     "output_type": "execute_result"
    }
   ],
   "source": [
    "download = ox.osm_net_download(polygon=downtown_poly)[0]['elements']\n",
    "\n",
    "def is_way_with_parking(element):\n",
    "    match_tags = ['parking:lane:both', 'parking:lane:left', 'parking:lane:right']\n",
    "    \n",
    "    return (element['type'] == 'way') and ('tags' in element) and (any(k in match_tags for k in element['tags'].keys()))\n",
    "\n",
    "filtered = list(filter(is_way_with_parking, download))\n",
    "filtered"
   ]
  },
  {
   "cell_type": "markdown",
   "metadata": {},
   "source": [
    "Next, we use a Pandas `DataFrame` to store useful values from that JSON.\n",
    "\n",
    "**Note:** this is Pandas, not GeoPandas. Currently, we are not storing any geospatial information about the streets."
   ]
  },
  {
   "cell_type": "code",
   "execution_count": 171,
   "metadata": {},
   "outputs": [
    {
     "data": {
      "text/html": [
       "<div>\n",
       "<style scoped>\n",
       "    .dataframe tbody tr th:only-of-type {\n",
       "        vertical-align: middle;\n",
       "    }\n",
       "\n",
       "    .dataframe tbody tr th {\n",
       "        vertical-align: top;\n",
       "    }\n",
       "\n",
       "    .dataframe thead th {\n",
       "        text-align: right;\n",
       "    }\n",
       "</style>\n",
       "<table border=\"1\" class=\"dataframe\">\n",
       "  <thead>\n",
       "    <tr style=\"text-align: right;\">\n",
       "      <th></th>\n",
       "      <th>highway</th>\n",
       "      <th>lanes</th>\n",
       "      <th>name</th>\n",
       "      <th>oneway</th>\n",
       "      <th>parking:lane:both</th>\n",
       "      <th>surface</th>\n",
       "      <th>parking:lane:left</th>\n",
       "      <th>parking:lane:left:capacity</th>\n",
       "      <th>parking:lane:left:parallel</th>\n",
       "      <th>parking:lane:right</th>\n",
       "      <th>parking:lane:right:capacity</th>\n",
       "      <th>parking:lane:right:parallel</th>\n",
       "      <th>parking:lane:both:capacity</th>\n",
       "      <th>parking:lane:both:parallel</th>\n",
       "    </tr>\n",
       "  </thead>\n",
       "  <tbody>\n",
       "    <tr>\n",
       "      <th>19371263</th>\n",
       "      <td>primary</td>\n",
       "      <td>2</td>\n",
       "      <td>North Main Street</td>\n",
       "      <td>yes</td>\n",
       "      <td>parallel</td>\n",
       "      <td>asphalt</td>\n",
       "      <td>NaN</td>\n",
       "      <td>NaN</td>\n",
       "      <td>NaN</td>\n",
       "      <td>NaN</td>\n",
       "      <td>NaN</td>\n",
       "      <td>NaN</td>\n",
       "      <td>NaN</td>\n",
       "      <td>NaN</td>\n",
       "    </tr>\n",
       "    <tr>\n",
       "      <th>19375884</th>\n",
       "      <td>tertiary</td>\n",
       "      <td>3</td>\n",
       "      <td>Empire Street</td>\n",
       "      <td>no</td>\n",
       "      <td>NaN</td>\n",
       "      <td>paved</td>\n",
       "      <td>parallel</td>\n",
       "      <td>10</td>\n",
       "      <td>painted_area_only</td>\n",
       "      <td>NaN</td>\n",
       "      <td>NaN</td>\n",
       "      <td>NaN</td>\n",
       "      <td>NaN</td>\n",
       "      <td>NaN</td>\n",
       "    </tr>\n",
       "    <tr>\n",
       "      <th>90091975</th>\n",
       "      <td>residential</td>\n",
       "      <td>1</td>\n",
       "      <td>Westminster Street</td>\n",
       "      <td>yes</td>\n",
       "      <td>NaN</td>\n",
       "      <td>paved</td>\n",
       "      <td>NaN</td>\n",
       "      <td>NaN</td>\n",
       "      <td>NaN</td>\n",
       "      <td>parallel</td>\n",
       "      <td>66</td>\n",
       "      <td>on_street</td>\n",
       "      <td>NaN</td>\n",
       "      <td>NaN</td>\n",
       "    </tr>\n",
       "    <tr>\n",
       "      <th>547275326</th>\n",
       "      <td>unclassified</td>\n",
       "      <td>NaN</td>\n",
       "      <td>Washington Street</td>\n",
       "      <td>NaN</td>\n",
       "      <td>parallel</td>\n",
       "      <td>asphalt</td>\n",
       "      <td>NaN</td>\n",
       "      <td>NaN</td>\n",
       "      <td>NaN</td>\n",
       "      <td>NaN</td>\n",
       "      <td>NaN</td>\n",
       "      <td>NaN</td>\n",
       "      <td>10</td>\n",
       "      <td>painted_area_only</td>\n",
       "    </tr>\n",
       "    <tr>\n",
       "      <th>560205077</th>\n",
       "      <td>primary</td>\n",
       "      <td>2</td>\n",
       "      <td>North Main Street</td>\n",
       "      <td>yes</td>\n",
       "      <td>parallel</td>\n",
       "      <td>asphalt</td>\n",
       "      <td>NaN</td>\n",
       "      <td>NaN</td>\n",
       "      <td>NaN</td>\n",
       "      <td>NaN</td>\n",
       "      <td>NaN</td>\n",
       "      <td>NaN</td>\n",
       "      <td>NaN</td>\n",
       "      <td>NaN</td>\n",
       "    </tr>\n",
       "  </tbody>\n",
       "</table>\n",
       "</div>"
      ],
      "text/plain": [
       "                highway lanes                name oneway parking:lane:both  \\\n",
       "19371263        primary     2   North Main Street    yes          parallel   \n",
       "19375884       tertiary     3       Empire Street     no               NaN   \n",
       "90091975    residential     1  Westminster Street    yes               NaN   \n",
       "547275326  unclassified   NaN   Washington Street    NaN          parallel   \n",
       "560205077       primary     2   North Main Street    yes          parallel   \n",
       "\n",
       "           surface parking:lane:left parking:lane:left:capacity  \\\n",
       "19371263   asphalt               NaN                        NaN   \n",
       "19375884     paved          parallel                         10   \n",
       "90091975     paved               NaN                        NaN   \n",
       "547275326  asphalt               NaN                        NaN   \n",
       "560205077  asphalt               NaN                        NaN   \n",
       "\n",
       "          parking:lane:left:parallel parking:lane:right  \\\n",
       "19371263                         NaN                NaN   \n",
       "19375884           painted_area_only                NaN   \n",
       "90091975                         NaN           parallel   \n",
       "547275326                        NaN                NaN   \n",
       "560205077                        NaN                NaN   \n",
       "\n",
       "          parking:lane:right:capacity parking:lane:right:parallel  \\\n",
       "19371263                          NaN                         NaN   \n",
       "19375884                          NaN                         NaN   \n",
       "90091975                           66                   on_street   \n",
       "547275326                         NaN                         NaN   \n",
       "560205077                         NaN                         NaN   \n",
       "\n",
       "          parking:lane:both:capacity parking:lane:both:parallel  \n",
       "19371263                         NaN                        NaN  \n",
       "19375884                         NaN                        NaN  \n",
       "90091975                         NaN                        NaN  \n",
       "547275326                         10          painted_area_only  \n",
       "560205077                        NaN                        NaN  "
      ]
     },
     "execution_count": 171,
     "metadata": {},
     "output_type": "execute_result"
    }
   ],
   "source": [
    "sp = pd.DataFrame()\n",
    "\n",
    "for f in filtered:\n",
    "        osmid = f['id']\n",
    "        tags = f.get('tags', {})\n",
    "        tags_to_copy = ['surface', 'highway', 'lanes', 'oneway', 'parking', 'name']\n",
    "        for t in tags.keys():\n",
    "            if any(t.startswith(c) for c in tags_to_copy):\n",
    "                sp.loc[osmid, t] = tags[t]\n",
    "\n",
    "sp.head()"
   ]
  },
  {
   "cell_type": "code",
   "execution_count": null,
   "metadata": {},
   "outputs": [],
   "source": []
  },
  {
   "cell_type": "markdown",
   "metadata": {},
   "source": [
    "## Calculations"
   ]
  },
  {
   "cell_type": "code",
   "execution_count": 12,
   "metadata": {},
   "outputs": [],
   "source": [
    "calculations = {'total': {}}  # Dictionary to hold all useful calculations"
   ]
  },
  {
   "cell_type": "markdown",
   "metadata": {},
   "source": [
    "Let's get some basic calculations done first:"
   ]
  },
  {
   "cell_type": "code",
   "execution_count": 13,
   "metadata": {},
   "outputs": [
    {
     "data": {
      "text/plain": [
       "{'count': 208, 'area_naive': 358451.7241270884}"
      ]
     },
     "execution_count": 13,
     "metadata": {},
     "output_type": "execute_result"
    }
   ],
   "source": [
    "calculations['total']['count'] = len(footprints.index)\n",
    "calculations['total']['area_naive'] = footprints.area.sum()  # Areas in square meters\n",
    "\n",
    "calculations['total']"
   ]
  },
  {
   "cell_type": "markdown",
   "metadata": {},
   "source": [
    "### Surface Lots"
   ]
  },
  {
   "cell_type": "code",
   "execution_count": 14,
   "metadata": {},
   "outputs": [],
   "source": [
    "calculations['surface'] = {}"
   ]
  },
  {
   "cell_type": "markdown",
   "metadata": {},
   "source": [
    "There's a lot of data to work with, and it's important to differentiate between different types of parking areas. For example, the area taken by a surface lot is used much less efficiently than it would by a multi-story lot.\n",
    "\n",
    "Most of this data separation will be accomplished using the Pandas `query` function. For example, to filter the original footprints to entries that are surface lots:"
   ]
  },
  {
   "cell_type": "code",
   "execution_count": 15,
   "metadata": {
    "scrolled": false
   },
   "outputs": [
    {
     "data": {
      "text/html": [
       "<div>\n",
       "<style scoped>\n",
       "    .dataframe tbody tr th:only-of-type {\n",
       "        vertical-align: middle;\n",
       "    }\n",
       "\n",
       "    .dataframe tbody tr th {\n",
       "        vertical-align: top;\n",
       "    }\n",
       "\n",
       "    .dataframe thead th {\n",
       "        text-align: right;\n",
       "    }\n",
       "</style>\n",
       "<table border=\"1\" class=\"dataframe\">\n",
       "  <thead>\n",
       "    <tr style=\"text-align: right;\">\n",
       "      <th></th>\n",
       "      <th>nodes</th>\n",
       "      <th>amenity</th>\n",
       "      <th>building</th>\n",
       "      <th>capacity</th>\n",
       "      <th>capacity:disabled</th>\n",
       "      <th>name</th>\n",
       "      <th>parking</th>\n",
       "      <th>source</th>\n",
       "      <th>supervised</th>\n",
       "      <th>wikidata</th>\n",
       "      <th>...</th>\n",
       "      <th>addr:state</th>\n",
       "      <th>addr:street</th>\n",
       "      <th>description</th>\n",
       "      <th>fee</th>\n",
       "      <th>building:levels</th>\n",
       "      <th>layer</th>\n",
       "      <th>lit</th>\n",
       "      <th>smoothness</th>\n",
       "      <th>members</th>\n",
       "      <th>type</th>\n",
       "    </tr>\n",
       "  </thead>\n",
       "  <tbody>\n",
       "    <tr>\n",
       "      <th>146047911</th>\n",
       "      <td>[1593435262, 1593435285, 1593435350, 159343529...</td>\n",
       "      <td>parking</td>\n",
       "      <td>NaN</td>\n",
       "      <td>139</td>\n",
       "      <td>2</td>\n",
       "      <td>NaN</td>\n",
       "      <td>surface</td>\n",
       "      <td>NaN</td>\n",
       "      <td>NaN</td>\n",
       "      <td>NaN</td>\n",
       "      <td>...</td>\n",
       "      <td>NaN</td>\n",
       "      <td>NaN</td>\n",
       "      <td>NaN</td>\n",
       "      <td>NaN</td>\n",
       "      <td>NaN</td>\n",
       "      <td>NaN</td>\n",
       "      <td>NaN</td>\n",
       "      <td>NaN</td>\n",
       "      <td>NaN</td>\n",
       "      <td>NaN</td>\n",
       "    </tr>\n",
       "    <tr>\n",
       "      <th>146047918</th>\n",
       "      <td>[1593435488, 1593435458, 1593435230, 159343549...</td>\n",
       "      <td>parking</td>\n",
       "      <td>NaN</td>\n",
       "      <td>196</td>\n",
       "      <td>1</td>\n",
       "      <td>NaN</td>\n",
       "      <td>surface</td>\n",
       "      <td>NaN</td>\n",
       "      <td>NaN</td>\n",
       "      <td>NaN</td>\n",
       "      <td>...</td>\n",
       "      <td>NaN</td>\n",
       "      <td>NaN</td>\n",
       "      <td>NaN</td>\n",
       "      <td>NaN</td>\n",
       "      <td>NaN</td>\n",
       "      <td>NaN</td>\n",
       "      <td>NaN</td>\n",
       "      <td>NaN</td>\n",
       "      <td>NaN</td>\n",
       "      <td>NaN</td>\n",
       "    </tr>\n",
       "    <tr>\n",
       "      <th>146047930</th>\n",
       "      <td>[1593435352, 1593435214, 1593435342, 159343522...</td>\n",
       "      <td>parking</td>\n",
       "      <td>NaN</td>\n",
       "      <td>69</td>\n",
       "      <td>NaN</td>\n",
       "      <td>NaN</td>\n",
       "      <td>surface</td>\n",
       "      <td>NaN</td>\n",
       "      <td>NaN</td>\n",
       "      <td>NaN</td>\n",
       "      <td>...</td>\n",
       "      <td>NaN</td>\n",
       "      <td>NaN</td>\n",
       "      <td>NaN</td>\n",
       "      <td>NaN</td>\n",
       "      <td>NaN</td>\n",
       "      <td>NaN</td>\n",
       "      <td>NaN</td>\n",
       "      <td>NaN</td>\n",
       "      <td>NaN</td>\n",
       "      <td>NaN</td>\n",
       "    </tr>\n",
       "    <tr>\n",
       "      <th>146047932</th>\n",
       "      <td>[1593435493, 1593435452, 1593435400, 159343519...</td>\n",
       "      <td>parking</td>\n",
       "      <td>NaN</td>\n",
       "      <td>146</td>\n",
       "      <td>NaN</td>\n",
       "      <td>Empire Lot</td>\n",
       "      <td>surface</td>\n",
       "      <td>NaN</td>\n",
       "      <td>NaN</td>\n",
       "      <td>NaN</td>\n",
       "      <td>...</td>\n",
       "      <td>NaN</td>\n",
       "      <td>NaN</td>\n",
       "      <td>NaN</td>\n",
       "      <td>NaN</td>\n",
       "      <td>NaN</td>\n",
       "      <td>NaN</td>\n",
       "      <td>NaN</td>\n",
       "      <td>NaN</td>\n",
       "      <td>NaN</td>\n",
       "      <td>NaN</td>\n",
       "    </tr>\n",
       "    <tr>\n",
       "      <th>146062999</th>\n",
       "      <td>[1593530648, 1593530807, 1593530979, 159353103...</td>\n",
       "      <td>parking</td>\n",
       "      <td>NaN</td>\n",
       "      <td>140</td>\n",
       "      <td>8</td>\n",
       "      <td>Rhode Island Department of Transportation Park...</td>\n",
       "      <td>surface</td>\n",
       "      <td>survey</td>\n",
       "      <td>NaN</td>\n",
       "      <td>NaN</td>\n",
       "      <td>...</td>\n",
       "      <td>NaN</td>\n",
       "      <td>NaN</td>\n",
       "      <td>NaN</td>\n",
       "      <td>NaN</td>\n",
       "      <td>NaN</td>\n",
       "      <td>NaN</td>\n",
       "      <td>NaN</td>\n",
       "      <td>NaN</td>\n",
       "      <td>NaN</td>\n",
       "      <td>NaN</td>\n",
       "    </tr>\n",
       "  </tbody>\n",
       "</table>\n",
       "<p>5 rows × 29 columns</p>\n",
       "</div>"
      ],
      "text/plain": [
       "                                                       nodes  amenity  \\\n",
       "146047911  [1593435262, 1593435285, 1593435350, 159343529...  parking   \n",
       "146047918  [1593435488, 1593435458, 1593435230, 159343549...  parking   \n",
       "146047930  [1593435352, 1593435214, 1593435342, 159343522...  parking   \n",
       "146047932  [1593435493, 1593435452, 1593435400, 159343519...  parking   \n",
       "146062999  [1593530648, 1593530807, 1593530979, 159353103...  parking   \n",
       "\n",
       "          building capacity capacity:disabled  \\\n",
       "146047911      NaN      139                 2   \n",
       "146047918      NaN      196                 1   \n",
       "146047930      NaN       69               NaN   \n",
       "146047932      NaN      146               NaN   \n",
       "146062999      NaN      140                 8   \n",
       "\n",
       "                                                        name  parking  source  \\\n",
       "146047911                                                NaN  surface     NaN   \n",
       "146047918                                                NaN  surface     NaN   \n",
       "146047930                                                NaN  surface     NaN   \n",
       "146047932                                         Empire Lot  surface     NaN   \n",
       "146062999  Rhode Island Department of Transportation Park...  surface  survey   \n",
       "\n",
       "          supervised wikidata  ... addr:state addr:street description  fee  \\\n",
       "146047911        NaN      NaN  ...        NaN         NaN         NaN  NaN   \n",
       "146047918        NaN      NaN  ...        NaN         NaN         NaN  NaN   \n",
       "146047930        NaN      NaN  ...        NaN         NaN         NaN  NaN   \n",
       "146047932        NaN      NaN  ...        NaN         NaN         NaN  NaN   \n",
       "146062999        NaN      NaN  ...        NaN         NaN         NaN  NaN   \n",
       "\n",
       "          building:levels layer  lit smoothness members type  \n",
       "146047911             NaN   NaN  NaN        NaN     NaN  NaN  \n",
       "146047918             NaN   NaN  NaN        NaN     NaN  NaN  \n",
       "146047930             NaN   NaN  NaN        NaN     NaN  NaN  \n",
       "146047932             NaN   NaN  NaN        NaN     NaN  NaN  \n",
       "146062999             NaN   NaN  NaN        NaN     NaN  NaN  \n",
       "\n",
       "[5 rows x 29 columns]"
      ]
     },
     "execution_count": 15,
     "metadata": {},
     "output_type": "execute_result"
    }
   ],
   "source": [
    "filtered_surface = footprints.query(\"parking == 'surface'\")\n",
    "filtered_surface.head()"
   ]
  },
  {
   "cell_type": "code",
   "execution_count": 16,
   "metadata": {},
   "outputs": [
    {
     "data": {
      "text/plain": [
       "{'count': 185, 'area': 251810.39049777057}"
      ]
     },
     "execution_count": 16,
     "metadata": {},
     "output_type": "execute_result"
    }
   ],
   "source": [
    "calculations['surface']['count'] = len(filtered_surface.index)\n",
    "calculations['surface']['area'] = filtered_surface.area.sum()\n",
    "\n",
    "calculations['surface']"
   ]
  },
  {
   "cell_type": "code",
   "execution_count": null,
   "metadata": {},
   "outputs": [],
   "source": []
  },
  {
   "cell_type": "code",
   "execution_count": null,
   "metadata": {},
   "outputs": [],
   "source": []
  }
 ],
 "metadata": {
  "kernelspec": {
   "display_name": "Python 3",
   "language": "python",
   "name": "python3"
  },
  "language_info": {
   "codemirror_mode": {
    "name": "ipython",
    "version": 3
   },
   "file_extension": ".py",
   "mimetype": "text/x-python",
   "name": "python",
   "nbconvert_exporter": "python",
   "pygments_lexer": "ipython3",
   "version": "3.7.6"
  },
  "pycharm": {
   "stem_cell": {
    "cell_type": "raw",
    "metadata": {
     "collapsed": false
    },
    "source": []
   }
  }
 },
 "nbformat": 4,
 "nbformat_minor": 4
}
