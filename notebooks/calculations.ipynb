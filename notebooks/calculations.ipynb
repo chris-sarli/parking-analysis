{
 "cells": [
  {
   "cell_type": "markdown",
   "metadata": {},
   "source": [
    "# Parking Analysis Calculations\n",
    "\n",
    "This file calculates parking stats for lots (everything besides street parking)."
   ]
  },
  {
   "cell_type": "markdown",
   "metadata": {},
   "source": [
    "## Setup"
   ]
  },
  {
   "cell_type": "markdown",
   "metadata": {
    "pycharm": {
     "name": "#%% md\n"
    }
   },
   "source": [
    "[OSMnx](https://github.com/gboeing/osmnx) is used to download and maniuplate data from [OpenStreetMap](https://www.openstreetmap.org/#map=15/41.8222/-71.4085) (OSM)."
   ]
  },
  {
   "cell_type": "code",
   "execution_count": 5,
   "metadata": {},
   "outputs": [
    {
     "data": {
      "text/plain": [
       "'0.11'"
      ]
     },
     "execution_count": 5,
     "metadata": {},
     "output_type": "execute_result"
    }
   ],
   "source": [
    "import pandas as pd\n",
    "import geopandas as gpd\n",
    "import osmnx as ox\n",
    "from functools import reduce\n",
    "from measurement.measures import Area\n",
    "from decimal import Decimal\n",
    "%matplotlib inline\n",
    "ox.config(log_console=True, use_cache=True)\n",
    "ox.__version__"
   ]
  },
  {
   "cell_type": "markdown",
   "metadata": {
    "pycharm": {
     "name": "#%% md\n"
    }
   },
   "source": [
    "Specify the area to look for and the type of footprints to look for. Here, we only want the Downtown Neighborhood, and we are only looking for footprints tagged as \"amenity:parking\" in OSM.\n",
    "\n",
    "**Note:** You must supply a `place` string which returns a valid result in OSM. For this calculation, I manually had to create the \"Dowtown\" neighborhood from the [City's GIS](http://pvdgis.maps.arcgis.com/home/webmap/viewer.html?useExisting=1&layers=07555d51a34a4fa0a43e9c920f68970f). Other neighborhoods may or may not be on OSM. For example, Fox Point and College Hill are, but Upper South Providence is not."
   ]
  },
  {
   "cell_type": "code",
   "execution_count": 6,
   "metadata": {
    "pycharm": {
     "name": "#%%\n"
    }
   },
   "outputs": [],
   "source": [
    "place = \"Downtown, Providence, RI, USA\""
   ]
  },
  {
   "cell_type": "markdown",
   "metadata": {},
   "source": [
    "Because of the way OSM stores data and OSMnx retrieves it, we need to handle street parking separately from how we handle parking in lots, whether they be surface, underground, or multi-level.\n",
    "\n",
    "### Lot Parking\n",
    "\n",
    "We will use OSMnx to download \"footprints.\" These are effectively polygons representing the shapes of lots in the neighborhood. Each shape is \"tagged\" (in OSM parlance) with various bits of information (surface type, capacity, etc.).\n",
    "\n",
    "For OSMnx to retrieve the right footprints, we need to specify a type:"
   ]
  },
  {
   "cell_type": "code",
   "execution_count": 7,
   "metadata": {},
   "outputs": [],
   "source": [
    "footprint_type = \"parking\""
   ]
  },
  {
   "cell_type": "markdown",
   "metadata": {
    "pycharm": {
     "name": "#%% md\n"
    }
   },
   "source": [
    "Download the footprints from OSM, and them project them to UTM 19 via OSMnx (UTM Zone selected automatically):"
   ]
  },
  {
   "cell_type": "code",
   "execution_count": 8,
   "metadata": {
    "pycharm": {
     "name": "#%%\n"
    }
   },
   "outputs": [],
   "source": [
    "footprints_unprojected = ox.footprints.footprints_from_place(place, footprint_type=footprint_type)\n",
    "footprints = ox.project_gdf(footprints_unprojected)"
   ]
  },
  {
   "cell_type": "markdown",
   "metadata": {
    "pycharm": {
     "name": "#%% md\n"
    }
   },
   "source": [
    "`footprints_from_place` and `project_gdf` returnn GeoPandas `GeoDataFrame`s. Examine the first few entries of the latter:"
   ]
  },
  {
   "cell_type": "code",
   "execution_count": 9,
   "metadata": {
    "scrolled": true
   },
   "outputs": [
    {
     "data": {
      "text/html": [
       "<div>\n",
       "<style scoped>\n",
       "    .dataframe tbody tr th:only-of-type {\n",
       "        vertical-align: middle;\n",
       "    }\n",
       "\n",
       "    .dataframe tbody tr th {\n",
       "        vertical-align: top;\n",
       "    }\n",
       "\n",
       "    .dataframe thead th {\n",
       "        text-align: right;\n",
       "    }\n",
       "</style>\n",
       "<table border=\"1\" class=\"dataframe\">\n",
       "  <thead>\n",
       "    <tr style=\"text-align: right;\">\n",
       "      <th></th>\n",
       "      <th>nodes</th>\n",
       "      <th>highway</th>\n",
       "      <th>name</th>\n",
       "      <th>oneway</th>\n",
       "      <th>parking</th>\n",
       "      <th>surface</th>\n",
       "      <th>geometry</th>\n",
       "      <th>lanes</th>\n",
       "      <th>tiger:cfcc</th>\n",
       "      <th>tiger:reviewed</th>\n",
       "      <th>...</th>\n",
       "      <th>description</th>\n",
       "      <th>fee</th>\n",
       "      <th>building:levels</th>\n",
       "      <th>lit</th>\n",
       "      <th>parking:lane:both</th>\n",
       "      <th>tiger:name_direction_prefix</th>\n",
       "      <th>smoothness</th>\n",
       "      <th>maxspeed</th>\n",
       "      <th>members</th>\n",
       "      <th>type</th>\n",
       "    </tr>\n",
       "  </thead>\n",
       "  <tbody>\n",
       "    <tr>\n",
       "      <th>121498413</th>\n",
       "      <td>[1359954107, 1359954080, 1359954126, 135995408...</td>\n",
       "      <td>NaN</td>\n",
       "      <td>Rhode Island Convention Center</td>\n",
       "      <td>NaN</td>\n",
       "      <td>multi-storey</td>\n",
       "      <td>NaN</td>\n",
       "      <td>POLYGON ((299344.171 4633139.476, 299344.231 4...</td>\n",
       "      <td>NaN</td>\n",
       "      <td>NaN</td>\n",
       "      <td>NaN</td>\n",
       "      <td>...</td>\n",
       "      <td>NaN</td>\n",
       "      <td>NaN</td>\n",
       "      <td>NaN</td>\n",
       "      <td>NaN</td>\n",
       "      <td>NaN</td>\n",
       "      <td>NaN</td>\n",
       "      <td>NaN</td>\n",
       "      <td>NaN</td>\n",
       "      <td>NaN</td>\n",
       "      <td>NaN</td>\n",
       "    </tr>\n",
       "    <tr>\n",
       "      <th>141535719</th>\n",
       "      <td>[1549239929, 1549239995, 1549239920, 154923986...</td>\n",
       "      <td>NaN</td>\n",
       "      <td>Biltmore Garage</td>\n",
       "      <td>NaN</td>\n",
       "      <td>multi-storey</td>\n",
       "      <td>NaN</td>\n",
       "      <td>POLYGON ((299480.300 4633065.483, 299518.656 4...</td>\n",
       "      <td>NaN</td>\n",
       "      <td>NaN</td>\n",
       "      <td>NaN</td>\n",
       "      <td>...</td>\n",
       "      <td>NaN</td>\n",
       "      <td>NaN</td>\n",
       "      <td>NaN</td>\n",
       "      <td>NaN</td>\n",
       "      <td>NaN</td>\n",
       "      <td>NaN</td>\n",
       "      <td>NaN</td>\n",
       "      <td>NaN</td>\n",
       "      <td>NaN</td>\n",
       "      <td>NaN</td>\n",
       "    </tr>\n",
       "    <tr>\n",
       "      <th>141535724</th>\n",
       "      <td>[1549239764, 3190088397, 1549239673, 154923959...</td>\n",
       "      <td>NaN</td>\n",
       "      <td>NaN</td>\n",
       "      <td>NaN</td>\n",
       "      <td>multi-storey</td>\n",
       "      <td>NaN</td>\n",
       "      <td>POLYGON ((299920.958 4632965.162, 299927.951 4...</td>\n",
       "      <td>NaN</td>\n",
       "      <td>NaN</td>\n",
       "      <td>NaN</td>\n",
       "      <td>...</td>\n",
       "      <td>NaN</td>\n",
       "      <td>NaN</td>\n",
       "      <td>NaN</td>\n",
       "      <td>NaN</td>\n",
       "      <td>NaN</td>\n",
       "      <td>NaN</td>\n",
       "      <td>NaN</td>\n",
       "      <td>NaN</td>\n",
       "      <td>NaN</td>\n",
       "      <td>NaN</td>\n",
       "    </tr>\n",
       "    <tr>\n",
       "      <th>141535769</th>\n",
       "      <td>[1549239670, 7105448142, 7105448141, 154923954...</td>\n",
       "      <td>NaN</td>\n",
       "      <td>NaN</td>\n",
       "      <td>NaN</td>\n",
       "      <td>multi-storey</td>\n",
       "      <td>concrete:lanes</td>\n",
       "      <td>POLYGON ((299345.605 4632950.568, 299388.869 4...</td>\n",
       "      <td>NaN</td>\n",
       "      <td>NaN</td>\n",
       "      <td>NaN</td>\n",
       "      <td>...</td>\n",
       "      <td>NaN</td>\n",
       "      <td>NaN</td>\n",
       "      <td>NaN</td>\n",
       "      <td>NaN</td>\n",
       "      <td>NaN</td>\n",
       "      <td>NaN</td>\n",
       "      <td>NaN</td>\n",
       "      <td>NaN</td>\n",
       "      <td>NaN</td>\n",
       "      <td>NaN</td>\n",
       "    </tr>\n",
       "    <tr>\n",
       "      <th>141535777</th>\n",
       "      <td>[1549239863, 7107873191, 1549239787, 154923972...</td>\n",
       "      <td>NaN</td>\n",
       "      <td>NaN</td>\n",
       "      <td>NaN</td>\n",
       "      <td>multi-storey</td>\n",
       "      <td>NaN</td>\n",
       "      <td>POLYGON ((299862.573 4633016.029, 299886.587 4...</td>\n",
       "      <td>NaN</td>\n",
       "      <td>NaN</td>\n",
       "      <td>NaN</td>\n",
       "      <td>...</td>\n",
       "      <td>NaN</td>\n",
       "      <td>NaN</td>\n",
       "      <td>NaN</td>\n",
       "      <td>NaN</td>\n",
       "      <td>NaN</td>\n",
       "      <td>NaN</td>\n",
       "      <td>NaN</td>\n",
       "      <td>NaN</td>\n",
       "      <td>NaN</td>\n",
       "      <td>NaN</td>\n",
       "    </tr>\n",
       "  </tbody>\n",
       "</table>\n",
       "<p>5 rows × 54 columns</p>\n",
       "</div>"
      ],
      "text/plain": [
       "                                                       nodes highway  \\\n",
       "121498413  [1359954107, 1359954080, 1359954126, 135995408...     NaN   \n",
       "141535719  [1549239929, 1549239995, 1549239920, 154923986...     NaN   \n",
       "141535724  [1549239764, 3190088397, 1549239673, 154923959...     NaN   \n",
       "141535769  [1549239670, 7105448142, 7105448141, 154923954...     NaN   \n",
       "141535777  [1549239863, 7107873191, 1549239787, 154923972...     NaN   \n",
       "\n",
       "                                     name oneway       parking  \\\n",
       "121498413  Rhode Island Convention Center    NaN  multi-storey   \n",
       "141535719                 Biltmore Garage    NaN  multi-storey   \n",
       "141535724                             NaN    NaN  multi-storey   \n",
       "141535769                             NaN    NaN  multi-storey   \n",
       "141535777                             NaN    NaN  multi-storey   \n",
       "\n",
       "                  surface                                           geometry  \\\n",
       "121498413             NaN  POLYGON ((299344.171 4633139.476, 299344.231 4...   \n",
       "141535719             NaN  POLYGON ((299480.300 4633065.483, 299518.656 4...   \n",
       "141535724             NaN  POLYGON ((299920.958 4632965.162, 299927.951 4...   \n",
       "141535769  concrete:lanes  POLYGON ((299345.605 4632950.568, 299388.869 4...   \n",
       "141535777             NaN  POLYGON ((299862.573 4633016.029, 299886.587 4...   \n",
       "\n",
       "          lanes tiger:cfcc tiger:reviewed  ... description  fee  \\\n",
       "121498413   NaN        NaN            NaN  ...         NaN  NaN   \n",
       "141535719   NaN        NaN            NaN  ...         NaN  NaN   \n",
       "141535724   NaN        NaN            NaN  ...         NaN  NaN   \n",
       "141535769   NaN        NaN            NaN  ...         NaN  NaN   \n",
       "141535777   NaN        NaN            NaN  ...         NaN  NaN   \n",
       "\n",
       "          building:levels  lit parking:lane:both tiger:name_direction_prefix  \\\n",
       "121498413             NaN  NaN               NaN                         NaN   \n",
       "141535719             NaN  NaN               NaN                         NaN   \n",
       "141535724             NaN  NaN               NaN                         NaN   \n",
       "141535769             NaN  NaN               NaN                         NaN   \n",
       "141535777             NaN  NaN               NaN                         NaN   \n",
       "\n",
       "          smoothness maxspeed members type  \n",
       "121498413        NaN      NaN     NaN  NaN  \n",
       "141535719        NaN      NaN     NaN  NaN  \n",
       "141535724        NaN      NaN     NaN  NaN  \n",
       "141535769        NaN      NaN     NaN  NaN  \n",
       "141535777        NaN      NaN     NaN  NaN  \n",
       "\n",
       "[5 rows x 54 columns]"
      ]
     },
     "execution_count": 9,
     "metadata": {},
     "output_type": "execute_result"
    }
   ],
   "source": [
    "footprints.head()"
   ]
  },
  {
   "cell_type": "markdown",
   "metadata": {},
   "source": [
    "And take a look at the geometries (stored as [Shapely Polygons](https://shapely.readthedocs.io/en/stable/manual.html#polygons))."
   ]
  },
  {
   "cell_type": "code",
   "execution_count": 10,
   "metadata": {
    "scrolled": true
   },
   "outputs": [
    {
     "data": {
      "text/plain": [
       "121498413    POLYGON ((299344.171 4633139.476, 299344.231 4...\n",
       "141535719    POLYGON ((299480.300 4633065.483, 299518.656 4...\n",
       "141535724    POLYGON ((299920.958 4632965.162, 299927.951 4...\n",
       "141535769    POLYGON ((299345.605 4632950.568, 299388.869 4...\n",
       "141535777    POLYGON ((299862.573 4633016.029, 299886.587 4...\n",
       "Name: geometry, dtype: geometry"
      ]
     },
     "execution_count": 10,
     "metadata": {},
     "output_type": "execute_result"
    }
   ],
   "source": [
    "footprints.geometry.head()"
   ]
  },
  {
   "cell_type": "markdown",
   "metadata": {},
   "source": [
    "And plot these as well, using OSMnx's `plot_footprints` function:"
   ]
  },
  {
   "cell_type": "code",
   "execution_count": 11,
   "metadata": {
    "pycharm": {
     "name": "#%%\n"
    },
    "scrolled": false
   },
   "outputs": [
    {
     "data": {
      "image/png": "[encoded data removed]",
      "text/plain": [
       "<Figure size 432x288 with 1 Axes>"
      ]
     },
     "metadata": {},
     "output_type": "display_data"
    },
    {
     "data": {
      "text/plain": [
       "(<Figure size 432x288 with 1 Axes>,\n",
       " <matplotlib.axes._subplots.AxesSubplot at 0x127b442d0>)"
      ]
     },
     "execution_count": 11,
     "metadata": {},
     "output_type": "execute_result"
    }
   ],
   "source": [
    "ox.footprints.plot_footprints(footprints)"
   ]
  },
  {
   "cell_type": "markdown",
   "metadata": {},
   "source": [
    "### Street Parking\n",
    "\n",
    "Streets are defined as \"ways\" in OSM. Ideally, we would be able to pull these from OSM using the `osmnx.pois` module, but this is not currently possible because `osmnx.pois.create_poi_gdf` filters the dataset using the OSM `amenity` tag, which won't work since street parking is defined with the `parking:lane` tag. **Note:** [there is discussion](https://github.com/gboeing/osmnx/pull/342) on changing this in a future release of OSMnx.\n",
    "\n",
    "Instead, we will get *all* OSM data as JSON, and filter to the ways we want.\n",
    "\n",
    "First, we use `ox.gdf_from_place` to retrieve the geometry of the Downtown neighborhood:"
   ]
  },
  {
   "cell_type": "code",
   "execution_count": 12,
   "metadata": {},
   "outputs": [
    {
     "data": {
      "image/svg+xml": [
       "<svg xmlns=\"http://www.w3.org/2000/svg\" xmlns:xlink=\"http://www.w3.org/1999/xlink\" width=\"100.0\" height=\"100.0\" viewBox=\"-71.42108325599999 41.811119644 0.020872311999980298 0.024765911999999446\" preserveAspectRatio=\"xMinYMin meet\"><g transform=\"matrix(1,0,0,-1,0,83.6470052)\"><path fill-rule=\"evenodd\" fill=\"#66cc99\" stroke=\"#555555\" stroke-width=\"0.0004953182399999889\" opacity=\"0.6\" d=\"M -71.420166,41.821842 L -71.420143,41.821514 L -71.420105,41.821297 L -71.4200017,41.8209329 L -71.4198043,41.8205171 L -71.419521,41.8201077 L -71.419258,41.819794 L -71.4177865,41.8186288 L -71.4163619,41.8175702 L -71.4153126,41.8168979 L -71.414818,41.8165671 L -71.4137236,41.8159474 L -71.4125917,41.8154116 L -71.4120222,41.8151637 L -71.4110958,41.8148552 L -71.4106988,41.8147337 L -71.409676,41.814419 L -71.408966,41.814213 L -71.4085148,41.8140483 L -71.4082263,41.8139113 L -71.407852,41.813702 L -71.4077,41.813591 L -71.407379,41.81332 L -71.407204,41.813137 L -71.407043,41.812921 L -71.4068698,41.812704 L -71.4056073,41.8120412 L -71.4053806,41.8120369 L -71.4011282,41.8121672 L -71.4028028,41.814727 L -71.4059938,41.8202862 L -71.4057328,41.820337 L -71.4054806,41.8203557 L -71.405226,41.8203598 L -71.4049567,41.8203436 L -71.4046789,41.8203024 L -71.4044809,41.8202488 L -71.4043889,41.8203283 L -71.4043636,41.8203687 L -71.4043279,41.8204288 L -71.4044013,41.8205401 L -71.4044535,41.8206361 L -71.4044865,41.8208353 L -71.4045121,41.8208655 L -71.4048575,41.8211978 L -71.4049302,41.8212963 L -71.4053586,41.8217523 L -71.4057293,41.8221228 L -71.4060004,41.8223892 L -71.4061471,41.8225369 L -71.4062308,41.8226381 L -71.4064443,41.8228514 L -71.4058325,41.8231776 L -71.4061676,41.8235193 L -71.4063817,41.8237289 L -71.4066067,41.8239813 L -71.4066995,41.8240864 L -71.4068399,41.824266 L -71.406868,41.82431 L -71.4071336,41.824704 L -71.4073306,41.824997 L -71.4077893,41.8256255 L -71.4078477,41.8256958 L -71.4080521,41.8259161 L -71.408197,41.826076 L -71.408278,41.826207 L -71.4086712,41.8268404 L -71.40873,41.826935 L -71.409058,41.827488 L -71.409184,41.827695 L -71.409302,41.8278888 L -71.409351,41.827972 L -71.409447,41.828136 L -71.409538,41.828354 L -71.4095867,41.8285113 L -71.409637,41.828655 L -71.4103281,41.8285351 L -71.41069,41.828468 L -71.4107335,41.8285676 L -71.410749,41.82861 L -71.4108026,41.8287581 L -71.410828,41.828854 L -71.410851,41.828957 L -71.410866,41.829052 L -71.410873,41.829086 L -71.410962,41.829518 L -71.410995,41.829681 L -71.411034,41.829862 L -71.4110742,41.8300502 L -71.4113056,41.831133 L -71.411324,41.831219 L -71.4113373,41.831395 L -71.411331,41.831684 L -71.411308,41.831863 L -71.411255,41.832382 L -71.4112264,41.8325556 L -71.4111926,41.8327604 L -71.411175,41.832867 L -71.411163,41.832943 L -71.4112022,41.833057 L -71.4112229,41.8331026 L -71.4112602,41.8331595 L -71.4112962,41.8332105 L -71.4113405,41.833277 L -71.4114005,41.8333673 L -71.4114288,41.8334328 L -71.4114428,41.8334944 L -71.411453,41.8335623 L -71.411447,41.833648 L -71.411438,41.833694 L -71.41143,41.833771 L -71.411392,41.834003 L -71.411392,41.834042 L -71.411377,41.834118 L -71.411377,41.834164 L -71.411369,41.834209 L -71.411369,41.834286 L -71.411377,41.83432 L -71.411383,41.834428 L -71.4113949,41.8345775 L -71.411469,41.834923 L -71.4116733,41.8349683 L -71.411964,41.834957 L -71.412347,41.8349416 L -71.4128494,41.8349214 L -71.4130387,41.8349123 L -71.4131163,41.8349086 L -71.4136809,41.8348814 L -71.4141815,41.8348589 L -71.4143547,41.8348172 L -71.4153307,41.8347681 L -71.4153989,41.8347658 L -71.4159144,41.8347489 L -71.416084,41.834667 L -71.416115,41.834595 L -71.416328,41.834087 L -71.416656,41.833347 L -71.41673,41.833156 L -71.416786,41.833012 L -71.4169358,41.8326449 L -71.4171857,41.8320338 L -71.417305,41.831734 L -71.417419,41.831417 L -71.417526,41.831093 L -71.41758,41.830833 L -71.417648,41.830441 L -71.4177199,41.8298442 L -71.4178466,41.8290983 L -71.4180632,41.8282187 L -71.418218,41.82774 L -71.418557,41.826774 L -71.41863,41.826576 L -71.418732,41.826302 L -71.4189195,41.8258237 L -71.4190055,41.8255784 L -71.4192926,41.8248107 L -71.419533,41.82412 L -71.419708,41.823647 L -71.419818,41.82331 L -71.419922,41.823009 L -71.420067,41.822544 L -71.42012,41.822338 L -71.420151,41.82214 L -71.420166,41.821842 z\" /></g></svg>"
      ],
      "text/plain": [
       "<shapely.geometry.polygon.Polygon at 0x10f46f750>"
      ]
     },
     "execution_count": 12,
     "metadata": {},
     "output_type": "execute_result"
    }
   ],
   "source": [
    "downtown_poly = ox.gdf_from_place(\"Downtown, Providence, RI, USA\").geometry[0]\n",
    "downtown_poly"
   ]
  },
  {
   "cell_type": "markdown",
   "metadata": {},
   "source": [
    "Next, we extract the elements from this download, and filter:"
   ]
  },
  {
   "cell_type": "code",
   "execution_count": 13,
   "metadata": {},
   "outputs": [],
   "source": [
    "download = ox.osm_net_download(polygon=downtown_poly)[0]['elements']\n",
    "\n",
    "def is_way_with_parking(element):\n",
    "    match_tags = ['parking:lane:both', 'parking:lane:left', 'parking:lane:right']\n",
    "    \n",
    "    val = element['type'] == 'way'\n",
    "    val &= 'tags' in element and any(k in match_tags for k in element['tags'].keys())\n",
    "    \n",
    "    return val\n",
    "\n",
    "filtered = list(filter(is_way_with_parking, download))"
   ]
  },
  {
   "cell_type": "markdown",
   "metadata": {},
   "source": [
    "Next, we use a Pandas `DataFrame` to store useful values from that JSON.\n",
    "\n",
    "**Note:** this is Pandas, not GeoPandas. Currently, we are not storing any geospatial information about the streets."
   ]
  },
  {
   "cell_type": "code",
   "execution_count": 14,
   "metadata": {},
   "outputs": [
    {
     "data": {
      "text/html": [
       "<div>\n",
       "<style scoped>\n",
       "    .dataframe tbody tr th:only-of-type {\n",
       "        vertical-align: middle;\n",
       "    }\n",
       "\n",
       "    .dataframe tbody tr th {\n",
       "        vertical-align: top;\n",
       "    }\n",
       "\n",
       "    .dataframe thead th {\n",
       "        text-align: right;\n",
       "    }\n",
       "</style>\n",
       "<table border=\"1\" class=\"dataframe\">\n",
       "  <thead>\n",
       "    <tr style=\"text-align: right;\">\n",
       "      <th></th>\n",
       "      <th>highway</th>\n",
       "      <th>name</th>\n",
       "      <th>oneway</th>\n",
       "      <th>parking:lane:right</th>\n",
       "      <th>parking:lane:right:capacity</th>\n",
       "      <th>surface</th>\n",
       "      <th>parking:lane:both</th>\n",
       "      <th>parking:lane:both:capacity</th>\n",
       "      <th>parking:lane:left</th>\n",
       "      <th>parking:lane:left:capacity</th>\n",
       "      <th>lanes</th>\n",
       "      <th>lanes:backward</th>\n",
       "      <th>lanes:forward</th>\n",
       "      <th>parking:lane:left:parallel</th>\n",
       "      <th>parking:lane:right:parallel</th>\n",
       "      <th>name_1</th>\n",
       "      <th>parking:lane:both:parallel</th>\n",
       "      <th>parking</th>\n",
       "      <th>oneway:bicycle</th>\n",
       "    </tr>\n",
       "  </thead>\n",
       "  <tbody>\n",
       "    <tr>\n",
       "      <th>19352934</th>\n",
       "      <td>residential</td>\n",
       "      <td>Abbott Park Place</td>\n",
       "      <td>yes</td>\n",
       "      <td>parallel</td>\n",
       "      <td>8.0</td>\n",
       "      <td>asphalt</td>\n",
       "      <td>NaN</td>\n",
       "      <td>NaN</td>\n",
       "      <td>NaN</td>\n",
       "      <td>NaN</td>\n",
       "      <td>NaN</td>\n",
       "      <td>NaN</td>\n",
       "      <td>NaN</td>\n",
       "      <td>NaN</td>\n",
       "      <td>NaN</td>\n",
       "      <td>NaN</td>\n",
       "      <td>NaN</td>\n",
       "      <td>NaN</td>\n",
       "      <td>NaN</td>\n",
       "    </tr>\n",
       "    <tr>\n",
       "      <th>19357901</th>\n",
       "      <td>unclassified</td>\n",
       "      <td>Imperial Place</td>\n",
       "      <td>NaN</td>\n",
       "      <td>NaN</td>\n",
       "      <td>NaN</td>\n",
       "      <td>asphalt</td>\n",
       "      <td>parallel</td>\n",
       "      <td>10.0</td>\n",
       "      <td>NaN</td>\n",
       "      <td>NaN</td>\n",
       "      <td>NaN</td>\n",
       "      <td>NaN</td>\n",
       "      <td>NaN</td>\n",
       "      <td>NaN</td>\n",
       "      <td>NaN</td>\n",
       "      <td>NaN</td>\n",
       "      <td>NaN</td>\n",
       "      <td>NaN</td>\n",
       "      <td>NaN</td>\n",
       "    </tr>\n",
       "    <tr>\n",
       "      <th>19357921</th>\n",
       "      <td>primary</td>\n",
       "      <td>Washington Place</td>\n",
       "      <td>yes</td>\n",
       "      <td>NaN</td>\n",
       "      <td>NaN</td>\n",
       "      <td>asphalt</td>\n",
       "      <td>NaN</td>\n",
       "      <td>NaN</td>\n",
       "      <td>parallel</td>\n",
       "      <td>6.0</td>\n",
       "      <td>NaN</td>\n",
       "      <td>NaN</td>\n",
       "      <td>NaN</td>\n",
       "      <td>NaN</td>\n",
       "      <td>NaN</td>\n",
       "      <td>NaN</td>\n",
       "      <td>NaN</td>\n",
       "      <td>NaN</td>\n",
       "      <td>NaN</td>\n",
       "    </tr>\n",
       "    <tr>\n",
       "      <th>19359927</th>\n",
       "      <td>unclassified</td>\n",
       "      <td>Exchange Street</td>\n",
       "      <td>NaN</td>\n",
       "      <td>NaN</td>\n",
       "      <td>NaN</td>\n",
       "      <td>asphalt</td>\n",
       "      <td>NaN</td>\n",
       "      <td>NaN</td>\n",
       "      <td>parallel</td>\n",
       "      <td>4.0</td>\n",
       "      <td>NaN</td>\n",
       "      <td>NaN</td>\n",
       "      <td>NaN</td>\n",
       "      <td>NaN</td>\n",
       "      <td>NaN</td>\n",
       "      <td>NaN</td>\n",
       "      <td>NaN</td>\n",
       "      <td>NaN</td>\n",
       "      <td>NaN</td>\n",
       "    </tr>\n",
       "    <tr>\n",
       "      <th>19359928</th>\n",
       "      <td>unclassified</td>\n",
       "      <td>Exchange Street</td>\n",
       "      <td>NaN</td>\n",
       "      <td>parallel</td>\n",
       "      <td>4.0</td>\n",
       "      <td>asphalt</td>\n",
       "      <td>NaN</td>\n",
       "      <td>NaN</td>\n",
       "      <td>NaN</td>\n",
       "      <td>NaN</td>\n",
       "      <td>NaN</td>\n",
       "      <td>NaN</td>\n",
       "      <td>NaN</td>\n",
       "      <td>NaN</td>\n",
       "      <td>NaN</td>\n",
       "      <td>NaN</td>\n",
       "      <td>NaN</td>\n",
       "      <td>NaN</td>\n",
       "      <td>NaN</td>\n",
       "    </tr>\n",
       "  </tbody>\n",
       "</table>\n",
       "</div>"
      ],
      "text/plain": [
       "               highway               name oneway parking:lane:right  \\\n",
       "19352934   residential  Abbott Park Place    yes           parallel   \n",
       "19357901  unclassified     Imperial Place    NaN                NaN   \n",
       "19357921       primary   Washington Place    yes                NaN   \n",
       "19359927  unclassified    Exchange Street    NaN                NaN   \n",
       "19359928  unclassified    Exchange Street    NaN           parallel   \n",
       "\n",
       "          parking:lane:right:capacity  surface parking:lane:both  \\\n",
       "19352934                          8.0  asphalt               NaN   \n",
       "19357901                          NaN  asphalt          parallel   \n",
       "19357921                          NaN  asphalt               NaN   \n",
       "19359927                          NaN  asphalt               NaN   \n",
       "19359928                          4.0  asphalt               NaN   \n",
       "\n",
       "          parking:lane:both:capacity parking:lane:left  \\\n",
       "19352934                         NaN               NaN   \n",
       "19357901                        10.0               NaN   \n",
       "19357921                         NaN          parallel   \n",
       "19359927                         NaN          parallel   \n",
       "19359928                         NaN               NaN   \n",
       "\n",
       "          parking:lane:left:capacity lanes lanes:backward lanes:forward  \\\n",
       "19352934                         NaN   NaN            NaN           NaN   \n",
       "19357901                         NaN   NaN            NaN           NaN   \n",
       "19357921                         6.0   NaN            NaN           NaN   \n",
       "19359927                         4.0   NaN            NaN           NaN   \n",
       "19359928                         NaN   NaN            NaN           NaN   \n",
       "\n",
       "         parking:lane:left:parallel parking:lane:right:parallel name_1  \\\n",
       "19352934                        NaN                         NaN    NaN   \n",
       "19357901                        NaN                         NaN    NaN   \n",
       "19357921                        NaN                         NaN    NaN   \n",
       "19359927                        NaN                         NaN    NaN   \n",
       "19359928                        NaN                         NaN    NaN   \n",
       "\n",
       "         parking:lane:both:parallel parking oneway:bicycle  \n",
       "19352934                        NaN     NaN            NaN  \n",
       "19357901                        NaN     NaN            NaN  \n",
       "19357921                        NaN     NaN            NaN  \n",
       "19359927                        NaN     NaN            NaN  \n",
       "19359928                        NaN     NaN            NaN  "
      ]
     },
     "execution_count": 14,
     "metadata": {},
     "output_type": "execute_result"
    }
   ],
   "source": [
    "street_parking = pd.DataFrame()\n",
    "\n",
    "for f in filtered:\n",
    "        osmid = f['id']\n",
    "        tags = f.get('tags', {})\n",
    "        tags_to_copy = ['surface', 'highway', 'lanes', 'oneway', 'parking', 'name']\n",
    "        for t in tags.keys():\n",
    "            if any(t.startswith(c) for c in tags_to_copy):\n",
    "                if t.endswith(\":capacity\"):\n",
    "                    tags[t] = int(tags[t])\n",
    "                street_parking.loc[osmid, t] = tags[t]\n",
    "\n",
    "street_parking.head()"
   ]
  },
  {
   "cell_type": "markdown",
   "metadata": {},
   "source": [
    "Next, we filter out everything except the capacity columns... these are what we care about right now."
   ]
  },
  {
   "cell_type": "code",
   "execution_count": 15,
   "metadata": {},
   "outputs": [
    {
     "data": {
      "text/html": [
       "<div>\n",
       "<style scoped>\n",
       "    .dataframe tbody tr th:only-of-type {\n",
       "        vertical-align: middle;\n",
       "    }\n",
       "\n",
       "    .dataframe tbody tr th {\n",
       "        vertical-align: top;\n",
       "    }\n",
       "\n",
       "    .dataframe thead th {\n",
       "        text-align: right;\n",
       "    }\n",
       "</style>\n",
       "<table border=\"1\" class=\"dataframe\">\n",
       "  <thead>\n",
       "    <tr style=\"text-align: right;\">\n",
       "      <th></th>\n",
       "      <th>parking:lane:right:capacity</th>\n",
       "      <th>parking:lane:left:capacity</th>\n",
       "      <th>parking:lane:both:capacity</th>\n",
       "    </tr>\n",
       "  </thead>\n",
       "  <tbody>\n",
       "    <tr>\n",
       "      <th>19352934</th>\n",
       "      <td>8.0</td>\n",
       "      <td>NaN</td>\n",
       "      <td>NaN</td>\n",
       "    </tr>\n",
       "    <tr>\n",
       "      <th>19357901</th>\n",
       "      <td>NaN</td>\n",
       "      <td>NaN</td>\n",
       "      <td>10.0</td>\n",
       "    </tr>\n",
       "    <tr>\n",
       "      <th>19357921</th>\n",
       "      <td>NaN</td>\n",
       "      <td>6.0</td>\n",
       "      <td>NaN</td>\n",
       "    </tr>\n",
       "    <tr>\n",
       "      <th>19359927</th>\n",
       "      <td>NaN</td>\n",
       "      <td>4.0</td>\n",
       "      <td>NaN</td>\n",
       "    </tr>\n",
       "    <tr>\n",
       "      <th>19359928</th>\n",
       "      <td>4.0</td>\n",
       "      <td>NaN</td>\n",
       "      <td>NaN</td>\n",
       "    </tr>\n",
       "  </tbody>\n",
       "</table>\n",
       "</div>"
      ],
      "text/plain": [
       "          parking:lane:right:capacity  parking:lane:left:capacity  \\\n",
       "19352934                          8.0                         NaN   \n",
       "19357901                          NaN                         NaN   \n",
       "19357921                          NaN                         6.0   \n",
       "19359927                          NaN                         4.0   \n",
       "19359928                          4.0                         NaN   \n",
       "\n",
       "          parking:lane:both:capacity  \n",
       "19352934                         NaN  \n",
       "19357901                        10.0  \n",
       "19357921                         NaN  \n",
       "19359927                         NaN  \n",
       "19359928                         NaN  "
      ]
     },
     "execution_count": 15,
     "metadata": {},
     "output_type": "execute_result"
    }
   ],
   "source": [
    "capacity_tags = ['parking:lane:right:capacity', 'parking:lane:left:capacity', 'parking:lane:both:capacity']\n",
    "street_lane_capacities = street_parking[capacity_tags]\n",
    "street_lane_capacities.head()"
   ]
  },
  {
   "cell_type": "markdown",
   "metadata": {},
   "source": [
    "Now, we sum horizontally:"
   ]
  },
  {
   "cell_type": "code",
   "execution_count": 16,
   "metadata": {
    "scrolled": true
   },
   "outputs": [
    {
     "data": {
      "text/html": [
       "<div>\n",
       "<style scoped>\n",
       "    .dataframe tbody tr th:only-of-type {\n",
       "        vertical-align: middle;\n",
       "    }\n",
       "\n",
       "    .dataframe tbody tr th {\n",
       "        vertical-align: top;\n",
       "    }\n",
       "\n",
       "    .dataframe thead th {\n",
       "        text-align: right;\n",
       "    }\n",
       "</style>\n",
       "<table border=\"1\" class=\"dataframe\">\n",
       "  <thead>\n",
       "    <tr style=\"text-align: right;\">\n",
       "      <th></th>\n",
       "      <th>total</th>\n",
       "    </tr>\n",
       "  </thead>\n",
       "  <tbody>\n",
       "    <tr>\n",
       "      <th>19352934</th>\n",
       "      <td>8.0</td>\n",
       "    </tr>\n",
       "    <tr>\n",
       "      <th>19357901</th>\n",
       "      <td>10.0</td>\n",
       "    </tr>\n",
       "    <tr>\n",
       "      <th>19357921</th>\n",
       "      <td>6.0</td>\n",
       "    </tr>\n",
       "    <tr>\n",
       "      <th>19359927</th>\n",
       "      <td>4.0</td>\n",
       "    </tr>\n",
       "    <tr>\n",
       "      <th>19359928</th>\n",
       "      <td>4.0</td>\n",
       "    </tr>\n",
       "  </tbody>\n",
       "</table>\n",
       "</div>"
      ],
      "text/plain": [
       "          total\n",
       "19352934    8.0\n",
       "19357901   10.0\n",
       "19357921    6.0\n",
       "19359927    4.0\n",
       "19359928    4.0"
      ]
     },
     "execution_count": 16,
     "metadata": {},
     "output_type": "execute_result"
    }
   ],
   "source": [
    "street_capacities = pd.DataFrame()\n",
    "street_capacities['total'] = street_lane_capacities.sum(axis=1)\n",
    "street_capacities.head()"
   ]
  },
  {
   "cell_type": "markdown",
   "metadata": {},
   "source": [
    "And sum again to get the **total number of on-street parking spaces:**"
   ]
  },
  {
   "cell_type": "code",
   "execution_count": 17,
   "metadata": {},
   "outputs": [
    {
     "data": {
      "text/plain": [
       "2163"
      ]
     },
     "execution_count": 17,
     "metadata": {},
     "output_type": "execute_result"
    }
   ],
   "source": [
    "int(street_capacities.sum()['total'])"
   ]
  },
  {
   "cell_type": "markdown",
   "metadata": {},
   "source": [
    "## Calculations"
   ]
  },
  {
   "cell_type": "markdown",
   "metadata": {},
   "source": [
    "### Land use"
   ]
  },
  {
   "cell_type": "markdown",
   "metadata": {},
   "source": [
    "First, we calculate the total area of the neighborhood. First, we must project the polygon from CRS to UTM, again via OSMnx. We then extract the area in square meters:"
   ]
  },
  {
   "cell_type": "code",
   "execution_count": 18,
   "metadata": {},
   "outputs": [],
   "source": [
    "project_downtown_poly, _ = ox.project_geometry(downtown_poly)\n",
    "downtown_area = project_downtown_poly.area"
   ]
  },
  {
   "cell_type": "markdown",
   "metadata": {},
   "source": [
    "We'll do calculations in square meters for now, and then use this `convert_area` function to convert the area (via [python-measurement](https://github.com/coddingtonbear/python-measurement)) and round later on:"
   ]
  },
  {
   "cell_type": "code",
   "execution_count": 19,
   "metadata": {},
   "outputs": [
    {
     "data": {
      "text/plain": [
       "0.78"
      ]
     },
     "execution_count": 19,
     "metadata": {},
     "output_type": "execute_result"
    }
   ],
   "source": [
    "def convert_area(sq_meters, decimals=2):\n",
    "    area_obj = Area(sq_m=sq_meters)\n",
    "    return float(round(Decimal(area_obj.sq_mi), decimals))\n",
    "\n",
    "convert_area(downtown_area)"
   ]
  },
  {
   "cell_type": "markdown",
   "metadata": {},
   "source": [
    "Now, let's prepare a `GeoDataFrame` for land use calculations.\n",
    "\n",
    "Start by getting the footprints of surface lots, joining them into a single shape with a GeoPandas `unary_union`, and saving the area into the frame:"
   ]
  },
  {
   "cell_type": "code",
   "execution_count": 20,
   "metadata": {},
   "outputs": [
    {
     "data": {
      "image/svg+xml": [
       "<svg xmlns=\"http://www.w3.org/2000/svg\" xmlns:xlink=\"http://www.w3.org/1999/xlink\" width=\"300\" height=\"300\" viewBox=\"298963.96442378685 4631852.196731449 1481.3541020783596 2484.180843331851\" preserveAspectRatio=\"xMinYMin meet\"><g transform=\"matrix(1,0,0,-1,0,9266188.574306231)\"><g><path fill-rule=\"evenodd\" fill=\"#66cc99\" stroke=\"#555555\" stroke-width=\"16.56120562221234\" opacity=\"0.6\" d=\"M 299329.8152417367,4633865.64523096 L 299339.5988461335,4633864.814240328 L 299333.2810065375,4633790.349665055 L 299323.5302051188,4633791.168622075 L 299322.89634040196,4633783.707777535 L 299275.4848227451,4633787.664957392 L 299279.9351641687,4633840.646136944 L 299277.7926532905,4633840.117495291 L 299279.20604296273,4633850.467858952 L 299281.5444598167,4633850.2797876615 L 299289.49922883825,4633849.433542333 L 299290.15218642575,4633855.504791021 L 299311.7045410755,4633853.208987802 L 299313.6355642953,4633861.577878484 L 299311.5494096917,4633861.869963143 L 299310.81485421496,4633855.556536336 L 299284.8253511281,4633859.06628088 L 299282.5040074623,4633861.631938283 L 299286.17373333615,4633871.240919896 L 299289.1213912652,4633877.04754269 L 299294.3646065806,4633877.011060609 L 299316.035257471,4633918.483928639 L 299322.91011440975,4633917.068041281 L 299323.82199400116,4633921.709608223 L 299340.3266144944,4633918.1335686 L 299341.5400355464,4633917.543793299 L 299342.0526762719,4633915.973620329 L 299341.8426604093,4633912.645792976 L 299344.2799511819,4633912.1326968195 L 299344.70233472576,4633900.5638498925 L 299344.0881795669,4633893.802534279 L 299340.66221298487,4633894.032307644 L 299326.7789105334,4633895.367629393 L 299323.23016596644,4633896.845462854 L 299309.4431058844,4633874.141851006 L 299329.9143574898,4633872.709966569 L 299329.8152417367,4633865.64523096 z M 299313.6355642953,4633861.577878484 L 299315.525850584,4633861.413544924 L 299315.98532708606,4633866.8123806305 L 299314.3762772027,4633867.224384363 L 299313.6355642953,4633861.577878484 z\" /><path fill-rule=\"evenodd\" fill=\"#66cc99\" stroke=\"#555555\" stroke-width=\"16.56120562221234\" opacity=\"0.6\" d=\"M 300130.22728780017,4631984.396356777 L 300177.1746006174,4631985.103603117 L 300177.0321601007,4631987.141151291 L 300185.90461777756,4631987.225999382 L 300186.07933270046,4631959.629167742 L 300189.93733537104,4631959.654455641 L 300190.11142696824,4631944.203429351 L 300141.9337802512,4631945.286300002 L 300128.9467057691,4631982.009744639 L 300128.78041720344,4631983.49234555 L 300129.35136253247,4631984.287550076 L 300130.22728780017,4631984.396356777 z\" /><path fill-rule=\"evenodd\" fill=\"#66cc99\" stroke=\"#555555\" stroke-width=\"16.56120562221234\" opacity=\"0.6\" d=\"M 300092.0655253936,4632130.181796072 L 300099.70865693287,4632113.3990921285 L 300099.8343352771,4632111.950964695 L 300099.3629779211,4632110.8529385505 L 300095.00320112664,4632108.64152074 L 300071.27262728085,4632096.882968234 L 300067.3508608198,4632104.071453372 L 300081.84966386156,4632111.521535245 L 300083.0750432295,4632112.531754476 L 300081.2039375094,4632115.473404783 L 300081.58095722354,4632118.840993618 L 300078.8693960232,4632123.82864728 L 300092.0655253936,4632130.181796072 z\" /><path fill-rule=\"evenodd\" fill=\"#66cc99\" stroke=\"#555555\" stroke-width=\"16.56120562221234\" opacity=\"0.6\" d=\"M 299699.134525483,4632127.44710927 L 299702.88375525334,4632119.752072461 L 299704.01565873984,4632117.431137965 L 299707.36226857017,4632119.081815831 L 299712.04646915,4632109.749236407 L 299719.5322693172,4632105.74973471 L 299718.64284118067,4632100.718570318 L 299723.04893260536,4632097.172249516 L 299726.6155088728,4632096.2942491975 L 299726.93335664435,4632097.252103188 L 299719.90927206137,4632114.4401492495 L 299735.6348087542,4632122.044019197 L 299741.1712352877,4632110.19836127 L 299759.1827126548,4632118.9826954445 L 299759.98259409494,4632117.271159828 L 299775.0657841083,4632125.09316753 L 299792.16837912775,4632096.16544724 L 299789.41673109774,4632094.386908053 L 299791.25959583843,4632091.923799255 L 299787.8586018771,4632091.296947997 L 299784.03117184003,4632090.582055711 L 299780.08682685136,4632089.848222188 L 299778.70538818935,4632092.165034228 L 299776.1719117665,4632092.236143959 L 299739.41388700414,4632089.056377228 L 299731.96450955246,4632088.432081123 L 299730.5058333834,4632090.662172744 L 299728.6782247231,4632091.891395308 L 299722.7626516889,4632091.712992735 L 299717.236387823,4632093.557231484 L 299714.1868631144,4632093.309480459 L 299711.91351816826,4632090.506313272 L 299709.06316848216,4632091.430885203 L 299701.08219823235,4632095.855459324 L 299692.53858705726,4632104.518550138 L 299688.4711698622,4632110.355645659 L 299684.1505875499,4632118.7223659605 L 299690.83343780006,4632122.246244066 L 299686.36680011667,4632131.628292396 L 299694.92793889565,4632135.432800978 L 299699.134525483,4632127.44710927 z\" /><path fill-rule=\"evenodd\" fill=\"#66cc99\" stroke=\"#555555\" stroke-width=\"16.56120562221234\" opacity=\"0.6\" d=\"M 300070.3515248642,4632174.650810153 L 300071.07085219806,4632174.80844674 L 300081.4294220826,4632154.9603864355 L 300080.33891446545,4632154.313095562 L 300044.9632027417,4632137.2581620375 L 300052.39042343776,4632121.970507616 L 300049.2639182061,4632120.457964404 L 300053.30000360624,4632112.010567011 L 300024.00875605445,4632097.907752188 L 300018.1797942613,4632109.416878713 L 299971.7764107207,4632087.17082788 L 299955.07232253737,4632115.809086404 L 299981.5201651137,4632129.302384697 L 299980.4951261576,4632131.286902411 L 299967.74033549434,4632156.091757936 L 299982.4172249442,4632163.369959455 L 299983.266367962,4632161.634845711 L 299993.1336731715,4632165.780895019 L 299992.57566269836,4632167.818990671 L 300003.7368524151,4632173.640078757 L 300006.2406813862,4632168.658215782 L 300000.5255215049,4632165.840339335 L 300002.00192072976,4632163.05419188 L 300010.0011299111,4632147.417077587 L 299994.05783047515,4632139.740944928 L 299994.9939916321,4632137.847820128 L 299996.3042264263,4632137.733297397 L 300011.29520611267,4632144.947190283 L 300010.41064941976,4632146.605506428 L 300042.8940368318,4632163.0857180925 L 300043.61900689604,4632161.665239184 L 300057.78683379875,4632168.580039577 L 300050.97394172015,4632182.650337521 L 300063.73734579294,4632188.69330069 L 300070.3515248642,4632174.650810153 z\" /><path fill-rule=\"evenodd\" fill=\"#66cc99\" stroke=\"#555555\" stroke-width=\"16.56120562221234\" opacity=\"0.6\" d=\"M 299706.3333325746,4632169.183133366 L 299721.870418544,4632176.592235589 L 299727.2686108644,4632166.339514215 L 299711.6743003878,4632158.965343256 L 299706.3333325746,4632169.183133366 z\" /><path fill-rule=\"evenodd\" fill=\"#66cc99\" stroke=\"#555555\" stroke-width=\"16.56120562221234\" opacity=\"0.6\" d=\"M 300234.9555739969,4632239.380227104 L 300274.05686636374,4632258.898676191 L 300280.4605703349,4632241.484143445 L 300284.15127152106,4632241.180786818 L 300296.39518435986,4632240.26014632 L 300303.6016732813,4632226.279099693 L 300315.02577279863,4632230.81537418 L 300318.0670535066,4632228.39664776 L 300320.57871700457,4632227.5484747505 L 300323.5051071109,4632227.855488046 L 300325.68076830555,4632228.961380364 L 300353.31182796403,4632172.504100748 L 300348.9743820509,4632170.491932036 L 300340.1288509078,4632188.5859112255 L 300336.38932667556,4632187.145968053 L 300332.2443874185,4632193.496005172 L 300337.1960131095,4632194.87979391 L 300330.9286281902,4632207.667718123 L 300326.84290359565,4632206.926435546 L 300324.52959776204,4632208.624702739 L 300312.70978944993,4632203.910579251 L 300308.6925164454,4632213.335174184 L 300267.2552334572,4632194.115294751 L 300267.79346165014,4632192.555609569 L 300256.1729367842,4632187.83599568 L 300253.37787405937,4632185.391762629 L 300251.1207241992,4632181.37674047 L 300250.9960416736,4632176.924184803 L 300251.91875951533,4632175.142597298 L 300245.80158788746,4632172.213552742 L 300243.59884457884,4632170.14166802 L 300241.6333879542,4632169.418844183 L 300238.61289435247,4632173.470534453 L 300229.43494187784,4632192.151819345 L 300228.71154246747,4632194.816815384 L 300223.31669149315,4632196.901451326 L 300216.61506074114,4632194.177710514 L 300205.7928426964,4632217.961199466 L 300217.771101997,4632221.503915686 L 300226.5466808721,4632228.825642726 L 300227.2422484951,4632232.884391329 L 300208.96271108044,4632268.511358624 L 300217.4510275512,4632274.185379094 L 300234.9555739969,4632239.380227104 z\" /><path fill-rule=\"evenodd\" fill=\"#66cc99\" stroke=\"#555555\" stroke-width=\"16.56120562221234\" opacity=\"0.6\" d=\"M 299881.9415857126,4632167.910418463 L 299894.86094770656,4632141.278343891 L 299896.12103465083,4632138.487128051 L 299876.2720982029,4632128.498313055 L 299871.56982107984,4632126.229962184 L 299869.3775512016,4632128.9806613065 L 299856.70650826604,4632154.683491565 L 299833.0964497526,4632201.740146804 L 299831.59573661484,4632206.027187349 L 299859.3970376656,4632219.170903236 L 299881.9415857126,4632167.910418463 z\" /><path fill-rule=\"evenodd\" fill=\"#66cc99\" stroke=\"#555555\" stroke-width=\"16.56120562221234\" opacity=\"0.6\" d=\"M 300089.806634845,4632195.519057699 L 300093.8216517009,4632186.616666371 L 300108.12675583665,4632193.094331819 L 300105.6829755367,4632174.116243435 L 300104.84274311946,4632165.194346606 L 300103.45232924534,4632162.744143443 L 300100.59986905253,4632160.923866437 L 300097.3441024446,4632160.137228997 L 300094.13345487305,4632160.960619583 L 300091.9485387333,4632161.899726448 L 300090.95122039714,4632163.094472946 L 300088.1504805963,4632168.162409814 L 300076.9960149549,4632189.8663057815 L 300089.806634845,4632195.519057699 z\" /><path fill-rule=\"evenodd\" fill=\"#66cc99\" stroke=\"#555555\" stroke-width=\"16.56120562221234\" opacity=\"0.6\" d=\"M 299958.02648886235,4632192.99051623 L 299952.07189737307,4632189.934920887 L 299938.5681934044,4632182.9905873425 L 299943.8519481808,4632172.796819995 L 299940.9924880713,4632171.321284016 L 299944.60436266346,4632164.352544337 L 299933.8416027221,4632158.809291598 L 299919.7505259962,4632185.163008353 L 299914.660144445,4632195.729192992 L 299918.0082216497,4632197.435484994 L 299947.1676602458,4632211.5860017445 L 299948.6730766641,4632211.910490125 L 299941.7870325466,4632226.327444301 L 299962.10314993444,4632236.0921837315 L 299986.1317402866,4632186.446194127 L 299965.9001457694,4632176.734572094 L 299958.02648886235,4632192.99051623 z\" /><path fill-rule=\"evenodd\" fill=\"#66cc99\" stroke=\"#555555\" stroke-width=\"16.56120562221234\" opacity=\"0.6\" d=\"M 300023.6208240206,4632237.967686258 L 300033.5794683432,4632242.411256876 L 300036.1975881633,4632243.5824465435 L 300039.9667424825,4632234.80914653 L 300035.3796341476,4632232.493017261 L 300036.31466184254,4632229.966524793 L 300029.47583458293,4632226.50227462 L 300024.6325696551,4632235.805749044 L 300023.6208240206,4632237.967686258 z\" /><path fill-rule=\"evenodd\" fill=\"#66cc99\" stroke=\"#555555\" stroke-width=\"16.56120562221234\" opacity=\"0.6\" d=\"M 300042.90228752303,4632323.5146067105 L 300031.9689843899,4632344.790133334 L 300058.4155450907,4632358.272582801 L 300069.3489000797,4632336.997098295 L 300042.90228752303,4632323.5146067105 z\" /><path fill-rule=\"evenodd\" fill=\"#66cc99\" stroke=\"#555555\" stroke-width=\"16.56120562221234\" opacity=\"0.6\" d=\"M 299776.7503123814,4632258.850095299 L 299782.880097289,4632262.222887806 L 299784.01148445095,4632260.179789684 L 299788.92354741885,4632262.519978156 L 299794.3775851694,4632250.10993805 L 299798.1999560036,4632251.53616512 L 299801.56817649724,4632245.074236571 L 299798.32557814114,4632243.276139118 L 299816.28851494286,4632208.579211457 L 299796.7483400841,4632199.8154305965 L 299797.870081868,4632197.428122653 L 299788.86986997904,4632193.080203005 L 299787.4257536244,4632196.421113267 L 299782.1664462598,4632194.446266016 L 299766.81070435187,4632225.180765493 L 299771.5150450185,4632228.115731037 L 299769.37312100164,4632232.0651900945 L 299764.1072876047,4632229.85718043 L 299762.3356309091,4632234.262968275 L 299783.9274488933,4632244.747047006 L 299783.25102123735,4632245.821709817 L 299778.3306388905,4632243.481757993 L 299772.39526246407,4632255.327478851 L 299777.89198368136,4632257.17341617 L 299776.7503123814,4632258.850095299 z\" /><path fill-rule=\"evenodd\" fill=\"#66cc99\" stroke=\"#555555\" stroke-width=\"16.56120562221234\" opacity=\"0.6\" d=\"M 300051.9822321873,4632253.318890653 L 300072.3012180878,4632263.194972516 L 300071.682894683,4632264.267976898 L 300066.6766699139,4632274.876134893 L 300074.2662040336,4632278.730533148 L 300072.1705503135,4632282.556359496 L 300081.7015329377,4632287.167551388 L 300080.3463040537,4632289.828050675 L 300089.7231873436,4632294.576919641 L 300098.7035537234,4632276.278778023 L 300088.00109945185,4632270.800294325 L 300090.6274803247,4632265.148285667 L 300097.7404658083,4632268.015952418 L 300101.2874914982,4632259.026666297 L 300079.68711972283,4632247.9196088435 L 300084.2558333916,4632238.012690674 L 300085.6768074159,4632235.028092234 L 300060.26220513624,4632223.083436339 L 300047.09757204185,4632250.766623577 L 300043.6546948582,4632257.241627882 L 300048.79311163555,4632259.653430947 L 300051.9822321873,4632253.318890653 z\" /><path fill-rule=\"evenodd\" fill=\"#66cc99\" stroke=\"#555555\" stroke-width=\"16.56120562221234\" opacity=\"0.6\" d=\"M 299918.19957487227,4632229.744889973 L 299903.20398675685,4632222.364640126 L 299896.1820277865,4632236.674333819 L 299911.23594773683,4632243.764009795 L 299910.7087034762,4632244.823362274 L 299935.86186506704,4632257.21932542 L 299948.5133239571,4632263.420794402 L 299961.3031363325,4632237.503664712 L 299948.6516461625,4632231.302172082 L 299939.6515787425,4632226.954066787 L 299923.44463843893,4632219.063243672 L 299918.5927775415,4632228.94488253 L 299918.19957487227,4632229.744889973 z\" /><path fill-rule=\"evenodd\" fill=\"#66cc99\" stroke=\"#555555\" stroke-width=\"16.56120562221234\" opacity=\"0.6\" d=\"M 299675.8479150755,4632281.007556511 L 299686.33513081085,4632278.512787728 L 299717.94289748,4632225.308099562 L 299647.8131891638,4632190.895529638 L 299631.9046742052,4632221.168047376 L 299675.8479150755,4632281.007556511 z\" /><path fill-rule=\"evenodd\" fill=\"#66cc99\" stroke=\"#555555\" stroke-width=\"16.56120562221234\" opacity=\"0.6\" d=\"M 299972.96016621473,4632240.554928511 L 299997.8874936707,4632253.201908753 L 299993.3874492884,4632261.995728708 L 299975.5525294477,4632252.961420109 L 299977.27850855584,4632249.59042374 L 299970.1864303908,4632245.988870296 L 299959.38110748644,4632267.972113673 L 300011.3080408531,4632293.952480764 L 300025.4133304256,4632266.620660775 L 300022.9757909549,4632264.477637423 L 299998.9810089812,4632253.660192185 L 300005.2067490448,4632241.484283606 L 299994.0025733339,4632235.608842717 L 299991.40998441714,4632234.459176754 L 299979.0614828099,4632228.982552136 L 299972.96016621473,4632240.554928511 z\" /><path fill-rule=\"evenodd\" fill=\"#66cc99\" stroke=\"#555555\" stroke-width=\"16.56120562221234\" opacity=\"0.6\" d=\"M 299826.1010452586,4632254.909162559 L 299811.2357113212,4632248.025504471 L 299806.0755641145,4632259.060458541 L 299807.54588411935,4632259.319227719 L 299806.11414448556,4632263.693239079 L 299818.5275349143,4632269.70114319 L 299814.5265003466,4632277.903242515 L 299824.19306023547,4632281.710205651 L 299834.9664234909,4632286.152865147 L 299847.7559011418,4632261.424536638 L 299866.213540048,4632271.018907252 L 299873.38864918984,4632255.949239015 L 299848.050335667,4632243.180862989 L 299842.06095891306,4632254.883573029 L 299844.8075493535,4632256.484472141 L 299842.6946646863,4632259.988597437 L 299839.7375366457,4632261.54952259 L 299835.0454072384,4632259.936545589 L 299826.1010452586,4632254.909162559 z\" /><path fill-rule=\"evenodd\" fill=\"#66cc99\" stroke=\"#555555\" stroke-width=\"16.56120562221234\" opacity=\"0.6\" d=\"M 299881.05662060546,4632265.557449359 L 299891.08987833094,4632270.287653341 L 299900.1629182886,4632274.867009055 L 299895.84563982266,4632283.355738031 L 299894.193006256,4632282.524222265 L 299889.09578641516,4632292.546119201 L 299887.98056775786,4632291.610629235 L 299872.16575961583,4632284.064522127 L 299863.7256656578,4632302.63674856 L 299879.696708138,4632311.011880158 L 299899.75000765314,4632320.894931412 L 299915.42786004196,4632328.60050801 L 299926.0719047953,4632307.09953718 L 299942.65048518975,4632274.008625587 L 299904.511573602,4632254.753861748 L 299901.35206765507,4632260.954296869 L 299896.9673904165,4632258.74369962 L 299893.47678452206,4632265.586832384 L 299883.7556298431,4632260.4255986 L 299881.05662060546,4632265.557449359 z\" /><path fill-rule=\"evenodd\" fill=\"#66cc99\" stroke=\"#555555\" stroke-width=\"16.56120562221234\" opacity=\"0.6\" d=\"M 300187.36367977527,4632338.4573985245 L 300188.0429605553,4632329.470706653 L 300188.7051158334,4632317.795307148 L 300190.54516644543,4632306.92033861 L 300189.77704314736,4632307.097428213 L 300189.3451200779,4632307.109527333 L 300188.84083757375,4632306.912518868 L 300188.44942060055,4632306.5901130065 L 300188.22132851544,4632306.16312093 L 300188.2088869444,4632305.718975624 L 300188.3514641109,4632305.170476768 L 300193.19043380144,4632295.411636689 L 300186.78252343566,4632292.1907576695 L 300185.943431542,4632293.692204709 L 300185.5691210785,4632293.980498768 L 300185.12733576295,4632293.937312632 L 300178.04829711316,4632290.201848656 L 300163.0829112543,4632320.379967818 L 300167.1431143241,4632322.288665497 L 300167.4464870547,4632325.402736149 L 300168.0849068544,4632328.6074314555 L 300169.07265546283,4632330.3355103135 L 300181.1667185386,4632336.830795229 L 300182.4936219606,4632337.015870882 L 300186.0613270988,4632337.071500841 L 300186.95577897574,4632337.54650023 L 300187.36367977527,4632338.4573985245 z\" /><path fill-rule=\"evenodd\" fill=\"#66cc99\" stroke=\"#555555\" stroke-width=\"16.56120562221234\" opacity=\"0.6\" d=\"M 299776.4042453893,4632288.574327337 L 299782.92798499134,4632276.367609107 L 299758.6950445969,4632264.779767371 L 299753.0088168676,4632277.207470314 L 299776.4042453893,4632288.574327337 z\" /><path fill-rule=\"evenodd\" fill=\"#66cc99\" stroke=\"#555555\" stroke-width=\"16.56120562221234\" opacity=\"0.6\" d=\"M 300046.1244636534,4632287.520247079 L 300034.9357617054,4632281.599865011 L 300030.28988323675,4632286.675107907 L 300042.5738579135,4632292.820363261 L 300039.5028230139,4632298.918239965 L 300035.40529706865,4632296.866197483 L 300031.56259464344,4632304.496992006 L 300074.8730008493,4632324.99649093 L 300086.5010005656,4632302.401424996 L 300059.75247660384,4632288.827316222 L 300061.67555804603,4632285.072996989 L 300050.38946814375,4632279.533141297 L 300046.1244636534,4632287.520247079 z\" /><path fill-rule=\"evenodd\" fill=\"#66cc99\" stroke=\"#555555\" stroke-width=\"16.56120562221234\" opacity=\"0.6\" d=\"M 299800.87713018636,4632300.42218547 L 299805.9377745621,4632289.990085722 L 299807.1878357463,4632287.732525356 L 299794.4940298447,4632282.099221273 L 299788.1468900441,4632294.378757992 L 299794.337995184,4632297.272004614 L 299800.87713018636,4632300.42218547 z\" /><path fill-rule=\"evenodd\" fill=\"#66cc99\" stroke=\"#555555\" stroke-width=\"16.56120562221234\" opacity=\"0.6\" d=\"M 299759.16846116626,4632325.173415076 L 299772.2727868024,4632298.34696174 L 299745.5962619676,4632284.994216497 L 299741.81012483,4632292.556923288 L 299752.7785357577,4632297.727402912 L 299742.69292390754,4632318.079521589 L 299759.16846116626,4632325.173415076 z\" /><path fill-rule=\"evenodd\" fill=\"#66cc99\" stroke=\"#555555\" stroke-width=\"16.56120562221234\" opacity=\"0.6\" d=\"M 299981.39847903943,4632513.30472002 L 299986.57444831333,4632502.536146033 L 299973.2437941199,4632496.109211026 L 299966.9145348619,4632509.62155823 L 299981.39847903943,4632513.30472002 z\" /><path fill-rule=\"evenodd\" fill=\"#66cc99\" stroke=\"#555555\" stroke-width=\"16.56120562221234\" opacity=\"0.6\" d=\"M 299389.1682642883,4632537.138219195 L 299394.04498492077,4632533.789564626 L 299389.3467035676,4632526.93199109 L 299384.64110422437,4632531.931587435 L 299389.1682642883,4632537.138219195 z\" /><path fill-rule=\"evenodd\" fill=\"#66cc99\" stroke=\"#555555\" stroke-width=\"16.56120562221234\" opacity=\"0.6\" d=\"M 299397.7924734805,4632549.697173345 L 299402.5769115138,4632555.18549954 L 299405.95962161233,4632555.168149721 L 299407.55854708154,4632554.089725688 L 299415.6978754511,4632543.792962076 L 299413.0416463809,4632539.789402555 L 299397.7924734805,4632549.697173345 z\" /><path fill-rule=\"evenodd\" fill=\"#66cc99\" stroke=\"#555555\" stroke-width=\"16.56120562221234\" opacity=\"0.6\" d=\"M 299374.17551605694,4632524.836194678 L 299377.9202430913,4632520.252553537 L 299375.64763132867,4632517.771731159 L 299375.7902002703,4632516.634253166 L 299384.92876701447,4632509.354153898 L 299389.57055927336,4632504.74528851 L 299386.1646342915,4632500.096077732 L 299383.8511213885,4632499.11658083 L 299380.95774006785,4632496.731003838 L 299367.9495138598,4632507.109199779 L 299361.5286431168,4632513.779475482 L 299368.3763285184,4632519.031943761 L 299374.17551605694,4632524.836194678 z\" /><path fill-rule=\"evenodd\" fill=\"#66cc99\" stroke=\"#555555\" stroke-width=\"16.56120562221234\" opacity=\"0.6\" d=\"M 299903.07048852835,4632519.557736028 L 299925.22117296135,4632546.150558571 L 299929.7139740435,4632531.478431185 L 299943.71574144694,4632533.974904177 L 299945.00183250825,4632528.260408089 L 299939.91879008466,4632528.114059542 L 299913.09373130836,4632523.054756836 L 299906.6973931767,4632517.577995149 L 299903.07048852835,4632519.557736028 z\" /><path fill-rule=\"evenodd\" fill=\"#66cc99\" stroke=\"#555555\" stroke-width=\"16.56120562221234\" opacity=\"0.6\" d=\"M 299812.27116956166,4632526.606136319 L 299818.22575129045,4632528.483690539 L 299835.43520329427,4632553.159146696 L 299853.5922577251,4632537.847915816 L 299840.56749287166,4632521.589293257 L 299844.1623494568,4632495.363198488 L 299809.83729028597,4632492.014914332 L 299759.72279921547,4632490.899143681 L 299770.27467275574,4632506.1158144865 L 299756.97975923214,4632514.589984945 L 299776.68344911386,4632540.1620675 L 299804.1289035934,4632574.429028298 L 299831.69648734364,4632552.930699457 L 299812.27116956166,4632526.606136319 z M 299773.20115305844,4632509.389602692 L 299799.43376848695,4632520.876866783 L 299789.04958997504,4632529.991582318 L 299773.20115305844,4632509.389602692 z\" /><path fill-rule=\"evenodd\" fill=\"#66cc99\" stroke=\"#555555\" stroke-width=\"16.56120562221234\" opacity=\"0.6\" d=\"M 299710.49555173086,4632562.822817419 L 299716.6919865497,4632559.10395973 L 299743.03916628554,4632571.121190056 L 299748.5862315256,4632573.287936993 L 299752.05314031173,4632573.901792879 L 299755.8157220581,4632573.796156109 L 299758.89301307965,4632571.487282176 L 299762.3592693548,4632575.3348676395 L 299775.1084628502,4632566.375961671 L 299719.16959639115,4632491.626593577 L 299685.9376983263,4632516.551483351 L 299688.29705664003,4632520.941293961 L 299682.52723957284,4632525.348274366 L 299710.49555173086,4632562.822817419 z\" /><path fill-rule=\"evenodd\" fill=\"#66cc99\" stroke=\"#555555\" stroke-width=\"16.56120562221234\" opacity=\"0.6\" d=\"M 299611.82708723366,4632556.6376685025 L 299617.88363606896,4632565.1018500095 L 299626.19419229956,4632575.980779094 L 299630.7289401266,4632581.46514834 L 299639.2349988044,4632575.336618686 L 299640.8733688302,4632575.957338566 L 299649.860180765,4632588.4217058085 L 299638.79752080655,4632596.751400251 L 299645.5836771132,4632605.150655955 L 299647.61878075893,4632603.915573135 L 299649.1397641084,4632605.684169616 L 299656.4815735438,4632614.334523558 L 299666.8951241952,4632607.163441169 L 299659.28012899676,4632597.665095458 L 299668.9001661445,4632590.060698483 L 299666.11003980937,4632585.427408562 L 299668.9123829125,4632583.3929141 L 299679.7063438336,4632598.347072468 L 299683.6853993109,4632595.590565533 L 299691.2238819343,4632606.213436552 L 299711.0079787014,4632592.022921383 L 299678.2176346362,4632551.261192538 L 299674.85013909504,4632546.78857617 L 299675.86487964937,4632545.626610924 L 299667.2502521871,4632534.278334562 L 299661.78276017867,4632526.364300724 L 299660.6741579526,4632527.440005095 L 299656.8952484161,4632521.934386094 L 299610.3434023404,4632551.167599381 L 299613.33666375815,4632555.928512143 L 299611.82708723366,4632556.6376685025 z\" /><path fill-rule=\"evenodd\" fill=\"#66cc99\" stroke=\"#555555\" stroke-width=\"16.56120562221234\" opacity=\"0.6\" d=\"M 299540.71160085336,4632461.624672787 L 299573.3084621263,4632437.772617802 L 299548.77586613834,4632404.869201858 L 299542.6291965401,4632392.318233273 L 299538.9079964801,4632381.47708876 L 299524.59604347334,4632363.821657341 L 299510.6704323428,4632349.266867069 L 299498.38981966866,4632340.299854566 L 299487.24265303765,4632334.690285671 L 299485.55233151047,4632338.138201234 L 299479.8046119286,4632339.488806853 L 299474.73351627256,4632333.563987813 L 299470.7093321666,4632338.266547193 L 299465.29790836293,4632341.2301231995 L 299459.1929376494,4632346.1356508145 L 299454.5498088149,4632350.111090073 L 299452.8222336208,4632351.937649002 L 299461.42767804547,4632362.052478368 L 299464.7891157174,4632362.4580320995 L 299488.4963862994,4632345.578545991 L 299495.9072543767,4632355.782556777 L 299499.8203219606,4632352.449962161 L 299502.2789134295,4632355.336755473 L 299503.04577063303,4632355.115176534 L 299508.4580550682,4632361.941641148 L 299506.4452511675,4632363.676192002 L 299513.1287092359,4632372.844985382 L 299510.9314909971,4632374.22912135 L 299517.579070079,4632384.487943019 L 299521.75730283157,4632381.125682062 L 299530.1286005818,4632391.491640386 L 299536.8400311583,4632408.460579416 L 299517.31689329166,4632421.888582533 L 299516.03795689647,4632429.325397833 L 299540.71160085336,4632461.624672787 z\" /><path fill-rule=\"evenodd\" fill=\"#66cc99\" stroke=\"#555555\" stroke-width=\"16.56120562221234\" opacity=\"0.6\" d=\"M 299422.4764087084,4632456.1364413295 L 299429.7018269174,4632450.877106587 L 299428.2047354284,4632450.552494919 L 299426.21428016806,4632447.463651368 L 299484.00315423135,4632405.156280853 L 299476.19488097884,4632393.529954057 L 299476.56020107504,4632396.175551528 L 299474.97590009705,4632397.775829405 L 299466.29148266243,4632399.042323326 L 299463.650265513,4632397.9386635935 L 299461.689380881,4632391.17076862 L 299459.8104953584,4632384.067196065 L 299459.47576251184,4632382.509756124 L 299442.05356013065,4632360.08579558 L 299437.89300319145,4632354.02427531 L 299439.00110242394,4632353.226360957 L 299435.5281975548,4632348.856819245 L 299432.29952642263,4632348.1475102 L 299398.0015824061,4632373.881598571 L 299402.03345654154,4632387.780975244 L 299406.33148319717,4632384.8375463765 L 299409.8118233163,4632388.584569407 L 299434.0313090113,4632370.712590719 L 299430.75650776667,4632366.293031454 L 299436.7305400185,4632361.757868678 L 299438.58592670853,4632364.7727268 L 299434.3673140157,4632367.880587877 L 299446.12220948935,4632383.574176034 L 299450.9378006626,4632380.116164087 L 299452.3374828845,4632379.932348832 L 299453.6851995697,4632380.5612015035 L 299454.47465331363,4632381.439111232 L 299455.33628851455,4632384.293002162 L 299459.2424499235,4632398.751559419 L 299459.3923849535,4632400.536443378 L 299458.7830944578,4632401.631478447 L 299457.70116834773,4632402.4731039405 L 299454.0797517997,4632403.463916687 L 299412.30147134524,4632415.0399103975 L 299410.3737025192,4632419.205720377 L 299417.02138745575,4632442.7660240885 L 299418.3450498744,4632446.973746522 L 299421.7788264975,4632453.500188827 L 299422.36986814055,4632454.417011702 L 299422.49514514016,4632455.32470752 L 299422.4764087084,4632456.1364413295 z\" /><path fill-rule=\"evenodd\" fill=\"#66cc99\" stroke=\"#555555\" stroke-width=\"16.56120562221234\" opacity=\"0.6\" d=\"M 299858.5590273519,4632467.789437125 L 299876.34009698447,4632470.768697091 L 299880.6157320876,4632450.13528332 L 299862.63152355445,4632446.139370652 L 299858.5590273519,4632467.789437125 z\" /><path fill-rule=\"evenodd\" fill=\"#66cc99\" stroke=\"#555555\" stroke-width=\"16.56120562221234\" opacity=\"0.6\" d=\"M 299278.7430557924,4632421.597434776 L 299295.73455430975,4632443.766443734 L 299293.9133580931,4632445.217856908 L 299292.9712806295,4632445.711088329 L 299292.5157480692,4632445.179397229 L 299278.7355685289,4632455.301667946 L 299280.1223710106,4632455.251529448 L 299293.76680171257,4632464.824318315 L 299297.09300175123,4632466.342026003 L 299304.3971487641,4632457.679937555 L 299301.00801765744,4632453.630361801 L 299304.97865820467,4632455.007703323 L 299312.4946033929,4632450.917988128 L 299315.6902655784,4632442.182600958 L 299313.6011919439,4632442.385840752 L 299313.84585134254,4632440.445393478 L 299318.96698152414,4632441.645911211 L 299334.11050742236,4632431.818741115 L 299316.2422049445,4632408.618635265 L 299311.70798132685,4632412.324412806 L 299304.88615130895,4632403.859769782 L 299278.7430557924,4632421.597434776 z\" /><path fill-rule=\"evenodd\" fill=\"#66cc99\" stroke=\"#555555\" stroke-width=\"16.56120562221234\" opacity=\"0.6\" d=\"M 299774.474584256,4632474.505400154 L 299785.11971119227,4632474.684412411 L 299785.58924886514,4632442.845352944 L 299783.64457879646,4632436.643665755 L 299781.395813294,4632436.784576187 L 299773.96538932563,4632441.56034791 L 299774.5645018867,4632448.688795906 L 299772.69781917555,4632448.818983659 L 299774.474584256,4632474.505400154 z\" /><path fill-rule=\"evenodd\" fill=\"#66cc99\" stroke=\"#555555\" stroke-width=\"16.56120562221234\" opacity=\"0.6\" d=\"M 299420.4960674753,4632455.1809002245 L 299416.6734037681,4632447.831962868 L 299414.92419433425,4632442.680539414 L 299413.6403734164,4632439.594051879 L 299410.3992496177,4632439.918560724 L 299404.4511540447,4632441.530454093 L 299405.98485073866,4632446.999084279 L 299406.52062762924,4632450.384418573 L 299404.4223145681,4632452.03250695 L 299402.0080520065,4632449.244511514 L 299400.6445417787,4632448.349414999 L 299396.6438895704,4632450.928889014 L 299392.9566635466,4632446.031999789 L 299382.08646474534,4632452.927402436 L 299389.45854888036,4632462.9323746255 L 299389.56441781565,4632466.696509743 L 299392.9050805199,4632467.54710829 L 299396.6851639821,4632473.085906123 L 299420.4960674753,4632455.1809002245 z\" /><path fill-rule=\"evenodd\" fill=\"#66cc99\" stroke=\"#555555\" stroke-width=\"16.56120562221234\" opacity=\"0.6\" d=\"M 299249.3230442647,4632460.8299929 L 299281.60093128006,4632479.435035598 L 299285.3803903646,4632476.972842285 L 299292.57905964414,4632466.335694484 L 299289.9406217148,4632463.854078295 L 299268.3707432836,4632451.203940172 L 299269.09539898153,4632449.483343452 L 299268.6035155788,4632448.841552391 L 299265.2995880742,4632446.934294937 L 299258.70141509874,4632443.463997426 L 299252.323967178,4632452.266739683 L 299253.5618366918,4632452.831971956 L 299253.6717239601,4632454.373508395 L 299249.3230442647,4632460.8299929 z\" /><path fill-rule=\"evenodd\" fill=\"#66cc99\" stroke=\"#555555\" stroke-width=\"16.56120562221234\" opacity=\"0.6\" d=\"M 299211.9369289385,4632516.788925085 L 299225.8265990616,4632526.510254184 L 299239.01121530414,4632506.45899398 L 299250.8315636619,4632514.427288419 L 299255.0688746091,4632508.740695126 L 299256.5899758374,4632504.897429217 L 299259.96162806975,4632506.258265655 L 299260.99591680913,4632504.906776066 L 299262.2182337458,4632505.805820195 L 299274.440748686,4632489.371029832 L 299268.489632727,4632486.738174148 L 299266.7349206299,4632486.120810594 L 299263.9655395119,4632484.598558756 L 299259.5505405792,4632482.200289584 L 299242.14502123743,4632470.7220731545 L 299222.0546695631,4632501.480082583 L 299211.9369289385,4632516.788925085 z\" /><path fill-rule=\"evenodd\" fill=\"#66cc99\" stroke=\"#555555\" stroke-width=\"16.56120562221234\" opacity=\"0.6\" d=\"M 299341.88414270815,4632443.979296644 L 299325.5797314808,4632454.794781592 L 299327.2346976318,4632459.548791068 L 299322.8601172184,4632457.404932095 L 299320.2659043681,4632459.744857144 L 299331.02979137126,4632472.710264203 L 299333.5453322021,4632472.006083851 L 299334.629582189,4632474.498102264 L 299330.2759964024,4632477.532042553 L 299336.06958543183,4632485.203312395 L 299340.2328897194,4632488.997762005 L 299342.5242341388,4632489.188886332 L 299345.3067560106,4632489.110607579 L 299340.60751802725,4632493.15438479 L 299343.1179162584,4632496.995336817 L 299347.60813925206,4632494.09090916 L 299352.33526146726,4632499.903078873 L 299366.28051163425,4632490.9208873 L 299365.7133773038,4632489.081064565 L 299368.37010737555,4632486.894971622 L 299366.0533849048,4632483.437498533 L 299372.89835496794,4632480.022354214 L 299343.93617234624,4632442.754763597 L 299341.88414270815,4632443.979296644 z\" /><path fill-rule=\"evenodd\" fill=\"#66cc99\" stroke=\"#555555\" stroke-width=\"16.56120562221234\" opacity=\"0.6\" d=\"M 299881.6860688022,4632490.654323757 L 299892.43197896366,4632492.353062257 L 299896.5547087466,4632472.490703169 L 299917.1120363199,4632482.281849009 L 299919.3942196194,4632477.40617118 L 299922.3200203306,4632471.767910983 L 299926.708004924,4632462.543789854 L 299913.5772906903,4632456.433608981 L 299898.1664410591,4632452.309859326 L 299882.43309610884,4632449.728698093 L 299878.0447133124,4632472.565524906 L 299867.5783702597,4632470.758950262 L 299864.81777800387,4632487.616104499 L 299881.6860688022,4632490.654323757 z\" /><path fill-rule=\"evenodd\" fill=\"#66cc99\" stroke=\"#555555\" stroke-width=\"16.56120562221234\" opacity=\"0.6\" d=\"M 299894.614075299,4632493.39196826 L 299905.95873691264,4632495.396187516 L 299906.8017874975,4632490.483091125 L 299912.952181538,4632491.043970836 L 299915.79781667114,4632483.141031341 L 299898.1451132746,4632474.957482262 L 299894.614075299,4632493.39196826 z\" /><path fill-rule=\"evenodd\" fill=\"#66cc99\" stroke=\"#555555\" stroke-width=\"16.56120562221234\" opacity=\"0.6\" d=\"M 299796.6495909272,4632309.1418245165 L 299790.11046144064,4632305.9916477045 L 299783.286029767,4632304.227420455 L 299773.3570089239,4632323.941689796 L 299798.9180168996,4632336.948015422 L 299811.17016676976,4632344.027214302 L 299818.1132330247,4632329.286248141 L 299813.14889452275,4632326.858610882 L 299815.33388678636,4632322.074526612 L 299808.3454033898,4632318.314651885 L 299804.3745084444,4632325.515799655 L 299791.4318895991,4632319.900600355 L 299796.6495909272,4632309.1418245165 z\" /><path fill-rule=\"evenodd\" fill=\"#66cc99\" stroke=\"#555555\" stroke-width=\"16.56120562221234\" opacity=\"0.6\" d=\"M 299825.00451701006,4632323.658896831 L 299836.33600761474,4632329.330478358 L 299820.1528710979,4632342.13048283 L 299823.1546694115,4632346.01336056 L 299824.98735733714,4632348.817810604 L 299833.8283024325,4632354.014773598 L 299849.9419710567,4632379.621133395 L 299860.53433512873,4632372.878735083 L 299844.3900595893,4632346.773154917 L 299857.1300284553,4632338.948152552 L 299873.2745822386,4632365.064863866 L 299905.6067139295,4632344.466666354 L 299908.4646640072,4632341.741749846 L 299910.0145993801,4632339.209099724 L 299881.76510023227,4632323.6997453775 L 299865.38594210136,4632315.591646355 L 299851.9791407449,4632309.133710188 L 299835.55817652436,4632301.315770415 L 299825.00451701006,4632323.658896831 z\" /><path fill-rule=\"evenodd\" fill=\"#66cc99\" stroke=\"#555555\" stroke-width=\"16.56120562221234\" opacity=\"0.6\" d=\"M 299753.57591841876,4632365.512813135 L 299763.746460438,4632357.959792619 L 299765.27576641,4632359.728180865 L 299769.86746799224,4632356.876748591 L 299767.66329035675,4632355.349551954 L 299770.5425669593,4632352.201707286 L 299766.37541675934,4632350.040646403 L 299768.32823540847,4632346.4632005375 L 299782.22337427875,4632354.029624159 L 299790.29074359,4632340.846138819 L 299769.72338680737,4632331.311190005 L 299755.30396170635,4632358.074561859 L 299755.48415027314,4632360.347543079 L 299753.57591841876,4632365.512813135 z\" /><path fill-rule=\"evenodd\" fill=\"#66cc99\" stroke=\"#555555\" stroke-width=\"16.56120562221234\" opacity=\"0.6\" d=\"M 299679.47238569264,4632351.4583674325 L 299686.2241406024,4632360.403143157 L 299690.9559700094,4632357.214351098 L 299694.36599970167,4632361.719121242 L 299689.606248375,4632365.097606011 L 299696.20991419395,4632373.802075846 L 299705.1549551198,4632367.605756651 L 299708.1958459696,4632371.398592667 L 299710.53899214807,4632374.322030887 L 299718.04387189663,4632368.644001116 L 299725.65352369274,4632379.131568855 L 299704.72359970235,4632394.576538218 L 299699.7220511227,4632387.271683311 L 299673.8751818759,4632405.821836311 L 299684.1607658478,4632418.945632905 L 299708.8938155932,4632402.471472295 L 299722.7371450097,4632422.996283678 L 299738.85174008843,4632449.513601773 L 299775.96301027015,4632425.958040218 L 299776.64752132364,4632425.172070406 L 299776.2043494542,4632423.006482644 L 299774.0579887581,4632419.688567698 L 299770.621155364,4632415.706798676 L 299766.1634557238,4632409.709009671 L 299761.5959177499,4632404.53662334 L 299761.0684699589,4632404.106934845 L 299756.86137861374,4632407.036476816 L 299754.141661429,4632403.134594273 L 299757.710961951,4632400.878586802 L 299734.59753431723,4632372.601944812 L 299723.57837415865,4632360.587690118 L 299702.8390662309,4632333.978010065 L 299679.47238569264,4632351.4583674325 z\" /><path fill-rule=\"evenodd\" fill=\"#66cc99\" stroke=\"#555555\" stroke-width=\"16.56120562221234\" opacity=\"0.6\" d=\"M 299781.3891727356,4632356.88669852 L 299790.85325833526,4632365.033125327 L 299805.7227317059,4632356.670421148 L 299803.27390491054,4632352.349759621 L 299798.3733020304,4632348.34238575 L 299792.78172194224,4632344.298847402 L 299781.3891727356,4632356.88669852 z\" /><path fill-rule=\"evenodd\" fill=\"#66cc99\" stroke=\"#555555\" stroke-width=\"16.56120562221234\" opacity=\"0.6\" d=\"M 299766.33690491226,4632381.834269754 L 299770.533342784,4632380.005160137 L 299774.6898864034,4632376.754787396 L 299772.19179844606,4632370.679761173 L 299768.9474334073,4632366.4481164105 L 299757.7840655064,4632372.0954461945 L 299764.1266275514,4632381.274023612 L 299766.33690491226,4632381.834269754 z\" /><path fill-rule=\"evenodd\" fill=\"#66cc99\" stroke=\"#555555\" stroke-width=\"16.56120562221234\" opacity=\"0.6\" d=\"M 299946.7863869153,4632358.935592174 L 299926.73095679557,4632399.647111026 L 299951.39184769825,4632411.701308573 L 299971.4476851595,4632371.000965657 L 299946.7863869153,4632358.935592174 z\" /><path fill-rule=\"evenodd\" fill=\"#66cc99\" stroke=\"#555555\" stroke-width=\"16.56120562221234\" opacity=\"0.6\" d=\"M 299820.45529274887,4632398.817372922 L 299828.5078164201,4632393.9908591295 L 299830.1196037146,4632392.478792341 L 299829.42062234145,4632390.675977403 L 299831.63928412576,4632389.758061113 L 299820.7854644342,4632374.149728545 L 299809.2127952294,4632380.31963282 L 299809.59925315116,4632381.353350554 L 299820.45529274887,4632398.817372922 z\" /><path fill-rule=\"evenodd\" fill=\"#66cc99\" stroke=\"#555555\" stroke-width=\"16.56120562221234\" opacity=\"0.6\" d=\"M 299766.5214717268,4632385.151692697 L 299771.7030993029,4632392.951592467 L 299776.63221520913,4632389.979567594 L 299770.5213135693,4632380.761140196 L 299766.80072784587,4632383.254747351 L 299766.5214717268,4632385.151692697 z\" /><path fill-rule=\"evenodd\" fill=\"#66cc99\" stroke=\"#555555\" stroke-width=\"16.56120562221234\" opacity=\"0.6\" d=\"M 299881.33900143905,4632408.954742317 L 299885.2383987366,4632406.611752911 L 299893.2766701822,4632419.054347186 L 299915.0050030394,4632404.798802383 L 299916.1626660289,4632406.655431859 L 299904.9861813551,4632413.614157106 L 299904.7992975521,4632416.730864905 L 299904.4338368957,4632422.964047564 L 299914.0693157867,4632427.44984463 L 299938.4369381699,4632438.5343313785 L 299946.5972922923,4632425.992941984 L 299920.45266070165,4632412.013493119 L 299946.7863869153,4632358.935592174 L 299944.1614441303,4632356.631166311 L 299938.5557736719,4632367.789638344 L 299937.54262828256,4632368.418123084 L 299938.28602331167,4632369.730756887 L 299933.0326841583,4632373.000680812 L 299934.72961999004,4632375.708952307 L 299929.47234108945,4632379.134562978 L 299917.97217260196,4632385.224465666 L 299915.73481462477,4632381.92017678 L 299898.22507988533,4632392.768102065 L 299900.0018687489,4632395.951957917 L 299891.03127286583,4632401.537561495 L 299889.2209450377,4632398.343536237 L 299876.23890158115,4632377.983176042 L 299865.6910726575,4632384.535390679 L 299857.06321797677,4632390.189207465 L 299846.9204399175,4632395.474387599 L 299862.17637102824,4632420.438094487 L 299865.7654208023,4632418.292712137 L 299864.24060779286,4632415.201805339 L 299870.3202454989,4632412.942093695 L 299878.4639433926,4632408.402000834 L 299879.32778675924,4632410.1557447575 L 299881.33900143905,4632408.954742317 z\" /><path fill-rule=\"evenodd\" fill=\"#66cc99\" stroke=\"#555555\" stroke-width=\"16.56120562221234\" opacity=\"0.6\" d=\"M 299644.1117625864,4632255.929229455 L 299636.3738781253,4632246.212092474 L 299633.0639463579,4632241.42672348 L 299631.5572369299,4632240.168895845 L 299629.5597155354,4632238.60259585 L 299626.2931501541,4632238.616567824 L 299623.7145985663,4632239.7446790915 L 299620.0985201193,4632244.480129621 L 299616.342430832,4632253.108855661 L 299611.8254706257,4632266.315043767 L 299610.4132099822,4632277.000398826 L 299611.41747670923,4632280.494817217 L 299610.5567003486,4632282.108072468 L 299611.6375759309,4632303.1245962875 L 299616.98165199277,4632322.321157614 L 299617.9893423307,4632325.937716854 L 299619.77886712656,4632329.865684724 L 299621.3454860308,4632334.144399276 L 299620.7741490777,4632334.816081031 L 299627.10495506437,4632343.272573627 L 299641.73819013755,4632362.608256385 L 299668.38637069275,4632343.57987966 L 299654.404887373,4632323.770230797 L 299645.4181306934,4632311.0211437605 L 299632.0107268071,4632294.784712054 L 299636.3532041869,4632291.051202473 L 299629.39304592216,4632282.090096253 L 299651.1680019624,4632265.943329106 L 299644.1117625864,4632255.929229455 z M 299631.4455635902,4632249.806482516 L 299639.17026984214,4632259.646220948 L 299619.8841266636,4632274.13403613 L 299617.8584575944,4632272.157371635 L 299619.91060404305,4632258.209222572 L 299631.4455635902,4632249.806482516 z\" /><path fill-rule=\"evenodd\" fill=\"#66cc99\" stroke=\"#555555\" stroke-width=\"16.56120562221234\" opacity=\"0.6\" d=\"M 299980.120535981,4632292.837841755 L 299967.6169029378,4632286.86553572 L 299961.61595240224,4632299.346326825 L 299958.05321591336,4632297.69048724 L 299946.2536245722,4632292.220754755 L 299938.16886751854,4632309.538330736 L 299963.0420554939,4632320.853214151 L 299950.8318812512,4632345.498399327 L 299979.1110496443,4632359.40699945 L 300005.88442455546,4632305.383593854 L 299980.120535981,4632292.837841755 z M 299957.03229370667,4632309.009284651 L 299969.5564590404,4632314.825421606 L 299967.2084626263,4632319.136191447 L 299963.5014175812,4632317.373273024 L 299963.88963721367,4632316.395609821 L 299952.9177917475,4632311.391599453 L 299954.1363335374,4632308.601557663 L 299956.7430247477,4632309.661914508 L 299957.03229370667,4632309.009284651 z\" /><path fill-rule=\"evenodd\" fill=\"#66cc99\" stroke=\"#555555\" stroke-width=\"16.56120562221234\" opacity=\"0.6\" d=\"M 299815.9284923239,4632401.6113899555 L 299805.07244484953,4632384.147374163 L 299800.5276047698,4632375.340577017 L 299788.5435098725,4632382.844437593 L 299793.9348690603,4632392.194199075 L 299787.84903032763,4632396.009884169 L 299797.32367649965,4632412.234724503 L 299815.9284923239,4632401.6113899555 z\" /><path fill-rule=\"evenodd\" fill=\"#66cc99\" stroke=\"#555555\" stroke-width=\"16.56120562221234\" opacity=\"0.6\" d=\"M 299672.03783120186,4632423.275454872 L 299655.69210698723,4632402.154274983 L 299632.48097517085,4632419.241506271 L 299641.04627114517,4632428.235307171 L 299640.8644933978,4632431.529684223 L 299646.642761601,4632437.779229405 L 299644.66025174805,4632439.112843428 L 299655.154452128,4632455.520010072 L 299681.25851606764,4632435.184566471 L 299672.03783120186,4632423.275454872 z\" /><path fill-rule=\"evenodd\" fill=\"#66cc99\" stroke=\"#555555\" stroke-width=\"16.56120562221234\" opacity=\"0.6\" d=\"M 299971.8024199884,4632585.504212461 L 299975.00726284436,4632552.766184589 L 299972.7719301663,4632552.495502456 L 299959.70625791,4632579.520521298 L 299961.8491771526,4632580.349409395 L 299961.3463481742,4632582.574874316 L 299966.99434657814,4632585.083438747 L 299971.8024199884,4632585.504212461 z\" /><path fill-rule=\"evenodd\" fill=\"#66cc99\" stroke=\"#555555\" stroke-width=\"16.56120562221234\" opacity=\"0.6\" d=\"M 299889.9102146126,4632606.9035474695 L 299897.52962807345,4632610.645782139 L 299898.8021942918,4632611.265709794 L 299900.1593765656,4632611.93882562 L 299906.32898750016,4632614.966102293 L 299921.74287466204,4632582.763400801 L 299908.03313623404,4632577.636262219 L 299899.4279786342,4632596.535362126 L 299895.13901689707,4632594.766587437 L 299889.9102146126,4632606.9035474695 z\" /><path fill-rule=\"evenodd\" fill=\"#66cc99\" stroke=\"#555555\" stroke-width=\"16.56120562221234\" opacity=\"0.6\" d=\"M 299160.8321253963,4632672.690846085 L 299164.52398753806,4632668.00855498 L 299159.5665816089,4632664.647729541 L 299155.90374252154,4632668.884707811 L 299160.8321253963,4632672.690846085 z\" /><path fill-rule=\"evenodd\" fill=\"#66cc99\" stroke=\"#555555\" stroke-width=\"16.56120562221234\" opacity=\"0.6\" d=\"M 299172.8433097554,4632573.7851815475 L 299193.04299977084,4632588.851662234 L 299198.3453396919,4632582.023799004 L 299200.0345263353,4632582.676326867 L 299203.47916224145,4632578.067696119 L 299196.8206937638,4632573.043415382 L 299201.3495708053,4632567.381913447 L 299201.4987633004,4632565.299685551 L 299194.37841714395,4632564.833400863 L 299190.7578195571,4632562.601721641 L 299182.40014444024,4632560.703441743 L 299172.8433097554,4632573.7851815475 z\" /><path fill-rule=\"evenodd\" fill=\"#66cc99\" stroke=\"#555555\" stroke-width=\"16.56120562221234\" opacity=\"0.6\" d=\"M 299344.7607345823,4632629.55378809 L 299346.93220453267,4632630.803964791 L 299377.2587992362,4632593.668759178 L 299346.2381230069,4632569.4939683145 L 299315.7191819694,4632604.223320826 L 299344.7607345823,4632629.55378809 z\" /><path fill-rule=\"evenodd\" fill=\"#66cc99\" stroke=\"#555555\" stroke-width=\"16.56120562221234\" opacity=\"0.6\" d=\"M 299770.9843161741,4632602.162516681 L 299782.9692161676,4632592.925043749 L 299725.6859836789,4632566.796770874 L 299714.4695880384,4632575.279342535 L 299735.9827113248,4632604.011986038 L 299759.18376502657,4632586.5808615405 L 299770.9843161741,4632602.162516681 z\" /><path fill-rule=\"evenodd\" fill=\"#66cc99\" stroke=\"#555555\" stroke-width=\"16.56120562221234\" opacity=\"0.6\" d=\"M 299122.1292265193,4632642.577029167 L 299123.88057688886,4632643.961209963 L 299123.90997340204,4632645.004952957 L 299128.74559958733,4632649.058157554 L 299130.03947468655,4632648.3660822185 L 299136.7438359596,4632653.544581895 L 299178.8417055289,4632600.83067755 L 299160.8802527657,4632587.612552189 L 299148.2436024521,4632604.970450266 L 299149.47088231094,4632606.636094624 L 299122.1292265193,4632642.577029167 z\" /><path fill-rule=\"evenodd\" fill=\"#66cc99\" stroke=\"#555555\" stroke-width=\"16.56120562221234\" opacity=\"0.6\" d=\"M 299522.3326483887,4632638.484152381 L 299538.15592169925,4632613.514297974 L 299535.7748438865,4632611.903246644 L 299536.44764284603,4632610.406385374 L 299535.8470019642,4632610.034332709 L 299535.01993952284,4632608.1129058385 L 299537.3486829696,4632605.791632871 L 299538.86649950885,4632604.193234793 L 299545.24741878535,4632600.53570972 L 299539.13362433563,4632590.628580671 L 299523.35265974805,4632599.361998344 L 299512.5187484919,4632606.656238454 L 299502.9880834373,4632612.702606981 L 299501.92503686284,4632614.5104775205 L 299501.74887070403,4632620.07163932 L 299502.69035066,4632621.923171929 L 299504.3361314254,4632624.877260301 L 299506.4327343694,4632628.196498252 L 299510.21249493613,4632631.068375439 L 299522.3326483887,4632638.484152381 z\" /><path fill-rule=\"evenodd\" fill=\"#66cc99\" stroke=\"#555555\" stroke-width=\"16.56120562221234\" opacity=\"0.6\" d=\"M 299154.3257129489,4632667.7512255395 L 299173.57571682666,4632641.717197661 L 299170.01034011063,4632639.083927527 L 299169.5681581971,4632638.140707619 L 299170.1490666065,4632636.335245612 L 299174.95027398603,4632630.310455741 L 299178.7379938647,4632633.459753201 L 299183.75561104756,4632627.74002509 L 299186.44467108906,4632629.95347724 L 299188.39265836414,4632627.398329453 L 299189.3569007876,4632627.6934420075 L 299193.0718974932,4632624.421798409 L 299198.56247340963,4632616.899661702 L 299179.6848115208,4632603.318352534 L 299137.9146711822,4632655.567412278 L 299154.3257129489,4632667.7512255395 z\" /><path fill-rule=\"evenodd\" fill=\"#66cc99\" stroke=\"#555555\" stroke-width=\"16.56120562221234\" opacity=\"0.6\" d=\"M 299500.22848265583,4632725.660148174 L 299463.4318114553,4632765.343705433 L 299485.37124876643,4632785.862676091 L 299520.7693298594,4632744.329433883 L 299500.22848265583,4632725.660148174 z\" /><path fill-rule=\"evenodd\" fill=\"#66cc99\" stroke=\"#555555\" stroke-width=\"16.56120562221234\" opacity=\"0.6\" d=\"M 299252.9938935423,4632606.610812635 L 299253.20943840966,4632607.771552438 L 299240.4346413176,4632621.9994551595 L 299230.81014638906,4632634.449612493 L 299238.10003434203,4632644.190048567 L 299259.193466987,4632616.893130244 L 299267.5868087014,4632620.3573451955 L 299284.1740689002,4632606.022204366 L 299309.4119361841,4632577.408681851 L 299306.14434790047,4632574.722516387 L 299307.71701048093,4632572.711363028 L 299308.53893321205,4632573.266082448 L 299313.63677511876,4632560.64337494 L 299341.97508900106,4632528.764595114 L 299328.4516102606,4632518.165978028 L 299319.8598676507,4632534.242929558 L 299298.310182304,4632572.520449725 L 299295.97314039216,4632571.88612953 L 299293.3240698675,4632576.705685534 L 299288.1909278219,4632579.506007858 L 299277.92937114346,4632577.594521671 L 299263.8869280203,4632573.366946964 L 299253.6191035716,4632571.233422274 L 299249.5723661713,4632571.580682923 L 299247.06463314116,4632573.151446486 L 299236.56042251736,4632587.426567272 L 299234.4537428202,4632590.84182518 L 299235.7961226618,4632593.348789097 L 299252.9938935423,4632606.610812635 z\" /><path fill-rule=\"evenodd\" fill=\"#66cc99\" stroke=\"#555555\" stroke-width=\"16.56120562221234\" opacity=\"0.6\" d=\"M 299816.1678561459,4632590.21519651 L 299833.68696032884,4632612.303877574 L 299840.7612227681,4632615.872442294 L 299837.86663375323,4632616.398171536 L 299835.5960515888,4632619.017742892 L 299855.2559986946,4632644.235642306 L 299879.2143706759,4632628.017138844 L 299876.4777737111,4632624.693535212 L 299880.93079595774,4632616.31208993 L 299881.49299034465,4632615.018391886 L 299882.1962788459,4632613.4207007745 L 299884.7041995961,4632607.705244247 L 299900.3514976286,4632571.973318853 L 299872.10825782514,4632557.841812403 L 299864.08176935697,4632552.33304215 L 299816.1678561459,4632590.21519651 z\" /><path fill-rule=\"evenodd\" fill=\"#66cc99\" stroke=\"#555555\" stroke-width=\"16.56120562221234\" opacity=\"0.6\" d=\"M 299759.3717011451,4632630.580664106 L 299821.886441311,4632713.702240878 L 299854.1684418994,4632688.715703607 L 299858.60058554413,4632695.292096122 L 299871.5937428834,4632685.848675759 L 299803.99692539615,4632597.26869177 L 299759.3717011451,4632630.580664106 z\" /><path fill-rule=\"evenodd\" fill=\"#66cc99\" stroke=\"#555555\" stroke-width=\"16.56120562221234\" opacity=\"0.6\" d=\"M 299286.93865322,4632699.533381834 L 299310.4414454225,4632675.1469435 L 299310.09049362974,4632668.8782907855 L 299280.730127526,4632642.556817362 L 299259.9326104276,4632665.600390716 L 299247.01329390204,4632654.018146545 L 299238.10003434203,4632644.190048567 L 299211.04470264894,4632672.299402811 L 299247.278632851,4632698.8827318875 L 299252.1609906077,4632693.37799536 L 299265.34890437964,4632679.360726849 L 299286.93865322,4632699.533381834 z\" /><path fill-rule=\"evenodd\" fill=\"#66cc99\" stroke=\"#555555\" stroke-width=\"16.56120562221234\" opacity=\"0.6\" d=\"M 299937.86643097503,4632713.9483358925 L 299932.85743513436,4632707.843688534 L 299913.3903806228,4632671.707832489 L 299898.4713608074,4632702.874348237 L 299917.15401192824,4632727.641980635 L 299942.35900994635,4632760.31650658 L 299947.36537159345,4632759.809367114 L 299950.8588590617,4632751.299305062 L 299949.813601688,4632735.371249754 L 299945.3799091738,4632723.105313065 L 299937.86643097503,4632713.9483358925 z\" /><path fill-rule=\"evenodd\" fill=\"#66cc99\" stroke=\"#555555\" stroke-width=\"16.56120562221234\" opacity=\"0.6\" d=\"M 299735.8440757039,4632659.46673687 L 299749.6471661558,4632677.392402921 L 299740.62743854895,4632683.579676632 L 299761.62111168785,4632710.404516857 L 299788.82391972723,4632694.294615529 L 299747.5426601917,4632640.925046601 L 299739.24796295114,4632646.291869566 L 299744.75699139695,4632653.026872965 L 299735.8440757039,4632659.46673687 z\" /><path fill-rule=\"evenodd\" fill=\"#66cc99\" stroke=\"#555555\" stroke-width=\"16.56120562221234\" opacity=\"0.6\" d=\"M 299523.7260424708,4632667.059461547 L 299512.5078961108,4632688.477281943 L 299494.30032088433,4632706.980138707 L 299526.56451303366,4632736.398953878 L 299541.04584802606,4632718.700992522 L 299558.07187655265,4632697.786735108 L 299562.77223815746,4632692.009530338 L 299546.6381367444,4632681.072745889 L 299523.7260424708,4632667.059461547 z\" /><path fill-rule=\"evenodd\" fill=\"#66cc99\" stroke=\"#555555\" stroke-width=\"16.56120562221234\" opacity=\"0.6\" d=\"M 299786.63890614395,4632710.324461664 L 299745.53952074796,4632734.480994291 L 299767.5373416884,4632762.733372826 L 299818.31615829386,4632740.794446063 L 299821.6249224443,4632739.034717687 L 299811.2857799402,4632723.978707927 L 299801.08569936675,4632729.276709071 L 299786.63890614395,4632710.324461664 z\" /><path fill-rule=\"evenodd\" fill=\"#66cc99\" stroke=\"#555555\" stroke-width=\"16.56120562221234\" opacity=\"0.6\" d=\"M 299450.20309675287,4632888.763602368 L 299468.708489311,4632904.52294395 L 299484.1981531168,4632887.229863656 L 299486.5352760931,4632884.619407505 L 299469.527317942,4632869.495772512 L 299450.20309675287,4632888.763602368 z\" /><path fill-rule=\"evenodd\" fill=\"#66cc99\" stroke=\"#555555\" stroke-width=\"16.56120562221234\" opacity=\"0.6\" d=\"M 299959.9276585497,4632900.661997663 L 299967.3229936028,4632910.355694968 L 299980.4836748878,4632922.010160497 L 299982.49132725084,4632920.68704115 L 299984.2423796984,4632881.466799333 L 299959.9276585497,4632900.661997663 z\" /><path fill-rule=\"evenodd\" fill=\"#66cc99\" stroke=\"#555555\" stroke-width=\"16.56120562221234\" opacity=\"0.6\" d=\"M 299843.1986871488,4632882.801391582 L 299823.24712574447,4632902.552479793 L 299847.4621009407,4632927.498009564 L 299866.2458506136,4632912.635873992 L 299843.1986871488,4632882.801391582 z\" /><path fill-rule=\"evenodd\" fill=\"#66cc99\" stroke=\"#555555\" stroke-width=\"16.56120562221234\" opacity=\"0.6\" d=\"M 299944.1202520076,4632896.293746104 L 299927.91793891334,4632876.368158841 L 299914.9120093102,4632887.123116887 L 299923.3248510348,4632897.232721495 L 299921.2450492027,4632898.946815262 L 299929.00214579015,4632908.496978453 L 299944.1202520076,4632896.293746104 z\" /><path fill-rule=\"evenodd\" fill=\"#66cc99\" stroke=\"#555555\" stroke-width=\"16.56120562221234\" opacity=\"0.6\" d=\"M 299676.8904251016,4632914.7740993425 L 299685.7020603451,4632925.161164666 L 299719.3173827578,4632899.458611787 L 299711.7693482925,4632888.780433836 L 299676.8904251016,4632914.7740993425 z\" /><path fill-rule=\"evenodd\" fill=\"#66cc99\" stroke=\"#555555\" stroke-width=\"16.56120562221234\" opacity=\"0.6\" d=\"M 300158.3301846798,4632942.560534442 L 300176.5522095816,4632955.095846653 L 300185.45782310836,4632942.167117584 L 300167.02180359815,4632930.004486079 L 300158.3301846798,4632942.560534442 z\" /><path fill-rule=\"evenodd\" fill=\"#66cc99\" stroke=\"#555555\" stroke-width=\"16.56120562221234\" opacity=\"0.6\" d=\"M 300156.4322032806,4632945.425147804 L 300148.4891670996,4632957.404615497 L 300166.42113243835,4632969.081265346 L 300173.4871579731,4632956.059605794 L 300156.4322032806,4632945.425147804 z\" /><path fill-rule=\"evenodd\" fill=\"#66cc99\" stroke=\"#555555\" stroke-width=\"16.56120562221234\" opacity=\"0.6\" d=\"M 299821.30359219626,4633000.91838711 L 299802.580387375,4632983.875271258 L 299780.57842820126,4633007.851217185 L 299790.4822411556,4633016.885357536 L 299791.6516111292,4633015.607939596 L 299800.455014226,4633023.6395326555 L 299821.30359219626,4633000.91838711 z\" /><path fill-rule=\"evenodd\" fill=\"#66cc99\" stroke=\"#555555\" stroke-width=\"16.56120562221234\" opacity=\"0.6\" d=\"M 299862.572629077,4633016.028628028 L 299865.1216812001,4633017.412814402 L 299891.17589556496,4633004.246914481 L 299891.5740112157,4633001.846579723 L 299890.7688926226,4633000.702370672 L 299887.99508777354,4633000.491282666 L 299886.58676884114,4632997.697141869 L 299862.572629077,4633016.028628028 z\" /><path fill-rule=\"evenodd\" fill=\"#66cc99\" stroke=\"#555555\" stroke-width=\"16.56120562221234\" opacity=\"0.6\" d=\"M 299921.08419345267,4632984.76116163 L 299899.40434547106,4633000.382276507 L 299896.0475850672,4633008.721856755 L 299905.397014839,4633024.072426682 L 299875.9726560921,4633038.877474757 L 299881.2153016194,4633037.319080687 L 299908.9902225206,4633034.528376155 L 299910.2170248944,4633033.816099048 L 299945.2479515467,4633028.64392619 L 299944.91372452787,4633016.729714331 L 299921.08419345267,4632984.76116163 z\" /><path fill-rule=\"evenodd\" fill=\"#66cc99\" stroke=\"#555555\" stroke-width=\"16.56120562221234\" opacity=\"0.6\" d=\"M 299956.2910661797,4633063.782646591 L 299978.2510125821,4633060.521922159 L 299979.1942174337,4633035.770418984 L 299977.2383055588,4633032.713812276 L 299974.33869192924,4633031.572780414 L 299968.7265404669,4633030.330036532 L 299955.3949483829,4633028.2814947525 L 299954.28078307695,4633029.157289856 L 299953.24925984204,4633031.49760148 L 299951.6485021104,4633031.620292374 L 299956.2910661797,4633063.782646591 z\" /><path fill-rule=\"evenodd\" fill=\"#66cc99\" stroke=\"#555555\" stroke-width=\"16.56120562221234\" opacity=\"0.6\" d=\"M 299353.1759182938,4633067.513825895 L 299374.5732842945,4633043.964629155 L 299367.39980357175,4633035.387615614 L 299362.28786877904,4633035.975933589 L 299345.9457553936,4633049.537301243 L 299342.4889721849,4633053.412796375 L 299343.28043056506,4633057.6132552745 L 299353.1759182938,4633067.513825895 z\" /><path fill-rule=\"evenodd\" fill=\"#66cc99\" stroke=\"#555555\" stroke-width=\"16.56120562221234\" opacity=\"0.6\" d=\"M 299928.61508288805,4633065.948104106 L 299930.3320019818,4633065.522114171 L 299930.4581500974,4633067.3521187715 L 299950.68029145803,4633064.662344946 L 299951.4694008778,4633064.051252231 L 299951.2104773887,4633062.525006627 L 299946.8948154365,4633031.942554717 L 299946.0770457103,4633031.532112381 L 299944.45126701484,4633031.3554724315 L 299925.47888779006,4633034.154655953 L 299924.50986229826,4633034.870810596 L 299928.61508288805,4633065.948104106 z\" /><path fill-rule=\"evenodd\" fill=\"#66cc99\" stroke=\"#555555\" stroke-width=\"16.56120562221234\" opacity=\"0.6\" d=\"M 299811.43191375653,4633082.449340676 L 299829.1901055435,4633100.064060197 L 299839.0079088359,4633088.864998952 L 299845.5188213799,4633080.670215307 L 299847.1544721472,4633081.791108682 L 299847.81163767877,4633088.02894219 L 299869.06659717904,4633086.899015868 L 299868.45191177167,4633080.693326596 L 299870.3280756485,4633080.01838011 L 299869.62731715594,4633073.115025665 L 299862.85161457723,4633073.060708354 L 299861.3944277731,4633072.079263956 L 299859.91044075874,4633070.142906173 L 299857.1641103591,4633053.140234491 L 299845.49980482913,4633056.301267873 L 299841.6592260542,4633057.764774789 L 299838.41281790106,4633060.556206421 L 299830.24672332406,4633052.128861434 L 299825.48503781995,4633056.607466425 L 299820.7070732964,4633051.918804679 L 299801.88149022404,4633072.971873236 L 299811.43191375653,4633082.449340676 z\" /><path fill-rule=\"evenodd\" fill=\"#66cc99\" stroke=\"#555555\" stroke-width=\"16.56120562221234\" opacity=\"0.6\" d=\"M 299933.7448264542,4633094.140773054 L 299970.7717488692,4633089.612789956 L 299975.90775862755,4633070.622127944 L 299931.5249174207,4633076.045413569 L 299933.7448264542,4633094.140773054 z\" /><path fill-rule=\"evenodd\" fill=\"#66cc99\" stroke=\"#555555\" stroke-width=\"16.56120562221234\" opacity=\"0.6\" d=\"M 299094.0371841339,4633056.996418159 L 299110.81341089576,4633090.727984402 L 299152.4108639241,4633134.861805728 L 299161.3960108829,4633133.386374896 L 299161.59984626505,4633136.492123785 L 299182.76484872296,4633136.007197058 L 299182.5495980396,4633108.587705813 L 299170.0319768902,4633095.605264552 L 299141.55610828643,4633093.862506314 L 299102.8941742546,4633050.968418417 L 299094.0371841339,4633056.996418159 z\" /><path fill-rule=\"evenodd\" fill=\"#66cc99\" stroke=\"#555555\" stroke-width=\"16.56120562221234\" opacity=\"0.6\" d=\"M 299488.6757315132,4633132.7997625 L 299511.4146465786,4633108.17981168 L 299471.77990366984,4633071.689757746 L 299454.7765258751,4633093.070392239 L 299476.4542326441,4633118.797264353 L 299488.6757315132,4633132.7997625 z\" /><path fill-rule=\"evenodd\" fill=\"#66cc99\" stroke=\"#555555\" stroke-width=\"16.56120562221234\" opacity=\"0.6\" d=\"M 299055.971121688,4632904.583492252 L 299061.673109525,4632907.823248612 L 299061.8483066361,4632914.041294536 L 299064.48828333366,4632921.890101839 L 299060.57056271203,4632925.3342264695 L 299067.02457215043,4632931.664288252 L 299071.5058543085,4632933.471598754 L 299083.9167365654,4632937.633601512 L 299089.67653098115,4632937.615796807 L 299096.6653508867,4632932.540539534 L 299108.18561967195,4632920.725724864 L 299111.78802907385,4632915.234704113 L 299123.2321066946,4632904.8444587365 L 299120.4101634554,4632898.500941557 L 299113.5954577103,4632891.758719614 L 299074.23819254874,4632877.332221776 L 299071.8948761398,4632884.143508923 L 299067.69031105674,4632885.373216004 L 299060.1037119089,4632891.654376413 L 299055.971121688,4632904.583492252 z\" /><path fill-rule=\"evenodd\" fill=\"#66cc99\" stroke=\"#555555\" stroke-width=\"16.56120562221234\" opacity=\"0.6\" d=\"M 299393.81575531804,4632907.1626064805 L 299346.36934668757,4632960.014661019 L 299354.39343125804,4632971.345836946 L 299376.7412912502,4632945.525214775 L 299380.57301859406,4632941.383607736 L 299389.9675700943,4632950.020395847 L 299413.17665716633,4632924.964657698 L 299393.81575531804,4632907.1626064805 z\" /><path fill-rule=\"evenodd\" fill=\"#66cc99\" stroke=\"#555555\" stroke-width=\"16.56120562221234\" opacity=\"0.6\" d=\"M 299526.26142887527,4632934.975325789 L 299498.59548955783,4632910.316746665 L 299467.88774239103,4632944.506315486 L 299495.545368209,4632969.165009377 L 299526.26142887527,4632934.975325789 z\" /><path fill-rule=\"evenodd\" fill=\"#66cc99\" stroke=\"#555555\" stroke-width=\"16.56120562221234\" opacity=\"0.6\" d=\"M 299928.7215201984,4632976.712663058 L 299941.5688625569,4632996.754582507 L 299941.57259438455,4632995.109845038 L 299961.9428822006,4632986.137465044 L 299958.2377198059,4632979.98512531 L 299963.36155205034,4632977.152204448 L 299950.5726972699,4632959.786691582 L 299928.7215201984,4632976.712663058 z\" /><path fill-rule=\"evenodd\" fill=\"#66cc99\" stroke=\"#555555\" stroke-width=\"16.56120562221234\" opacity=\"0.6\" d=\"M 299396.4110658341,4633003.267739148 L 299415.3997159541,4632983.020162963 L 299387.7192261019,4632957.262276347 L 299382.2317338248,4632963.117323968 L 299368.73919244297,4632977.520795768 L 299369.6353195419,4632978.351242763 L 299396.4110658341,4633003.267739148 z\" /><path fill-rule=\"evenodd\" fill=\"#66cc99\" stroke=\"#555555\" stroke-width=\"16.56120562221234\" opacity=\"0.6\" d=\"M 299763.8922370465,4632990.239836988 L 299777.0314515695,4633002.305702828 L 299798.74753472547,4632979.693484388 L 299783.9264545237,4632967.230300888 L 299763.8922370465,4632990.239836988 z\" /><path fill-rule=\"evenodd\" fill=\"#66cc99\" stroke=\"#555555\" stroke-width=\"16.56120562221234\" opacity=\"0.6\" d=\"M 299533.27662645845,4632789.183187898 L 299549.6177817164,4632770.821777446 L 299527.48614949395,4632750.852529846 L 299511.4948954551,4632769.537527368 L 299533.27662645845,4632789.183187898 z\" /><path fill-rule=\"evenodd\" fill=\"#66cc99\" stroke=\"#555555\" stroke-width=\"16.56120562221234\" opacity=\"0.6\" d=\"M 300005.287803615,4632853.873518349 L 300080.7254903659,4632792.385054287 L 300082.7553813406,4632787.405375181 L 300078.6789071107,4632740.725474424 L 300078.9585679936,4632737.061667004 L 300081.5761657279,4632734.365774197 L 300062.19754477113,4632712.028642746 L 300051.1873976943,4632722.238424995 L 300068.8260391939,4632741.512841566 L 300054.335194011,4632753.575951357 L 300058.32020260976,4632757.553583512 L 300006.5469341644,4632800.365465745 L 300005.287803615,4632853.873518349 z\" /><path fill-rule=\"evenodd\" fill=\"#66cc99\" stroke=\"#555555\" stroke-width=\"16.56120562221234\" opacity=\"0.6\" d=\"M 299222.5758441626,4632830.038258347 L 299222.5147101898,4632828.161975232 L 299234.3548139391,4632815.2938156 L 299233.964180217,4632814.7047399 L 299239.44543207076,4632808.627506275 L 299238.44629672193,4632807.97777241 L 299238.4187908446,4632807.000651206 L 299238.9167301821,4632806.086525929 L 299240.7577334589,4632804.4567345455 L 299242.1431266916,4632805.540093752 L 299243.72339596425,4632803.506482109 L 299241.44108093856,4632801.2704508575 L 299235.26495820197,4632807.46725528 L 299226.3012611425,4632799.385254781 L 299232.28014685854,4632792.382786221 L 299235.14194485766,4632795.124787346 L 299250.9171224154,4632778.534343718 L 299245.7387556527,4632772.634934393 L 299234.42623477837,4632785.054831287 L 299228.34066125937,4632791.515790804 L 299216.0627810254,4632805.074142256 L 299213.74006406916,4632810.851334067 L 299214.1099911401,4632816.019321668 L 299216.8347510972,4632821.86554739 L 299217.81397556,4632824.760553928 L 299222.5758441626,4632830.038258347 z\" /><path fill-rule=\"evenodd\" fill=\"#66cc99\" stroke=\"#555555\" stroke-width=\"16.56120562221234\" opacity=\"0.6\" d=\"M 299410.96445856,4632793.411224333 L 299420.39486853493,4632783.811552875 L 299408.46521565324,4632771.934512678 L 299399.84227083216,4632782.167121528 L 299410.96445856,4632793.411224333 z\" /><path fill-rule=\"evenodd\" fill=\"#66cc99\" stroke=\"#555555\" stroke-width=\"16.56120562221234\" opacity=\"0.6\" d=\"M 299819.2583780811,4632830.33387425 L 299825.7034758843,4632826.597006153 L 299848.57276402623,4632778.705275109 L 299829.1558254177,4632751.769281254 L 299776.78070019477,4632773.397352506 L 299819.2583780811,4632830.33387425 z\" /><path fill-rule=\"evenodd\" fill=\"#66cc99\" stroke=\"#555555\" stroke-width=\"16.56120562221234\" opacity=\"0.6\" d=\"M 299389.5373613626,4632816.527697859 L 299395.7677385039,4632809.5960878935 L 299394.49196454056,4632807.976220245 L 299395.3817820364,4632806.217651866 L 299384.63453373767,4632795.596434698 L 299376.07714659756,4632804.315941321 L 299375.4459725206,4632803.744737585 L 299373.7451698074,4632802.38130323 L 299363.9966201603,4632813.079010842 L 299367.004863094,4632816.005852714 L 299379.6259491573,4632827.641125416 L 299389.5373613626,4632816.527697859 z\" /><path fill-rule=\"evenodd\" fill=\"#66cc99\" stroke=\"#555555\" stroke-width=\"16.56120562221234\" opacity=\"0.6\" d=\"M 299883.2029380255,4632819.638297661 L 299858.7281053142,4632786.032266586 L 299841.92514377274,4632816.396152305 L 299843.2978894629,4632818.513429335 L 299851.49248030246,4632821.728291326 L 299865.29432451644,4632836.0759940045 L 299883.2029380255,4632819.638297661 z\" /><path fill-rule=\"evenodd\" fill=\"#66cc99\" stroke=\"#555555\" stroke-width=\"16.56120562221234\" opacity=\"0.6\" d=\"M 299424.505411763,4632853.715374346 L 299475.66753814626,4632797.570189184 L 299446.2334338296,4632770.950139489 L 299406.07746821654,4632815.00678228 L 299419.92903765244,4632827.540957248 L 299408.9225718482,4632839.618584943 L 299413.0985093054,4632843.279359446 L 299424.505411763,4632853.715374346 z\" /><path fill-rule=\"evenodd\" fill=\"#66cc99\" stroke=\"#555555\" stroke-width=\"16.56120562221234\" opacity=\"0.6\" d=\"M 299947.5223416672,4632788.5193503285 L 299904.8502540584,4632826.24285098 L 299929.31279786496,4632859.127060001 L 299973.14519174,4632821.582290736 L 299947.5223416672,4632788.5193503285 z\" /><path fill-rule=\"evenodd\" fill=\"#66cc99\" stroke=\"#555555\" stroke-width=\"16.56120562221234\" opacity=\"0.6\" d=\"M 299607.86053342104,4632849.172191295 L 299620.8650159198,4632837.194325978 L 299608.951733969,4632822.038354993 L 299605.7694699127,4632822.972314742 L 299594.22611318436,4632809.150572938 L 299584.8777603145,4632819.014394956 L 299603.9502466065,4632836.324991349 L 299599.0114298053,4632841.008745969 L 299607.86053342104,4632849.172191295 z\" /><path fill-rule=\"evenodd\" fill=\"#66cc99\" stroke=\"#555555\" stroke-width=\"16.56120562221234\" opacity=\"0.6\" d=\"M 299386.82758299354,4632836.917451682 L 299385.7394136832,4632843.148800005 L 299388.1685306446,4632843.513855316 L 299387.9776416833,4632845.297214456 L 299390.50217990356,4632845.804048023 L 299390.1948844368,4632847.290645739 L 299392.6384246022,4632847.577509714 L 299394.0133741399,4632842.971623873 L 299394.487037548,4632842.080418184 L 299395.6392167865,4632843.148140342 L 299395.9620941997,4632845.761592826 L 299397.3736536096,4632851.322555104 L 299394.89212665695,4632856.481850938 L 299388.40026142984,4632863.276358731 L 299389.317255593,4632863.961760147 L 299383.80452528776,4632870.695393313 L 299384.8411193361,4632872.677584751 L 299395.83217725845,4632882.514067934 L 299408.8442563829,4632870.5244638575 L 299397.07427901967,4632859.88755024 L 299400.2949946845,4632853.229509777 L 299401.0191821053,4632849.71983595 L 299400.9251846209,4632847.85559101 L 299406.7765065152,4632845.179600474 L 299407.9954908654,4632844.189645393 L 299406.4907121138,4632840.04258245 L 299406.0852801493,4632837.153640908 L 299395.11091173405,4632827.61670553 L 299386.82758299354,4632836.917451682 z\" /><path fill-rule=\"evenodd\" fill=\"#66cc99\" stroke=\"#555555\" stroke-width=\"16.56120562221234\" opacity=\"0.6\" d=\"M 299877.5985266939,4632851.854793362 L 299902.3218980248,4632881.886824234 L 299920.03207987826,4632868.155093495 L 299895.095680982,4632834.973063648 L 299877.5985266939,4632851.854793362 z\" /><path fill-rule=\"evenodd\" fill=\"#66cc99\" stroke=\"#555555\" stroke-width=\"16.56120562221234\" opacity=\"0.6\" d=\"M 299980.99624175404,4632832.407798087 L 299935.8021796778,4632868.523885568 L 299950.908048774,4632887.291221475 L 299984.83403293526,4632860.181116462 L 299986.86993159854,4632839.710583172 L 299980.99624175404,4632832.407798087 z\" /><path fill-rule=\"evenodd\" fill=\"#66cc99\" stroke=\"#555555\" stroke-width=\"16.56120562221234\" opacity=\"0.6\" d=\"M 299140.6767359297,4632871.993635043 L 299188.61042594875,4632894.924497583 L 299201.02965006046,4632900.564424817 L 299211.74597094604,4632900.929451535 L 299215.022284064,4632898.614718797 L 299242.9253315994,4632875.848764957 L 299199.785671629,4632825.679287549 L 299194.78318964835,4632821.008444326 L 299191.1599538625,4632820.154790601 L 299166.1179678383,4632841.506876965 L 299148.1713224477,4632860.081140923 L 299140.6767359297,4632871.993635043 z\" /><path fill-rule=\"evenodd\" fill=\"#66cc99\" stroke=\"#555555\" stroke-width=\"16.56120562221234\" opacity=\"0.6\" d=\"M 299455.30967498315,4632833.591256038 L 299422.52286982007,4632869.228524754 L 299444.74140772084,4632889.628387938 L 299453.27028545365,4632880.487490381 L 299451.19395355356,4632878.478966229 L 299475.9579002785,4632851.946237098 L 299455.30967498315,4632833.591256038 z\" /><path fill-rule=\"evenodd\" fill=\"#66cc99\" stroke=\"#555555\" stroke-width=\"16.56120562221234\" opacity=\"0.6\" d=\"M 299514.0105958327,4633129.264891727 L 299526.4040452546,4633115.681570738 L 299522.62809662503,4633111.753911302 L 299508.953374941,4633127.362386132 L 299509.8954948101,4633127.16921221 L 299512.0234554795,4633127.765018799 L 299513.3819572255,4633128.782506126 L 299514.0105958327,4633129.264891727 z\" /><path fill-rule=\"evenodd\" fill=\"#66cc99\" stroke=\"#555555\" stroke-width=\"16.56120562221234\" opacity=\"0.6\" d=\"M 299936.1743113904,4633126.52078275 L 299949.48184010584,4633125.347361116 L 299950.415328122,4633118.92044 L 299935.4113303808,4633120.063666682 L 299936.1743113904,4633126.52078275 z\" /><path fill-rule=\"evenodd\" fill=\"#66cc99\" stroke=\"#555555\" stroke-width=\"16.56120562221234\" opacity=\"0.6\" d=\"M 299828.2829011872,4633278.865794723 L 299839.2970242045,4633288.680016872 L 299845.5030118402,4633294.206478307 L 299847.2883098937,4633295.034246226 L 299848.8745794026,4633294.989721531 L 299850.62641915766,4633294.3293679645 L 299872.45842608716,4633271.136221844 L 299873.2211256185,4633269.881340643 L 299873.2649119777,4633268.479949897 L 299872.7046069098,4633267.173299796 L 299865.2712085691,4633260.558911348 L 299853.8826204225,4633250.432899999 L 299828.2829011872,4633278.865794723 z\" /><path fill-rule=\"evenodd\" fill=\"#66cc99\" stroke=\"#555555\" stroke-width=\"16.56120562221234\" opacity=\"0.6\" d=\"M 299579.26417508064,4633302.762460483 L 299683.0361152049,4633347.185435567 L 299697.73848753213,4633314.3130636485 L 299590.31789305084,4633268.725580599 L 299582.3779712446,4633286.684163697 L 299582.5464939751,4633292.680136575 L 299579.26417508064,4633302.762460483 z\" /><path fill-rule=\"evenodd\" fill=\"#66cc99\" stroke=\"#555555\" stroke-width=\"16.56120562221234\" opacity=\"0.6\" d=\"M 299791.365097424,4633331.352659661 L 299794.98795175034,4633334.573550456 L 299798.36185156915,4633337.512510061 L 299799.26670043205,4633338.064950476 L 299800.0733354577,4633338.375675544 L 299800.8740472724,4633338.475431316 L 299801.9272270225,4633338.390300499 L 299802.83848586294,4633337.9868946215 L 299813.70657904143,4633330.758748369 L 299819.77649319253,4633325.221054235 L 299832.88642232516,4633311.395913329 L 299833.22608510475,4633310.7640842 L 299833.6065392853,4633309.808850422 L 299833.6951802743,4633309.117393349 L 299833.7087640469,4633308.416930806 L 299833.54420125094,4633307.588120201 L 299832.99272906967,4633306.892406937 L 299827.51760800637,4633302.234431662 L 299823.77785990434,4633298.9945811285 L 299817.8820353451,4633305.405262522 L 299816.47460535564,4633304.122397775 L 299793.6736222728,4633328.909788757 L 299791.365097424,4633331.352659661 z\" /><path fill-rule=\"evenodd\" fill=\"#66cc99\" stroke=\"#555555\" stroke-width=\"16.56120562221234\" opacity=\"0.6\" d=\"M 299732.78033838526,4633324.674593783 L 299742.77229321306,4633314.070545875 L 299733.1593557616,4633304.728284563 L 299728.9414812291,4633309.325046355 L 299731.7375299938,4633313.291435555 L 299731.90156272077,4633319.131956657 L 299732.3884091762,4633323.7410463 L 299732.78033838526,4633324.674593783 z\" /><path fill-rule=\"evenodd\" fill=\"#66cc99\" stroke=\"#555555\" stroke-width=\"16.56120562221234\" opacity=\"0.6\" d=\"M 299721.59125119005,4633536.191390737 L 299724.327773405,4633538.337009153 L 299730.1866297256,4633538.905865605 L 299733.2323172926,4633536.375589226 L 299739.27613416495,4633530.805205474 L 299750.08917125873,4633526.956657324 L 299755.04487740365,4633527.328651012 L 299759.5479038502,4633528.746815161 L 299772.23348178284,4633527.946077276 L 299779.32190300163,4633526.424650457 L 299784.45515094657,4633514.768051772 L 299789.0589769137,4633502.90407548 L 299792.4177118527,4633494.353223808 L 299794.0931180394,4633487.716523317 L 299797.3215899762,4633482.814202228 L 299797.25223917,4633479.160167336 L 299786.9117856714,4633467.282422344 L 299785.21223463863,4633465.363247786 L 299782.59514949936,4633461.847425737 L 299779.70802628656,4633464.10652735 L 299777.57704543066,4633465.766552299 L 299775.5439378788,4633466.768197462 L 299774.109291989,4633467.475227751 L 299773.4044264618,4633467.828393195 L 299771.1748092241,4633468.935569523 L 299768.9767392139,4633469.686263575 L 299766.5552594309,4633470.176534228 L 299764.9680928234,4633470.187767649 L 299763.8443565727,4633470.719382987 L 299760.97895575745,4633473.455716461 L 299758.9554358915,4633475.390539936 L 299757.19498088397,4633477.517999766 L 299755.64690882224,4633479.217224026 L 299754.0182835293,4633481.007610193 L 299752.29249540827,4633482.889624798 L 299750.71214179974,4633484.623094118 L 299749.15576802765,4633486.322553146 L 299747.3254496728,4633488.329741335 L 299745.95498470915,4633489.546146238 L 299740.49008481996,4633495.311397963 L 299723.237147267,4633515.487179022 L 299719.00381501194,4633521.895714682 L 299716.5978287689,4633525.008098698 L 299716.4734049138,4633528.567566931 L 299717.9598755826,4633533.848660571 L 299721.59125119005,4633536.191390737 z\" /><path fill-rule=\"evenodd\" fill=\"#66cc99\" stroke=\"#555555\" stroke-width=\"16.56120562221234\" opacity=\"0.6\" d=\"M 299821.6654950159,4633535.50361057 L 299859.2923599384,4633544.437399215 L 299860.84996653773,4633536.859469291 L 299861.8364772338,4633537.065139282 L 299866.69388178183,4633513.503855587 L 299830.0115290689,4633508.021685995 L 299821.6654950159,4633535.50361057 z\" /><path fill-rule=\"evenodd\" fill=\"#66cc99\" stroke=\"#555555\" stroke-width=\"16.56120562221234\" opacity=\"0.6\" d=\"M 299311.075274508,4633654.580351916 L 299312.4818406662,4633665.57543261 L 299311.32110647147,4633669.219653259 L 299312.2961879616,4633675.51519654 L 299326.21912281134,4633673.8009349685 L 299324.06232171296,4633652.9813311435 L 299311.075274508,4633654.580351916 z\" /><path fill-rule=\"evenodd\" fill=\"#66cc99\" stroke=\"#555555\" stroke-width=\"16.56120562221234\" opacity=\"0.6\" d=\"M 299266.1047003182,4633659.657867369 L 299267.5789948312,4633673.35136544 L 299275.4931993669,4633672.828520579 L 299275.4642534512,4633670.028994898 L 299288.2454843802,4633669.091336159 L 299286.90826627996,4633658.494354262 L 299286.41422693396,4633658.363799828 L 299286.1154362875,4633658.083287023 L 299285.8642856361,4633657.723645894 L 299285.7820416916,4633657.459262056 L 299266.1047003182,4633659.657867369 z\" /><path fill-rule=\"evenodd\" fill=\"#66cc99\" stroke=\"#555555\" stroke-width=\"16.56120562221234\" opacity=\"0.6\" d=\"M 299347.1679676076,4633665.988257922 L 299346.615760515,4633664.38137982 L 299346.6846607837,4633662.990383871 L 299350.5714616684,4633656.39132751 L 299350.45929490624,4633650.338196166 L 299335.6953038316,4633652.587250642 L 299335.8299598886,4633653.828056019 L 299337.7596103932,4633671.598128553 L 299328.5338472306,4633672.769002908 L 299327.90925606753,4633673.019943648 L 299329.53037877637,4633683.075541038 L 299333.9790355002,4633682.561399301 L 299335.1573110183,4633683.083860506 L 299338.227045289,4633681.119460958 L 299361.55992588715,4633694.231156856 L 299371.1090082703,4633677.082630046 L 299347.1679676076,4633665.988257922 z\" /><path fill-rule=\"evenodd\" fill=\"#66cc99\" stroke=\"#555555\" stroke-width=\"16.56120562221234\" opacity=\"0.6\" d=\"M 299584.9505744142,4633449.186652571 L 299586.36129848775,4633447.9246343775 L 299584.9840340283,4633444.462930347 L 299584.6711676052,4633441.315794639 L 299584.61694943975,4633437.316844621 L 299584.9962527702,4633435.139260195 L 299583.0185704912,4633433.972479991 L 299575.5201543974,4633441.017386825 L 299579.3881366175,4633445.564772868 L 299580.041606101,4633445.157470322 L 299584.9505744142,4633449.186652571 z\" /><path fill-rule=\"evenodd\" fill=\"#66cc99\" stroke=\"#555555\" stroke-width=\"16.56120562221234\" opacity=\"0.6\" d=\"M 299886.2025360251,4633429.168824752 L 299878.8527985868,4633447.443856723 L 299883.85123986984,4633449.337141907 L 299881.2121542215,4633455.400791708 L 299913.4583289117,4633466.875065819 L 299914.45903671405,4633464.6245057015 L 299917.3095975619,4633465.800217353 L 299931.6080607743,4633432.428535629 L 299910.6043994505,4633423.816830631 L 299906.1579864962,4633434.487267328 L 299904.75874861446,4633437.04904667 L 299886.2025360251,4633429.168824752 z\" /><path fill-rule=\"evenodd\" fill=\"#66cc99\" stroke=\"#555555\" stroke-width=\"16.56120562221234\" opacity=\"0.6\" d=\"M 299660.78780324955,4633467.057852149 L 299662.3634942629,4633472.2586433 L 299663.44808761316,4633473.883920867 L 299664.17794838187,4633475.308029203 L 299693.3462006203,4633502.058481281 L 299695.8985951701,4633504.453735816 L 299696.2428366147,4633504.577414411 L 299696.58727289166,4633504.412164683 L 299721.3221968969,4633480.747994376 L 299723.181515242,4633479.773439244 L 299724.80201550096,4633480.061295338 L 299726.51608755114,4633481.313303654 L 299732.5461470877,4633475.843315508 L 299733.8621056211,4633474.461752769 L 299733.8344653209,4633473.773559439 L 299734.06209306023,4633473.000409657 L 299735.8908529337,4633470.937699845 L 299737.41607567435,4633469.016864628 L 299739.27298589336,4633467.364524476 L 299741.0661495125,4633465.513951779 L 299742.7455404773,4633463.755474209 L 299744.5830369542,4633462.003669141 L 299746.2351350676,4633460.457094852 L 299747.95905661467,4633458.508457053 L 299749.5541547203,4633456.7078989735 L 299751.24174021895,4633454.649158442 L 299752.5404412183,4633452.356866592 L 299753.46686730615,4633449.830556742 L 299754.0539259939,4633447.05819217 L 299754.69019101537,4633444.262220996 L 299756.15703070204,4633440.853967083 L 299755.9944145407,4633439.502819714 L 299753.65258414764,4633435.134733732 L 299753.38773085544,4633434.286516044 L 299756.27256228327,4633431.649646557 L 299752.48692017177,4633427.366557002 L 299750.4858083777,4633429.211853452 L 299749.0950803233,4633427.339575612 L 299747.45223209163,4633426.552282456 L 299745.8698155496,4633426.14111447 L 299742.54917412257,4633425.68986494 L 299741.53129522677,4633425.551765712 L 299741.62813210237,4633416.570217309 L 299741.3262328498,4633416.178649274 L 299738.90368539665,4633416.3355858475 L 299738.5960089037,4633416.922072431 L 299736.5812091433,4633419.167804052 L 299729.13809047604,4633424.044065398 L 299726.159265619,4633425.405658691 L 299716.5070667313,4633425.610092552 L 299709.143285324,4633425.616909768 L 299706.83907706593,4633425.548285073 L 299695.0333676135,4633422.468402558 L 299689.3434351478,4633422.294870419 L 299687.6789394429,4633422.8083514515 L 299685.6941775235,4633423.164143766 L 299683.92460285954,4633423.191631284 L 299681.8142139738,4633423.217581396 L 299680.7900978523,4633425.224362593 L 299681.3734355909,4633427.941629461 L 299675.13317936636,4633436.284569546 L 299672.83324326004,4633443.172210242 L 299667.2544777756,4633451.096527402 L 299661.7404971352,4633461.030377691 L 299660.78780324955,4633467.057852149 z\" /><path fill-rule=\"evenodd\" fill=\"#66cc99\" stroke=\"#555555\" stroke-width=\"16.56120562221234\" opacity=\"0.6\" d=\"M 299305.78855866974,4633756.419284958 L 299300.2048114886,4633755.876378439 L 299296.7741389103,4633757.417571718 L 299298.0532305136,4633761.2264770875 L 299300.06128911866,4633764.359227056 L 299302.4530912774,4633765.180895695 L 299307.3025017907,4633764.733240167 L 299308.56702520384,4633764.186472283 L 299308.93970187206,4633763.253647688 L 299308.8699589694,4633761.36649245 L 299307.2648576253,4633761.033850176 L 299306.5092304691,4633759.877199264 L 299305.84231831203,4633758.32911504 L 299305.78855866974,4633756.419284958 z\" /><path fill-rule=\"evenodd\" fill=\"#66cc99\" stroke=\"#555555\" stroke-width=\"16.56120562221234\" opacity=\"0.6\" d=\"M 299575.80863960355,4633813.47578209 L 299572.1200118822,4633813.823949755 L 299565.0972610002,4633773.916593461 L 299536.38525468827,4633777.26857244 L 299536.99629226135,4633782.151977723 L 299536.9961049056,4633782.44090641 L 299536.87653227523,4633782.622067431 L 299536.6483764892,4633782.784056583 L 299536.34235803253,4633782.837110602 L 299531.4050399822,4633783.409319185 L 299538.0005811068,4633834.718917205 L 299538.2974195916,4633836.999733657 L 299542.582270067,4633870.272140115 L 299547.96827866574,4633869.698432488 L 299548.59891479753,4633869.958512565 L 299549.7738950745,4633871.547893254 L 299554.9564055067,4633876.447232497 L 299556.66511417215,4633877.510436188 L 299559.4872373232,4633878.564562034 L 299560.02839676966,4633878.893833269 L 299560.29095239006,4633879.364286562 L 299560.6414130154,4633884.143894765 L 299563.30949904775,4633883.857747502 L 299565.861635771,4633883.585973435 L 299568.4632868838,4633883.301695848 L 299571.04864149506,4633883.028989799 L 299573.58416983194,4633882.757685439 L 299576.186133526,4633882.48451435 L 299578.74626320205,4633882.201407813 L 299581.3482271799,4633881.92823862 L 299583.86714726454,4633881.657404839 L 299583.40737316257,4633876.536383876 L 299583.5053421445,4633876.178031896 L 299583.8214107447,4633875.891335972 L 299584.2480569978,4633875.990466896 L 299584.47645701666,4633876.428543819 L 299585.38371516904,4633884.459556435 L 299593.67113771185,4633883.326487426 L 299592.7005748419,4633875.408378188 L 299592.8104713102,4633874.883004553 L 299593.195784691,4633874.694374539 L 299593.7380683613,4633874.768030627 L 299593.91052177263,4633875.285467501 L 299594.4240494672,4633880.249403571 L 299596.9992284962,4633879.910318462 L 299599.6073132211,4633879.559196921 L 299602.1409706025,4633879.2212808225 L 299604.76566452667,4633878.869694337 L 299607.24119144224,4633878.533414014 L 299609.77484938153,4633878.195500652 L 299609.3478095707,4633873.351369983 L 299609.3556797339,4633873.040000622 L 299609.4555226277,4633872.748271017 L 299609.717206604,4633872.5964541305 L 299610.14841187926,4633872.562109244 L 299614.620623391,4633872.003024048 L 299609.8777949007,4633833.365050262 L 299605.97750828194,4633833.574688468 L 299605.42816563894,4633833.545679413 L 299604.9399529933,4633833.326040806 L 299604.5368473935,4633832.881761396 L 299604.15915710677,4633832.158956798 L 299603.9002936556,4633830.932752742 L 299602.99423594645,4633823.535114411 L 299602.44615386415,4633822.072566172 L 299600.9657858114,4633820.55843566 L 299599.1788307753,4633819.964142639 L 299598.1553853468,4633819.626199755 L 299597.6349571883,4633818.85184541 L 299597.13670057757,4633817.387896977 L 299597.0875651317,4633816.822543972 L 299596.9484632503,4633815.126251535 L 299575.80863960355,4633813.47578209 z\" /><path fill-rule=\"evenodd\" fill=\"#66cc99\" stroke=\"#555555\" stroke-width=\"16.56120562221234\" opacity=\"0.6\" d=\"M 299278.4060623988,4633781.904245638 L 299285.6490936463,4633782.933819942 L 299293.4558848301,4633781.847275567 L 299295.51410859346,4633780.2669276735 L 299299.07009749557,4633779.044466768 L 299315.96040334576,4633776.757692701 L 299320.7460488189,4633776.111816392 L 299323.0499332744,4633774.991285654 L 299324.2046666866,4633773.791975574 L 299326.364204722,4633773.153344597 L 299326.256515008,4633771.689530976 L 299321.97668440116,4633771.998904948 L 299318.87520590937,4633771.6528162975 L 299313.47890615254,4633772.749268304 L 299307.6944823031,4633773.934436937 L 299301.7435652385,4633774.2241876675 L 299293.4571622519,4633777.168892668 L 299290.54874954384,4633778.662050308 L 299285.8654395918,4633779.105041829 L 299282.05217811425,4633777.978909899 L 299278.4060623988,4633781.904245638 z\" /><path fill-rule=\"evenodd\" fill=\"#66cc99\" stroke=\"#555555\" stroke-width=\"16.56120562221234\" opacity=\"0.6\" d=\"M 299602.7448444235,4634055.336425171 L 299607.8378160052,4634055.282163373 L 299609.65534038376,4634051.0527978875 L 299610.40710894956,4634048.231332291 L 299611.9320049179,4634042.165528514 L 299613.49549349287,4634035.698592797 L 299614.88671423553,4634029.903245971 L 299616.5523567762,4634023.522339558 L 299618.1146067149,4634017.0109906625 L 299619.64295123715,4634011.067329572 L 299621.1805526407,4634003.678792246 L 299622.0439649891,4634001.576499054 L 299608.51587496756,4633994.8447832465 L 299603.84375830914,4633994.498276618 L 299602.9862706112,4633998.28949616 L 299604.5928622712,4633998.677721058 L 299602.72405184084,4634004.630956171 L 299602.5926685516,4634006.75712481 L 299605.9720559325,4634007.828938504 L 299604.2513995005,4634015.800472509 L 299605.09131046664,4634016.410272106 L 299601.34280213475,4634034.728926465 L 299605.54596894915,4634037.611135038 L 299605.275608875,4634038.341043148 L 299601.08016240003,4634039.281296426 L 299601.58722670935,4634048.745952594 L 299602.583164619,4634049.584726982 L 299602.7448444235,4634055.336425171 z\" /><path fill-rule=\"evenodd\" fill=\"#66cc99\" stroke=\"#555555\" stroke-width=\"16.56120562221234\" opacity=\"0.6\" d=\"M 299539.88351004093,4634065.726987886 L 299544.94725757744,4634066.406923832 L 299545.3939723202,4634081.407275263 L 299555.96786792594,4634080.909940116 L 299528.1096438901,4634144.7230746 L 299534.04033909016,4634146.089816496 L 299532.3878985245,4634148.503235153 L 299539.5986750666,4634151.3563899845 L 299541.1693251928,4634148.989722774 L 299546.9381213762,4634152.2834806135 L 299575.5276738079,4634090.238969858 L 299579.17329272896,4634076.2459261995 L 299572.2197781416,4633997.409737138 L 299564.1002077538,4633992.092904989 L 299537.2137812553,4633995.904784063 L 299537.80714625143,4634001.933268756 L 299531.7523399483,4634002.65914602 L 299535.61166814296,4634032.620898685 L 299538.34344962775,4634053.813302303 L 299539.88351004093,4634065.726987886 z\" /><path fill-rule=\"evenodd\" fill=\"#66cc99\" stroke=\"#555555\" stroke-width=\"16.56120562221234\" opacity=\"0.6\" d=\"M 299438.80403579026,4634108.41920688 L 299395.2025127645,4634114.2021076055 L 299394.4339542835,4634110.812209364 L 299418.34540354443,4634107.6168622635 L 299417.7100542678,4634102.167409587 L 299421.6982852185,4634101.544023647 L 299421.0878806523,4634097.571825794 L 299420.6091729413,4634094.440469305 L 299416.47914244677,4634095.0456204135 L 299415.4950666226,4634089.0170195615 L 299379.79189585615,4634095.2111901045 L 299381.1579075523,4634100.3400428565 L 299376.49726012314,4634102.171408122 L 299396.99537507864,4634147.200113462 L 299402.45032974647,4634145.835357209 L 299403.10953300085,4634150.950764437 L 299418.71102514444,4634148.967142981 L 299423.1163090762,4634148.398696457 L 299425.33555944177,4634148.114006944 L 299449.5732485405,4634144.998477805 L 299448.9387837169,4634138.693339774 L 299452.11705156276,4634133.503311992 L 299448.1717002955,4634117.33455636 L 299440.03070668876,4634113.618663045 L 299438.80403579026,4634108.41920688 z\" /><path fill-rule=\"evenodd\" fill=\"#66cc99\" stroke=\"#555555\" stroke-width=\"16.56120562221234\" opacity=\"0.6\" d=\"M 299627.0725721728,4634244.053005349 L 299634.8712569963,4634243.878252353 L 299635.4203585071,4634238.873333685 L 299635.74086008896,4634236.67517493 L 299636.7208651993,4634235.469711578 L 299637.8407227396,4634234.80482709 L 299640.33784917067,4634234.94577809 L 299641.06728424225,4634235.469785902 L 299640.6265644303,4634240.782805905 L 299670.88592575584,4634242.877187643 L 299678.90644179727,4634242.907385202 L 299683.46258139913,4634164.603386274 L 299689.2730062017,4634163.762259718 L 299691.64946150745,4634131.213847618 L 299691.3510945001,4634126.510560412 L 299693.63105040276,4634097.920889128 L 299675.21537795116,4634094.993494789 L 299672.50079994614,4634124.084336628 L 299676.3012774545,4634123.877529402 L 299677.64210473973,4634124.273236826 L 299677.7863233328,4634124.969267513 L 299677.46987965493,4634125.83381689 L 299676.7493426176,4634126.8097332725 L 299675.97780439595,4634127.153674236 L 299671.6175207888,4634127.253976029 L 299671.08200121217,4634127.124563014 L 299671.0369278417,4634126.703557165 L 299671.1217848923,4634122.033950756 L 299660.293162014,4634121.449258818 L 299657.1759962875,4634121.425735178 L 299644.1545264536,4634120.291509293 L 299643.2618656907,4634126.083951434 L 299641.67377004604,4634127.23982845 L 299638.41861071915,4634128.2203107355 L 299635.2959781264,4634132.141865461 L 299630.2851582263,4634140.439230527 L 299627.3392602771,4634148.578548303 L 299627.4656585077,4634153.075532887 L 299627.40197582945,4634160.567105983 L 299622.65928913926,4634160.367039082 L 299621.563708578,4634161.009017951 L 299619.29624652734,4634201.266445225 L 299629.7842911655,4634201.860640488 L 299630.6744936099,4634203.669171576 L 299631.9950551224,4634207.188034526 L 299631.69273011875,4634216.242057051 L 299625.7356328664,4634216.298373125 L 299623.5842101753,4634234.961069956 L 299626.21401171334,4634235.387210152 L 299627.70366960356,4634235.756498896 L 299627.8771526147,4634239.563189376 L 299627.0725721728,4634244.053005349 z M 299640.0555870941,4634198.882738081 L 299643.9881180147,4634139.209551766 L 299669.2323009899,4634140.8559471145 L 299665.29956227937,4634200.529112321 L 299640.0555870941,4634198.882738081 z\" /><path fill-rule=\"evenodd\" fill=\"#66cc99\" stroke=\"#555555\" stroke-width=\"16.56120562221234\" opacity=\"0.6\" d=\"M 299511.54738942394,4634159.234980006 L 299506.8489543196,4634158.244761256 L 299506.891671353,4634152.376186431 L 299428.45592731,4634161.83899863 L 299429.4836655438,4634166.466202641 L 299412.6902221136,4634168.027730569 L 299413.85285750695,4634176.5627229335 L 299415.00143177004,4634184.598050417 L 299450.94171898137,4634238.249047266 L 299508.1491756494,4634236.684318436 L 299516.3268241582,4634232.253822084 L 299534.28748327104,4634185.909877548 L 299537.52627201495,4634177.551140562 L 299529.94895838056,4634164.618194227 L 299523.7815478222,4634167.836442177 L 299511.54738942394,4634159.234980006 z\" /><path fill-rule=\"evenodd\" fill=\"#66cc99\" stroke=\"#555555\" stroke-width=\"16.56120562221234\" opacity=\"0.6\" d=\"M 299537.580144278,4633876.813551294 L 299533.154469745,4633842.967258959 L 299508.6043879731,4633842.990849185 L 299507.6160603377,4633848.630426158 L 299502.5447956732,4633849.462010744 L 299506.6289961102,4633880.617572367 L 299510.6147542835,4633884.039243675 L 299509.2801470793,4633889.777458517 L 299511.126852899,4633891.314605969 L 299533.8199492151,4633887.620560719 L 299537.468947564,4633883.795290896 L 299542.35125108436,4633887.180657796 L 299549.4452680065,4633886.758950677 L 299547.6283539006,4633883.620764762 L 299544.53274703573,4633880.229608087 L 299542.35980176495,4633878.912761492 L 299539.99129628006,4633877.734763397 L 299537.580144278,4633876.813551294 z\" /><path fill-rule=\"evenodd\" fill=\"#66cc99\" stroke=\"#555555\" stroke-width=\"16.56120562221234\" opacity=\"0.6\" d=\"M 299621.2464907182,4633963.149888496 L 299626.31415019126,4633965.741114781 L 299629.65139065287,4633968.269854002 L 299632.6663214762,4633970.863215317 L 299633.45800527727,4633973.896884326 L 299633.5691013319,4633977.849788356 L 299635.91429132083,4633977.017119433 L 299636.5368191228,4633980.833413095 L 299640.1409308098,4633981.621116749 L 299641.6466755514,4633982.856729187 L 299643.7843176763,4633972.273179812 L 299641.2594483496,4633971.444030739 L 299643.41678645054,4633963.926959466 L 299647.7545694903,4633949.714490623 L 299649.2533642171,4633943.60498301 L 299650.6143000045,4633937.321551179 L 299651.3245998189,4633933.023304278 L 299652.87625642965,4633929.090348932 L 299656.5646244192,4633921.341348054 L 299655.5027185978,4633917.8596609775 L 299661.29418638104,4633900.661560891 L 299657.0603675463,4633898.169112979 L 299654.6954911131,4633898.3022431815 L 299652.7243529516,4633898.54654624 L 299650.17565265985,4633898.940429587 L 299648.9217409593,4633899.864661449 L 299647.10992602236,4633901.63800423 L 299627.7858763981,4633942.997048643 L 299625.8373047778,4633941.973908287 L 299623.50516630115,4633947.706796382 L 299627.5203180081,4633949.51639839 L 299621.2464907182,4633963.149888496 z\" /><path fill-rule=\"evenodd\" fill=\"#66cc99\" stroke=\"#555555\" stroke-width=\"16.56120562221234\" opacity=\"0.6\" d=\"M 299524.46908002155,4633962.359090707 L 299528.2870691421,4633963.362973918 L 299530.38413116045,4633964.937534962 L 299529.79365870147,4633967.287751808 L 299528.9790359896,4633970.533267232 L 299536.62717945204,4633972.974083057 L 299538.00582510896,4633976.191263568 L 299590.24373093445,4633970.722135842 L 299591.48116088065,4633965.66452883 L 299597.9335966003,4633966.961103237 L 299626.6245742216,4633909.070091444 L 299626.114035874,4633906.873066128 L 299541.09843691613,4633917.997345359 L 299542.29239456623,4633920.8530092975 L 299540.64401801367,4633927.255673906 L 299537.11266977934,4633926.9882569015 L 299524.46908002155,4633962.359090707 z\" /><path fill-rule=\"evenodd\" fill=\"#66cc99\" stroke=\"#555555\" stroke-width=\"16.56120562221234\" opacity=\"0.6\" d=\"M 299708.532992924,4633887.921830047 L 299707.28116500843,4633895.7245834125 L 299707.04416623875,4633897.642578701 L 299701.4387851927,4633897.211099485 L 299698.33335835626,4633901.454393427 L 299696.7393617141,4633904.177271877 L 299693.3831011944,4633909.5499707535 L 299691.6554661629,4633913.432297685 L 299689.7168822831,4633918.976303721 L 299686.5942062012,4633934.732563493 L 299684.9320890323,4633944.791561896 L 299680.7457385592,4633964.100353003 L 299674.6061303664,4633989.020248343 L 299669.7978663525,4634010.44677568 L 299651.97749785095,4634074.844043678 L 299649.39259049535,4634085.184577538 L 299698.15870979725,4634096.382395732 L 299696.33609206433,4634121.136538196 L 299697.2354328446,4634121.200168555 L 299684.78904476657,4634225.117760971 L 299685.92076441704,4634224.874823566 L 299688.0046386351,4634228.350021268 L 299689.1194863395,4634228.985440664 L 299687.9458277788,4634244.2980160015 L 299695.6351178888,4634244.370876879 L 299696.31964710937,4634234.128204416 L 299697.4939708417,4634225.049687828 L 299698.9924453148,4634213.606228222 L 299698.0933337146,4634211.7757152235 L 299698.8083974224,4634205.577111263 L 299699.87018380524,4634205.802863407 L 299699.75187991,4634212.240285519 L 299703.3569966421,4634212.772399425 L 299703.970902966,4634207.410070844 L 299704.53209813294,4634206.383071658 L 299715.5238287342,4634208.341181146 L 299719.5371646922,4634208.317325086 L 299721.9974864903,4634207.148072421 L 299724.54113028746,4634207.465545327 L 299725.4338712918,4634200.195160659 L 299725.84677046863,4634199.805738081 L 299731.648832522,4634200.442832377 L 299733.84106283047,4634182.334662704 L 299727.29894724686,4634180.796024891 L 299727.7538084745,4634174.504724125 L 299742.3107835801,4634175.573735814 L 299742.0420235545,4634179.615096708 L 299746.8191529979,4634179.858724013 L 299746.8936998292,4634182.512499905 L 299747.9152150119,4634182.783840258 L 299748.563542004,4634175.687012649 L 299755.3918144128,4634176.762022423 L 299756.90588007926,4634175.041516791 L 299761.3745919198,4634174.660409023 L 299761.0529177709,4634167.646391802 L 299757.96119423234,4634167.344300218 L 299750.51099375566,4634114.247268918 L 299742.46733011823,4634110.439407408 L 299738.3675031138,4634108.865487418 L 299716.2839514285,4634106.129926284 L 299717.26185633976,4634099.52389525 L 299727.9711334043,4634102.36785071 L 299729.6161209628,4634098.798999311 L 299734.6385399555,4634102.447245928 L 299740.5614258116,4634105.903514255 L 299745.5223112975,4634107.953307194 L 299749.9446333237,4634109.173687224 L 299752.3278412368,4634109.69570234 L 299752.9456202575,4634101.510717242 L 299745.88733305014,4634099.942107443 L 299740.5496729953,4634096.313821039 L 299735.60569250595,4634091.907721795 L 299732.3367266525,4634086.776712815 L 299731.1392017232,4634083.1988153085 L 299731.2784109226,4634078.983295094 L 299735.2834328369,4634077.18169791 L 299736.3227425619,4634078.085945912 L 299734.3586448562,4634083.608434001 L 299751.458785838,4634087.928649108 L 299752.4852652816,4634085.121709956 L 299753.10831134475,4634083.337333675 L 299754.7063361382,4634083.125760402 L 299756.3073275564,4634077.1023065625 L 299755.11160555563,4634076.546934367 L 299754.564817559,4634075.128790321 L 299755.7072485691,4634069.940536299 L 299738.0937689949,4634065.690290947 L 299737.49076851987,4634069.963288789 L 299736.3484582559,4634070.717685378 L 299734.49682110944,4634070.480777534 L 299734.12640550686,4634069.424390246 L 299734.09115852916,4634068.169676293 L 299734.9407874349,4634063.800850495 L 299735.43622147886,4634058.953027994 L 299734.84544315736,4634053.602322356 L 299721.76272464154,4634004.141727847 L 299721.9878334804,4634003.279747149 L 299722.3735306501,4634002.513266927 L 299723.54380699387,4634002.45816595 L 299724.09118781885,4634003.009522345 L 299725.2574221394,4634007.543966818 L 299757.30076828995,4634000.332010557 L 299750.0199889723,4633941.729577359 L 299748.95582865796,4633940.237066117 L 299749.5298901397,4633933.453476978 L 299747.26870343526,4633925.738295097 L 299745.2250205569,4633921.328505943 L 299745.8280871484,4633915.577557087 L 299744.9315339692,4633910.879960986 L 299742.9587666041,4633904.556843821 L 299740.9331659187,4633900.791068057 L 299712.99021571886,4633908.721306818 L 299712.6506542537,4633914.976028808 L 299711.3827008549,4633915.400584767 L 299709.5757396517,4633914.684591483 L 299709.1136877106,4633912.141714511 L 299712.3892501333,4633905.671160713 L 299714.0613394382,4633901.290341031 L 299714.43646432273,4633896.301436649 L 299717.0404734118,4633888.705172144 L 299718.7435686969,4633885.723648444 L 299708.532992924,4633887.921830047 z M 299708.16914555,4634083.521871067 L 299670.3258606445,4634073.895034558 L 299685.0519702577,4634016.496695849 L 299722.8958392276,4634026.134723261 L 299708.16914555,4634083.521871067 z\" /></g></g></svg>"
      ],
      "text/plain": [
       "<shapely.geometry.multipolygon.MultiPolygon at 0x1278bf450>"
      ]
     },
     "execution_count": 20,
     "metadata": {},
     "output_type": "execute_result"
    }
   ],
   "source": [
    "land_use = gpd.GeoDataFrame(columns=['geometry', 'area'])\n",
    "land_use.set_geometry('geometry')\n",
    "\n",
    "footprints_surface = footprints.query('parking==\"surface\"').geometry.unary_union\n",
    "footprints_surface"
   ]
  },
  {
   "cell_type": "code",
   "execution_count": 21,
   "metadata": {},
   "outputs": [],
   "source": [
    "land_use.loc['surface'] = [footprints_surface, footprints_surface.area]"
   ]
  },
  {
   "cell_type": "markdown",
   "metadata": {},
   "source": [
    "*Notice:* Some of the larger lots like the Mall and Convention Center are now not shown, but there is a *lot* of small surface lots in the Jewelery District and a lot of large surface lots near the State House and State offices.\n",
    "\n",
    "Do the same for structured parking (defined here as not surface):"
   ]
  },
  {
   "cell_type": "code",
   "execution_count": 22,
   "metadata": {},
   "outputs": [
    {
     "data": {
      "text/html": [
       "<div>\n",
       "<style scoped>\n",
       "    .dataframe tbody tr th:only-of-type {\n",
       "        vertical-align: middle;\n",
       "    }\n",
       "\n",
       "    .dataframe tbody tr th {\n",
       "        vertical-align: top;\n",
       "    }\n",
       "\n",
       "    .dataframe thead th {\n",
       "        text-align: right;\n",
       "    }\n",
       "</style>\n",
       "<table border=\"1\" class=\"dataframe\">\n",
       "  <thead>\n",
       "    <tr style=\"text-align: right;\">\n",
       "      <th></th>\n",
       "      <th>geometry</th>\n",
       "      <th>area</th>\n",
       "    </tr>\n",
       "  </thead>\n",
       "  <tbody>\n",
       "    <tr>\n",
       "      <th>surface</th>\n",
       "      <td>MULTIPOLYGON (((299329.815 4633865.645, 299339...</td>\n",
       "      <td>251808.353778</td>\n",
       "    </tr>\n",
       "    <tr>\n",
       "      <th>structured</th>\n",
       "      <td>MULTIPOLYGON (((299647.813 4632190.896, 299717...</td>\n",
       "      <td>105105.131389</td>\n",
       "    </tr>\n",
       "  </tbody>\n",
       "</table>\n",
       "</div>"
      ],
      "text/plain": [
       "                                                     geometry           area\n",
       "surface     MULTIPOLYGON (((299329.815 4633865.645, 299339...  251808.353778\n",
       "structured  MULTIPOLYGON (((299647.813 4632190.896, 299717...  105105.131389"
      ]
     },
     "execution_count": 22,
     "metadata": {},
     "output_type": "execute_result"
    }
   ],
   "source": [
    "footprints_structured = footprints.query('parking!=\"surface\"').geometry.unary_union\n",
    "\n",
    "land_use.loc['structured'] = [footprints_structured, footprints_structured.area]\n",
    "land_use"
   ]
  },
  {
   "cell_type": "markdown",
   "metadata": {},
   "source": [
    "Now, let's calculate the percentage each type takes of all parking area, of total downtown area, and also convert to square miles:"
   ]
  },
  {
   "cell_type": "code",
   "execution_count": 36,
   "metadata": {},
   "outputs": [],
   "source": [
    "land_use['area_square_miles'] = list(map(lambda x: Area(sq_m=x).sq_mi, land_use['area']))"
   ]
  },
  {
   "cell_type": "code",
   "execution_count": 46,
   "metadata": {},
   "outputs": [],
   "source": [
    "total_parking_area = land_use['area'].sum()\n",
    "\n",
    "calc_park_area_percent = lambda x: float(round(Decimal(x / total_parking_area) * 100, 2))\n",
    "calc_downtown_area_percent = lambda x: float(round(Decimal(x / downtown_area) * 100, 2))\n",
    "\n",
    "land_use['percent_parking_area'] = list(map(calc_park_area_percent, land_use['area']))\n",
    "land_use['percent_downtown_area'] = list(map(calc_downtown_area_percent, land_use['area']))"
   ]
  },
  {
   "cell_type": "code",
   "execution_count": 47,
   "metadata": {},
   "outputs": [
    {
     "data": {
      "text/html": [
       "<div>\n",
       "<style scoped>\n",
       "    .dataframe tbody tr th:only-of-type {\n",
       "        vertical-align: middle;\n",
       "    }\n",
       "\n",
       "    .dataframe tbody tr th {\n",
       "        vertical-align: top;\n",
       "    }\n",
       "\n",
       "    .dataframe thead th {\n",
       "        text-align: right;\n",
       "    }\n",
       "</style>\n",
       "<table border=\"1\" class=\"dataframe\">\n",
       "  <thead>\n",
       "    <tr style=\"text-align: right;\">\n",
       "      <th></th>\n",
       "      <th>geometry</th>\n",
       "      <th>area</th>\n",
       "      <th>area_square_miles</th>\n",
       "      <th>percent_parking_area</th>\n",
       "      <th>percent_downtown_area</th>\n",
       "    </tr>\n",
       "  </thead>\n",
       "  <tbody>\n",
       "    <tr>\n",
       "      <th>surface</th>\n",
       "      <td>MULTIPOLYGON (((299329.815 4633865.645, 299339...</td>\n",
       "      <td>251808.353778</td>\n",
       "      <td>0.097224</td>\n",
       "      <td>70.55</td>\n",
       "      <td>12.48</td>\n",
       "    </tr>\n",
       "    <tr>\n",
       "      <th>structured</th>\n",
       "      <td>MULTIPOLYGON (((299647.813 4632190.896, 299717...</td>\n",
       "      <td>105105.131389</td>\n",
       "      <td>0.040581</td>\n",
       "      <td>29.45</td>\n",
       "      <td>5.21</td>\n",
       "    </tr>\n",
       "  </tbody>\n",
       "</table>\n",
       "</div>"
      ],
      "text/plain": [
       "                                                     geometry           area  \\\n",
       "surface     MULTIPOLYGON (((299329.815 4633865.645, 299339...  251808.353778   \n",
       "structured  MULTIPOLYGON (((299647.813 4632190.896, 299717...  105105.131389   \n",
       "\n",
       "            area_square_miles  percent_parking_area  percent_downtown_area  \n",
       "surface              0.097224                 70.55                  12.48  \n",
       "structured           0.040581                 29.45                   5.21  "
      ]
     },
     "execution_count": 47,
     "metadata": {},
     "output_type": "execute_result"
    }
   ],
   "source": [
    "land_use"
   ]
  },
  {
   "cell_type": "code",
   "execution_count": 48,
   "metadata": {},
   "outputs": [
    {
     "data": {
      "text/plain": [
       "area                     356913.485166\n",
       "area_square_miles             0.137805\n",
       "percent_parking_area        100.000000\n",
       "percent_downtown_area        17.690000\n",
       "dtype: float64"
      ]
     },
     "execution_count": 48,
     "metadata": {},
     "output_type": "execute_result"
    }
   ],
   "source": [
    "land_use.sum()"
   ]
  },
  {
   "cell_type": "code",
   "execution_count": null,
   "metadata": {},
   "outputs": [],
   "source": []
  }
 ],
 "metadata": {
  "kernelspec": {
   "display_name": "Python 3",
   "language": "python",
   "name": "python3"
  },
  "language_info": {
   "codemirror_mode": {
    "name": "ipython",
    "version": 3
   },
   "file_extension": ".py",
   "mimetype": "text/x-python",
   "name": "python",
   "nbconvert_exporter": "python",
   "pygments_lexer": "ipython3",
   "version": "3.7.6"
  },
  "pycharm": {
   "stem_cell": {
    "cell_type": "raw",
    "metadata": {
     "collapsed": false
    },
    "source": []
   }
  }
 },
 "nbformat": 4,
 "nbformat_minor": 4
}
