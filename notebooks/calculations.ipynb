{
 "cells": [
  {
   "cell_type": "markdown",
   "metadata": {},
   "source": [
    "# Downtown Providence Parking Analysis\n",
    "\n",
    "This notebook calculates various metrics on the overabbundance of parking in Downtown Providence, RI."
   ]
  },
  {
   "cell_type": "markdown",
   "metadata": {
    "pycharm": {
     "name": "#%% md\n"
    }
   },
   "source": [
    "[OSMnx](https://github.com/gboeing/osmnx) is used to download and maniuplate data from [OpenStreetMap](https://www.openstreetmap.org/#map=15/41.8222/-71.4085) (OSM)."
   ]
  },
  {
   "cell_type": "code",
   "execution_count": 1,
   "metadata": {},
   "outputs": [],
   "source": [
    "import osmnx as ox"
   ]
  },
  {
   "cell_type": "markdown",
   "metadata": {},
   "source": [
    "## Setup"
   ]
  },
  {
   "cell_type": "markdown",
   "metadata": {
    "pycharm": {
     "name": "#%% md\n"
    }
   },
   "source": [
    "Specify the area to look for and the type of footprints to look for. Here, we only want the Downtown Neighborhood, and we are only looking for footprints tagged as \"amenity:parking\" in OSM.\n",
    "\n",
    "**Note:** You must supply a `place` string which returns a valid result in OSM. For this calculation, I manually had to create the \"Dowtown\" neighborhood from the [City's GIS](http://pvdgis.maps.arcgis.com/home/webmap/viewer.html?useExisting=1&layers=07555d51a34a4fa0a43e9c920f68970f). Other neighborhoods may or may not be on OSM. For example, Fox Point and College Hill are, but Upper South Providence is not."
   ]
  },
  {
   "cell_type": "code",
   "execution_count": 2,
   "metadata": {
    "pycharm": {
     "name": "#%%\n"
    }
   },
   "outputs": [],
   "source": [
    "place = \"Downtown, Providence, RI, USA\"\n",
    "footprint_type = \"parking\""
   ]
  },
  {
   "cell_type": "markdown",
   "metadata": {
    "pycharm": {
     "name": "#%% md\n"
    }
   },
   "source": [
    "Download the footprints from OSM, and them project them to UTM 19 via OSMnx (UTM Zone selected automatically):"
   ]
  },
  {
   "cell_type": "code",
   "execution_count": 3,
   "metadata": {
    "pycharm": {
     "name": "#%%\n"
    }
   },
   "outputs": [],
   "source": [
    "footprints_unprojected = ox.footprints.footprints_from_place(place, footprint_type=footprint_type)\n",
    "footprints = ox.project_gdf(footprints_unprojected)"
   ]
  },
  {
   "cell_type": "markdown",
   "metadata": {
    "pycharm": {
     "name": "#%% md\n"
    }
   },
   "source": [
    "`footprints_from_place` and `project_gdf` returnn GeoPandas `GeoDataFrame`s. Examine the first few entries of the latter:"
   ]
  },
  {
   "cell_type": "code",
   "execution_count": 4,
   "metadata": {},
   "outputs": [
    {
     "data": {
      "text/html": [
       "<div>\n",
       "<style scoped>\n",
       "    .dataframe tbody tr th:only-of-type {\n",
       "        vertical-align: middle;\n",
       "    }\n",
       "\n",
       "    .dataframe tbody tr th {\n",
       "        vertical-align: top;\n",
       "    }\n",
       "\n",
       "    .dataframe thead th {\n",
       "        text-align: right;\n",
       "    }\n",
       "</style>\n",
       "<table border=\"1\" class=\"dataframe\">\n",
       "  <thead>\n",
       "    <tr style=\"text-align: right;\">\n",
       "      <th></th>\n",
       "      <th>nodes</th>\n",
       "      <th>amenity</th>\n",
       "      <th>building</th>\n",
       "      <th>capacity</th>\n",
       "      <th>capacity:disabled</th>\n",
       "      <th>name</th>\n",
       "      <th>parking</th>\n",
       "      <th>source</th>\n",
       "      <th>supervised</th>\n",
       "      <th>wikidata</th>\n",
       "      <th>...</th>\n",
       "      <th>addr:state</th>\n",
       "      <th>addr:street</th>\n",
       "      <th>description</th>\n",
       "      <th>fee</th>\n",
       "      <th>building:levels</th>\n",
       "      <th>layer</th>\n",
       "      <th>lit</th>\n",
       "      <th>smoothness</th>\n",
       "      <th>members</th>\n",
       "      <th>type</th>\n",
       "    </tr>\n",
       "  </thead>\n",
       "  <tbody>\n",
       "    <tr>\n",
       "      <th>121498413</th>\n",
       "      <td>[1359954107, 1359954080, 1359954126, 135995408...</td>\n",
       "      <td>parking</td>\n",
       "      <td>yes</td>\n",
       "      <td>2400</td>\n",
       "      <td>33</td>\n",
       "      <td>Rhode Island Convention Center</td>\n",
       "      <td>multi-storey</td>\n",
       "      <td>Bing</td>\n",
       "      <td>yes</td>\n",
       "      <td>Q7320906</td>\n",
       "      <td>...</td>\n",
       "      <td>NaN</td>\n",
       "      <td>NaN</td>\n",
       "      <td>NaN</td>\n",
       "      <td>NaN</td>\n",
       "      <td>NaN</td>\n",
       "      <td>NaN</td>\n",
       "      <td>NaN</td>\n",
       "      <td>NaN</td>\n",
       "      <td>NaN</td>\n",
       "      <td>NaN</td>\n",
       "    </tr>\n",
       "    <tr>\n",
       "      <th>141535719</th>\n",
       "      <td>[1549239929, 1549239995, 1549239920, 154923986...</td>\n",
       "      <td>parking</td>\n",
       "      <td>yes</td>\n",
       "      <td>NaN</td>\n",
       "      <td>NaN</td>\n",
       "      <td>Biltmore Garage</td>\n",
       "      <td>multi-storey</td>\n",
       "      <td>NaN</td>\n",
       "      <td>NaN</td>\n",
       "      <td>NaN</td>\n",
       "      <td>...</td>\n",
       "      <td>NaN</td>\n",
       "      <td>NaN</td>\n",
       "      <td>NaN</td>\n",
       "      <td>NaN</td>\n",
       "      <td>NaN</td>\n",
       "      <td>NaN</td>\n",
       "      <td>NaN</td>\n",
       "      <td>NaN</td>\n",
       "      <td>NaN</td>\n",
       "      <td>NaN</td>\n",
       "    </tr>\n",
       "    <tr>\n",
       "      <th>141535724</th>\n",
       "      <td>[1549239764, 3190088397, 1549239673, 154923959...</td>\n",
       "      <td>parking</td>\n",
       "      <td>yes</td>\n",
       "      <td>NaN</td>\n",
       "      <td>NaN</td>\n",
       "      <td>NaN</td>\n",
       "      <td>multi-storey</td>\n",
       "      <td>NaN</td>\n",
       "      <td>NaN</td>\n",
       "      <td>NaN</td>\n",
       "      <td>...</td>\n",
       "      <td>NaN</td>\n",
       "      <td>NaN</td>\n",
       "      <td>NaN</td>\n",
       "      <td>NaN</td>\n",
       "      <td>NaN</td>\n",
       "      <td>NaN</td>\n",
       "      <td>NaN</td>\n",
       "      <td>NaN</td>\n",
       "      <td>NaN</td>\n",
       "      <td>NaN</td>\n",
       "    </tr>\n",
       "    <tr>\n",
       "      <th>141535769</th>\n",
       "      <td>[1549239670, 7105448142, 7105448141, 154923954...</td>\n",
       "      <td>parking</td>\n",
       "      <td>yes</td>\n",
       "      <td>NaN</td>\n",
       "      <td>NaN</td>\n",
       "      <td>NaN</td>\n",
       "      <td>multi-storey</td>\n",
       "      <td>NaN</td>\n",
       "      <td>NaN</td>\n",
       "      <td>NaN</td>\n",
       "      <td>...</td>\n",
       "      <td>NaN</td>\n",
       "      <td>NaN</td>\n",
       "      <td>NaN</td>\n",
       "      <td>NaN</td>\n",
       "      <td>NaN</td>\n",
       "      <td>NaN</td>\n",
       "      <td>NaN</td>\n",
       "      <td>NaN</td>\n",
       "      <td>NaN</td>\n",
       "      <td>NaN</td>\n",
       "    </tr>\n",
       "    <tr>\n",
       "      <th>141535777</th>\n",
       "      <td>[1549239863, 7107873191, 1549239787, 154923972...</td>\n",
       "      <td>parking</td>\n",
       "      <td>yes</td>\n",
       "      <td>NaN</td>\n",
       "      <td>NaN</td>\n",
       "      <td>NaN</td>\n",
       "      <td>multi-storey</td>\n",
       "      <td>NaN</td>\n",
       "      <td>NaN</td>\n",
       "      <td>NaN</td>\n",
       "      <td>...</td>\n",
       "      <td>NaN</td>\n",
       "      <td>NaN</td>\n",
       "      <td>NaN</td>\n",
       "      <td>NaN</td>\n",
       "      <td>NaN</td>\n",
       "      <td>NaN</td>\n",
       "      <td>NaN</td>\n",
       "      <td>NaN</td>\n",
       "      <td>NaN</td>\n",
       "      <td>NaN</td>\n",
       "    </tr>\n",
       "  </tbody>\n",
       "</table>\n",
       "<p>5 rows × 29 columns</p>\n",
       "</div>"
      ],
      "text/plain": [
       "                                                       nodes  amenity  \\\n",
       "121498413  [1359954107, 1359954080, 1359954126, 135995408...  parking   \n",
       "141535719  [1549239929, 1549239995, 1549239920, 154923986...  parking   \n",
       "141535724  [1549239764, 3190088397, 1549239673, 154923959...  parking   \n",
       "141535769  [1549239670, 7105448142, 7105448141, 154923954...  parking   \n",
       "141535777  [1549239863, 7107873191, 1549239787, 154923972...  parking   \n",
       "\n",
       "          building capacity capacity:disabled                            name  \\\n",
       "121498413      yes     2400                33  Rhode Island Convention Center   \n",
       "141535719      yes      NaN               NaN                 Biltmore Garage   \n",
       "141535724      yes      NaN               NaN                             NaN   \n",
       "141535769      yes      NaN               NaN                             NaN   \n",
       "141535777      yes      NaN               NaN                             NaN   \n",
       "\n",
       "                parking source supervised  wikidata  ... addr:state  \\\n",
       "121498413  multi-storey   Bing        yes  Q7320906  ...        NaN   \n",
       "141535719  multi-storey    NaN        NaN       NaN  ...        NaN   \n",
       "141535724  multi-storey    NaN        NaN       NaN  ...        NaN   \n",
       "141535769  multi-storey    NaN        NaN       NaN  ...        NaN   \n",
       "141535777  multi-storey    NaN        NaN       NaN  ...        NaN   \n",
       "\n",
       "          addr:street description  fee building:levels layer  lit smoothness  \\\n",
       "121498413         NaN         NaN  NaN             NaN   NaN  NaN        NaN   \n",
       "141535719         NaN         NaN  NaN             NaN   NaN  NaN        NaN   \n",
       "141535724         NaN         NaN  NaN             NaN   NaN  NaN        NaN   \n",
       "141535769         NaN         NaN  NaN             NaN   NaN  NaN        NaN   \n",
       "141535777         NaN         NaN  NaN             NaN   NaN  NaN        NaN   \n",
       "\n",
       "          members type  \n",
       "121498413     NaN  NaN  \n",
       "141535719     NaN  NaN  \n",
       "141535724     NaN  NaN  \n",
       "141535769     NaN  NaN  \n",
       "141535777     NaN  NaN  \n",
       "\n",
       "[5 rows x 29 columns]"
      ]
     },
     "execution_count": 4,
     "metadata": {},
     "output_type": "execute_result"
    }
   ],
   "source": [
    "footprints.head()"
   ]
  },
  {
   "cell_type": "markdown",
   "metadata": {},
   "source": [
    "And take a look at the geometries (stored as [Shapely Polygons](https://shapely.readthedocs.io/en/stable/manual.html#polygons))."
   ]
  },
  {
   "cell_type": "code",
   "execution_count": 5,
   "metadata": {},
   "outputs": [
    {
     "data": {
      "text/plain": [
       "121498413    POLYGON ((299344.171 4633139.476, 299344.231 4...\n",
       "141535719    POLYGON ((299480.300 4633065.483, 299518.656 4...\n",
       "141535724    POLYGON ((299920.958 4632965.162, 299927.951 4...\n",
       "141535769    POLYGON ((299345.605 4632950.568, 299388.869 4...\n",
       "141535777    POLYGON ((299862.573 4633016.029, 299886.587 4...\n",
       "Name: geometry, dtype: geometry"
      ]
     },
     "execution_count": 5,
     "metadata": {},
     "output_type": "execute_result"
    }
   ],
   "source": [
    "footprints.geometry.head()"
   ]
  },
  {
   "cell_type": "markdown",
   "metadata": {},
   "source": [
    "And plot these as well, using OSMnx's `plot_footprints` function:"
   ]
  },
  {
   "cell_type": "code",
   "execution_count": 6,
   "metadata": {
    "pycharm": {
     "name": "#%%\n"
    }
   },
   "outputs": [
    {
     "data": {
      "image/png": "[encoded data removed]",
      "text/plain": [
       "<Figure size 432x288 with 1 Axes>"
      ]
     },
     "metadata": {},
     "output_type": "display_data"
    },
    {
     "data": {
      "text/plain": [
       "(<Figure size 432x288 with 1 Axes>,\n",
       " <matplotlib.axes._subplots.AxesSubplot at 0x118eac990>)"
      ]
     },
     "execution_count": 6,
     "metadata": {},
     "output_type": "execute_result"
    }
   ],
   "source": [
    "ox.footprints.plot_footprints(footprints)"
   ]
  },
  {
   "cell_type": "markdown",
   "metadata": {},
   "source": [
    "## Calculations"
   ]
  },
  {
   "cell_type": "code",
   "execution_count": 7,
   "metadata": {},
   "outputs": [],
   "source": [
    "calculations = {'total': {}}  # Dictionary to hold all useful calculations"
   ]
  },
  {
   "cell_type": "markdown",
   "metadata": {},
   "source": [
    "Let's get some basic calculations done first:"
   ]
  },
  {
   "cell_type": "code",
   "execution_count": 8,
   "metadata": {},
   "outputs": [
    {
     "data": {
      "text/plain": [
       "{'count': 181, 'area_naive': 301352.06851400656}"
      ]
     },
     "execution_count": 8,
     "metadata": {},
     "output_type": "execute_result"
    }
   ],
   "source": [
    "calculations['total']['count'] = len(footprints.index)\n",
    "calculations['total']['area_naive'] = footprints.area.sum()  # Areas in square meters\n",
    "\n",
    "calculations['total']"
   ]
  },
  {
   "cell_type": "markdown",
   "metadata": {},
   "source": [
    "### Surface Lots"
   ]
  },
  {
   "cell_type": "code",
   "execution_count": 9,
   "metadata": {},
   "outputs": [],
   "source": [
    "calculations['surface'] = {}"
   ]
  },
  {
   "cell_type": "markdown",
   "metadata": {},
   "source": [
    "There's a lot of data to work with, and it's important to differentiate between different types of parking areas. For example, the area taken by a surface lot is used much less efficiently than it would by a multi-story lot.\n",
    "\n",
    "Most of this data separation will be accomplished using the Pandas `query` function. For example, to filter the original footprints to entries that are surface lots:"
   ]
  },
  {
   "cell_type": "code",
   "execution_count": 10,
   "metadata": {
    "scrolled": false
   },
   "outputs": [
    {
     "data": {
      "text/html": [
       "<div>\n",
       "<style scoped>\n",
       "    .dataframe tbody tr th:only-of-type {\n",
       "        vertical-align: middle;\n",
       "    }\n",
       "\n",
       "    .dataframe tbody tr th {\n",
       "        vertical-align: top;\n",
       "    }\n",
       "\n",
       "    .dataframe thead th {\n",
       "        text-align: right;\n",
       "    }\n",
       "</style>\n",
       "<table border=\"1\" class=\"dataframe\">\n",
       "  <thead>\n",
       "    <tr style=\"text-align: right;\">\n",
       "      <th></th>\n",
       "      <th>nodes</th>\n",
       "      <th>amenity</th>\n",
       "      <th>building</th>\n",
       "      <th>capacity</th>\n",
       "      <th>capacity:disabled</th>\n",
       "      <th>name</th>\n",
       "      <th>parking</th>\n",
       "      <th>source</th>\n",
       "      <th>supervised</th>\n",
       "      <th>wikidata</th>\n",
       "      <th>...</th>\n",
       "      <th>addr:state</th>\n",
       "      <th>addr:street</th>\n",
       "      <th>description</th>\n",
       "      <th>fee</th>\n",
       "      <th>building:levels</th>\n",
       "      <th>layer</th>\n",
       "      <th>lit</th>\n",
       "      <th>smoothness</th>\n",
       "      <th>members</th>\n",
       "      <th>type</th>\n",
       "    </tr>\n",
       "  </thead>\n",
       "  <tbody>\n",
       "    <tr>\n",
       "      <th>146047911</th>\n",
       "      <td>[1593435262, 1593435285, 1593435350, 159343529...</td>\n",
       "      <td>parking</td>\n",
       "      <td>NaN</td>\n",
       "      <td>NaN</td>\n",
       "      <td>NaN</td>\n",
       "      <td>NaN</td>\n",
       "      <td>surface</td>\n",
       "      <td>NaN</td>\n",
       "      <td>NaN</td>\n",
       "      <td>NaN</td>\n",
       "      <td>...</td>\n",
       "      <td>NaN</td>\n",
       "      <td>NaN</td>\n",
       "      <td>NaN</td>\n",
       "      <td>NaN</td>\n",
       "      <td>NaN</td>\n",
       "      <td>NaN</td>\n",
       "      <td>NaN</td>\n",
       "      <td>NaN</td>\n",
       "      <td>NaN</td>\n",
       "      <td>NaN</td>\n",
       "    </tr>\n",
       "    <tr>\n",
       "      <th>146047918</th>\n",
       "      <td>[1593435488, 1593435458, 1593435230, 159343549...</td>\n",
       "      <td>parking</td>\n",
       "      <td>NaN</td>\n",
       "      <td>NaN</td>\n",
       "      <td>NaN</td>\n",
       "      <td>NaN</td>\n",
       "      <td>surface</td>\n",
       "      <td>NaN</td>\n",
       "      <td>NaN</td>\n",
       "      <td>NaN</td>\n",
       "      <td>...</td>\n",
       "      <td>NaN</td>\n",
       "      <td>NaN</td>\n",
       "      <td>NaN</td>\n",
       "      <td>NaN</td>\n",
       "      <td>NaN</td>\n",
       "      <td>NaN</td>\n",
       "      <td>NaN</td>\n",
       "      <td>NaN</td>\n",
       "      <td>NaN</td>\n",
       "      <td>NaN</td>\n",
       "    </tr>\n",
       "    <tr>\n",
       "      <th>146047930</th>\n",
       "      <td>[1593435352, 1593435214, 1593435342, 159343522...</td>\n",
       "      <td>parking</td>\n",
       "      <td>NaN</td>\n",
       "      <td>NaN</td>\n",
       "      <td>NaN</td>\n",
       "      <td>NaN</td>\n",
       "      <td>surface</td>\n",
       "      <td>NaN</td>\n",
       "      <td>NaN</td>\n",
       "      <td>NaN</td>\n",
       "      <td>...</td>\n",
       "      <td>NaN</td>\n",
       "      <td>NaN</td>\n",
       "      <td>NaN</td>\n",
       "      <td>NaN</td>\n",
       "      <td>NaN</td>\n",
       "      <td>NaN</td>\n",
       "      <td>NaN</td>\n",
       "      <td>NaN</td>\n",
       "      <td>NaN</td>\n",
       "      <td>NaN</td>\n",
       "    </tr>\n",
       "    <tr>\n",
       "      <th>146047932</th>\n",
       "      <td>[1593435493, 1593435452, 1593435400, 159343519...</td>\n",
       "      <td>parking</td>\n",
       "      <td>NaN</td>\n",
       "      <td>NaN</td>\n",
       "      <td>NaN</td>\n",
       "      <td>NaN</td>\n",
       "      <td>surface</td>\n",
       "      <td>NaN</td>\n",
       "      <td>NaN</td>\n",
       "      <td>NaN</td>\n",
       "      <td>...</td>\n",
       "      <td>NaN</td>\n",
       "      <td>NaN</td>\n",
       "      <td>NaN</td>\n",
       "      <td>NaN</td>\n",
       "      <td>NaN</td>\n",
       "      <td>NaN</td>\n",
       "      <td>NaN</td>\n",
       "      <td>NaN</td>\n",
       "      <td>NaN</td>\n",
       "      <td>NaN</td>\n",
       "    </tr>\n",
       "    <tr>\n",
       "      <th>146063025</th>\n",
       "      <td>[1593531125, 1593531279, 1593530740, 159353102...</td>\n",
       "      <td>parking</td>\n",
       "      <td>NaN</td>\n",
       "      <td>NaN</td>\n",
       "      <td>NaN</td>\n",
       "      <td>NaN</td>\n",
       "      <td>surface</td>\n",
       "      <td>NaN</td>\n",
       "      <td>NaN</td>\n",
       "      <td>NaN</td>\n",
       "      <td>...</td>\n",
       "      <td>NaN</td>\n",
       "      <td>NaN</td>\n",
       "      <td>NaN</td>\n",
       "      <td>NaN</td>\n",
       "      <td>NaN</td>\n",
       "      <td>NaN</td>\n",
       "      <td>NaN</td>\n",
       "      <td>NaN</td>\n",
       "      <td>NaN</td>\n",
       "      <td>NaN</td>\n",
       "    </tr>\n",
       "  </tbody>\n",
       "</table>\n",
       "<p>5 rows × 29 columns</p>\n",
       "</div>"
      ],
      "text/plain": [
       "                                                       nodes  amenity  \\\n",
       "146047911  [1593435262, 1593435285, 1593435350, 159343529...  parking   \n",
       "146047918  [1593435488, 1593435458, 1593435230, 159343549...  parking   \n",
       "146047930  [1593435352, 1593435214, 1593435342, 159343522...  parking   \n",
       "146047932  [1593435493, 1593435452, 1593435400, 159343519...  parking   \n",
       "146063025  [1593531125, 1593531279, 1593530740, 159353102...  parking   \n",
       "\n",
       "          building capacity capacity:disabled name  parking source supervised  \\\n",
       "146047911      NaN      NaN               NaN  NaN  surface    NaN        NaN   \n",
       "146047918      NaN      NaN               NaN  NaN  surface    NaN        NaN   \n",
       "146047930      NaN      NaN               NaN  NaN  surface    NaN        NaN   \n",
       "146047932      NaN      NaN               NaN  NaN  surface    NaN        NaN   \n",
       "146063025      NaN      NaN               NaN  NaN  surface    NaN        NaN   \n",
       "\n",
       "          wikidata  ... addr:state addr:street description  fee  \\\n",
       "146047911      NaN  ...        NaN         NaN         NaN  NaN   \n",
       "146047918      NaN  ...        NaN         NaN         NaN  NaN   \n",
       "146047930      NaN  ...        NaN         NaN         NaN  NaN   \n",
       "146047932      NaN  ...        NaN         NaN         NaN  NaN   \n",
       "146063025      NaN  ...        NaN         NaN         NaN  NaN   \n",
       "\n",
       "          building:levels layer  lit smoothness members type  \n",
       "146047911             NaN   NaN  NaN        NaN     NaN  NaN  \n",
       "146047918             NaN   NaN  NaN        NaN     NaN  NaN  \n",
       "146047930             NaN   NaN  NaN        NaN     NaN  NaN  \n",
       "146047932             NaN   NaN  NaN        NaN     NaN  NaN  \n",
       "146063025             NaN   NaN  NaN        NaN     NaN  NaN  \n",
       "\n",
       "[5 rows x 29 columns]"
      ]
     },
     "execution_count": 10,
     "metadata": {},
     "output_type": "execute_result"
    }
   ],
   "source": [
    "filtered_surface = footprints.query(\"parking == 'surface'\")\n",
    "filtered_surface.head()"
   ]
  },
  {
   "cell_type": "code",
   "execution_count": 11,
   "metadata": {},
   "outputs": [
    {
     "data": {
      "text/plain": [
       "{'count': 161, 'area': 200896.37325141992}"
      ]
     },
     "execution_count": 11,
     "metadata": {},
     "output_type": "execute_result"
    }
   ],
   "source": [
    "calculations['surface']['count'] = len(filtered_surface.index)\n",
    "calculations['surface']['area'] = filtered_surface.area.sum()\n",
    "\n",
    "calculations['surface']"
   ]
  },
  {
   "cell_type": "code",
   "execution_count": null,
   "metadata": {},
   "outputs": [],
   "source": []
  }
 ],
 "metadata": {
  "kernelspec": {
   "display_name": "Python 3",
   "language": "python",
   "name": "python3"
  },
  "language_info": {
   "codemirror_mode": {
    "name": "ipython",
    "version": 3
   },
   "file_extension": ".py",
   "mimetype": "text/x-python",
   "name": "python",
   "nbconvert_exporter": "python",
   "pygments_lexer": "ipython3",
   "version": "3.7.6"
  },
  "pycharm": {
   "stem_cell": {
    "cell_type": "raw",
    "metadata": {
     "collapsed": false
    },
    "source": []
   }
  }
 },
 "nbformat": 4,
 "nbformat_minor": 4
}
