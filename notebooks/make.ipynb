{
 "cells": [
  {
   "cell_type": "markdown",
   "metadata": {},
   "source": [
    "# Parking Analysis Calculations\n",
    "\n",
    "This notebook retrieves parking data, processes it, and creates output files describing the findings."
   ]
  },
  {
   "cell_type": "code",
   "execution_count": 22,
   "metadata": {},
   "outputs": [
    {
     "data": {
      "text/plain": [
       "'0.11'"
      ]
     },
     "execution_count": 22,
     "metadata": {},
     "output_type": "execute_result"
    }
   ],
   "source": [
    "import pandas as pd\n",
    "import geopandas as gpd\n",
    "import osmnx as ox\n",
    "from functools import reduce\n",
    "from measurement.measures import Area\n",
    "from decimal import Decimal\n",
    "import folium\n",
    "from shapely import geometry, ops\n",
    "from string import Template\n",
    "import datetime\n",
    "import numpy as np\n",
    "import os\n",
    "%matplotlib inline\n",
    "ox.config(log_console=True, use_cache=False)\n",
    "ox.__version__"
   ]
  },
  {
   "cell_type": "markdown",
   "metadata": {},
   "source": [
    "Specify the area to look for and the type of footprints to look for. Here, we only want the Downtown Neighborhood, and we are only looking for footprints tagged as \"amenity:parking\" in OSM.\n",
    "\n",
    "**Note:** You must supply a `place` string which returns a valid result in OSM. For this calculation, I manually had to create the \"Dowtown\" neighborhood from the [City's GIS](http://pvdgis.maps.arcgis.com/home/webmap/viewer.html?useExisting=1&layers=07555d51a34a4fa0a43e9c920f68970f). Other neighborhoods may or may not be on OSM. For example, Fox Point and College Hill are, but Upper South Providence is not."
   ]
  },
  {
   "cell_type": "code",
   "execution_count": 23,
   "metadata": {},
   "outputs": [],
   "source": [
    "place = \"Downtown, Providence, RI, USA\""
   ]
  },
  {
   "cell_type": "markdown",
   "metadata": {},
   "source": [
    "We'll also download the Polygon representing the place's bounds, and get it's area (all areas are initially in square meters)."
   ]
  },
  {
   "cell_type": "code",
   "execution_count": 24,
   "metadata": {},
   "outputs": [],
   "source": [
    "downtown_poly = ox.gdf_from_place(place).geometry[0]\n",
    "downtown_area = ox.project_geometry(downtown_poly)[0].area"
   ]
  },
  {
   "cell_type": "markdown",
   "metadata": {},
   "source": [
    "Now, we'll set up the `stats` `DataFrame` to hold a bunch of calculations:"
   ]
  },
  {
   "cell_type": "code",
   "execution_count": 25,
   "metadata": {},
   "outputs": [],
   "source": [
    "stat_columns = {\n",
    "    'count': np.int64,\n",
    "    'disabled_count': np.int64,\n",
    "    'area_sum': np.float64,\n",
    "    'area_mean': np.float64,\n",
    "    'area_median': np.float64,                  \n",
    "    'area_percent_sum': np.float64,\n",
    "    'area_percent_mean': np.float64,\n",
    "    'area_percent_median': np.float64,\n",
    "    'capacity_sum': np.int64,\n",
    "    'capacity_mean': np.int64,\n",
    "    'capacity_median': np.int64,\n",
    "    'capacity:disabled_sum': np.int64,\n",
    "    'capacity:disabled_mean': np.int64,\n",
    "    'capacity:disabled_median': np.int64,\n",
    "    'efficiency_sum': np.float64, \n",
    "    'efficiency_mean': np.float64,\n",
    "    'efficiency_median': np.float64\n",
    "}\n",
    "\n",
    "stats = pd.DataFrame()\n",
    "for c in stat_columns:\n",
    "    stats[c] = pd.Series(dtype=stat_columns[c])"
   ]
  },
  {
   "cell_type": "markdown",
   "metadata": {},
   "source": [
    "Because of the way OSM stores data and OSMnx retrieves it, we need to handle parking lots and garages separately from how we handle on-street parking.\n",
    "\n",
    "## Lot/Garage Parking\n",
    "\n",
    "We will use OSMnx to download \"footprints.\" These are effectively polygons representing the shapes of lots in the neighborhood. Each shape is \"tagged\" (in OSM parlance) with various bits of information (surface type, capacity, etc.).\n",
    "\n",
    "For OSMnx to retrieve the right footprints, we need to specify a type:"
   ]
  },
  {
   "cell_type": "code",
   "execution_count": 26,
   "metadata": {},
   "outputs": [],
   "source": [
    "footprint_type = \"parking\""
   ]
  },
  {
   "cell_type": "markdown",
   "metadata": {},
   "source": [
    "Download the footprints from OSM, and them project them to UTM 19 via OSMnx (UTM Zone selected automatically):"
   ]
  },
  {
   "cell_type": "code",
   "execution_count": 27,
   "metadata": {},
   "outputs": [],
   "source": [
    "footprints_unprojected = ox.footprints.footprints_from_place(place, footprint_type=footprint_type)\n",
    "footprints = ox.project_gdf(footprints_unprojected)"
   ]
  },
  {
   "cell_type": "markdown",
   "metadata": {},
   "source": [
    "We filter out uneeded information, filter out facilities without capacties set, calculate each footprint's area, and convert some values to numbers:"
   ]
  },
  {
   "cell_type": "code",
   "execution_count": 28,
   "metadata": {},
   "outputs": [],
   "source": [
    "footprints = footprints[['name', 'parking', 'geometry', 'capacity', 'capacity:disabled']]\n",
    "footprints = footprints.dropna(subset=['capacity'])\n",
    "footprints['area'] = footprints.geometry.area\n",
    "footprints['capacity'] = pd.to_numeric(footprints['capacity'])\n",
    "footprints['capacity:disabled'] = pd.to_numeric(footprints['capacity:disabled'])"
   ]
  },
  {
   "cell_type": "markdown",
   "metadata": {},
   "source": [
    "From this, we calculate the efficiency, the amount of space required per each parking spot, and a percentage of the region's land area each facility uses."
   ]
  },
  {
   "cell_type": "code",
   "execution_count": 29,
   "metadata": {},
   "outputs": [],
   "source": [
    "footprints['efficiency'] = footprints['area'] / footprints['capacity']\n",
    "footprints['area_percent'] = 100 * (footprints['area'] / downtown_area)"
   ]
  },
  {
   "cell_type": "markdown",
   "metadata": {},
   "source": [
    "Now, we filter the footprints into the subcategories. \"Surface\" lots, \"structured\" garages (indicated by the OSM `parking = multi-storey` tag, and \"underground\" garages."
   ]
  },
  {
   "cell_type": "code",
   "execution_count": 30,
   "metadata": {},
   "outputs": [],
   "source": [
    "fp_surface = footprints[footprints['parking'] == \"surface\"]\n",
    "fp_structure = footprints[footprints['parking'] == \"multi-storey\"]\n",
    "fp_underground = footprints[footprints['parking'] == \"underground\"]"
   ]
  },
  {
   "cell_type": "markdown",
   "metadata": {},
   "source": [
    "Surface lots and strucutred lots have the same calculations:"
   ]
  },
  {
   "cell_type": "code",
   "execution_count": 31,
   "metadata": {},
   "outputs": [],
   "source": [
    "for parking_type, frame in zip(['surface', 'structured'], [fp_surface, fp_structure]):\n",
    "    stats.loc[parking_type, 'count'] = len(frame)\n",
    "    stats.loc[parking_type, 'count_disabled'] = len(frame[frame['capacity:disabled'].notnull()])\n",
    "    stats.loc[parking_type, 'area_sum'] = frame['area'].sum()\n",
    "    stats.loc[parking_type, 'area_mean'] = frame['area'].mean()\n",
    "    stats.loc[parking_type, 'area_median'] = frame['area'].median()\n",
    "    stats.loc[parking_type, 'area_percent_sum'] = frame['area_percent'].sum()\n",
    "    stats.loc[parking_type, 'area_percent_mean'] = frame['area_percent'].mean()\n",
    "    stats.loc[parking_type, 'area_percent_median'] = frame['area_percent'].median()\n",
    "    stats.loc[parking_type, 'capacity_sum'] = pd.to_numeric(frame['capacity']).sum()\n",
    "    stats.loc[parking_type, 'capacity_mean'] = pd.to_numeric(frame['capacity']).mean()\n",
    "    stats.loc[parking_type, 'capacity_median'] = pd.to_numeric(frame['capacity']).median()\n",
    "    stats.loc[parking_type, 'capacity:disabled_sum'] = pd.to_numeric(frame['capacity:disabled']).sum()\n",
    "    stats.loc[parking_type, 'capacity:disabled_mean'] = pd.to_numeric(frame['capacity:disabled']).mean()\n",
    "    stats.loc[parking_type, 'capacity:disabled_median'] = pd.to_numeric(frame['capacity:disabled']).median()\n",
    "    stats.loc[parking_type, 'efficiency_sum'] = frame['efficiency'].sum()\n",
    "    stats.loc[parking_type, 'efficiency_mean'] = frame['efficiency'].mean()\n",
    "    stats.loc[parking_type, 'efficiency_median'] = frame['efficiency'].median()"
   ]
  },
  {
   "cell_type": "markdown",
   "metadata": {},
   "source": [
    "We don't calculate area for underground garages, so the calculations for this type are different."
   ]
  },
  {
   "cell_type": "code",
   "execution_count": 32,
   "metadata": {},
   "outputs": [],
   "source": [
    "parking_type = \"underground\"\n",
    "frame = fp_underground\n",
    "\n",
    "parking_dim_a_ft = 9\n",
    "parking_dim_b_ft = 17\n",
    "parking_spot_area = Area(sq_ft = parking_dim_a_ft * parking_dim_b_ft).sq_m\n",
    "\n",
    "stats.loc[parking_type, 'count'] = len(frame)\n",
    "stats.loc[parking_type, 'count_disabled'] = len(frame[frame['capacity:disabled'].notnull()])\n",
    "stats.loc[parking_type, 'capacity_sum'] = pd.to_numeric(frame['capacity']).sum()\n",
    "stats.loc[parking_type, 'capacity_mean'] = pd.to_numeric(frame['capacity']).mean()\n",
    "stats.loc[parking_type, 'capacity_median'] = pd.to_numeric(frame['capacity']).median()\n",
    "stats.loc[parking_type, 'capacity:disabled_sum'] = pd.to_numeric(frame['capacity:disabled']).sum()\n",
    "stats.loc[parking_type, 'capacity:disabled_mean'] = pd.to_numeric(frame['capacity:disabled']).mean()\n",
    "stats.loc[parking_type, 'capacity:disabled_median'] = pd.to_numeric(frame['capacity:disabled']).median()"
   ]
  },
  {
   "cell_type": "markdown",
   "metadata": {},
   "source": [
    "## On-Street Parking\n",
    "\n",
    "Now, we can focus on on-street parking. Streets are defined as \"ways\" in OSM. Ideally, we would be able to pull these from OSM using the `osmnx.pois` module, but this is not currently possible because `osmnx.pois.create_poi_gdf` filters the dataset using the OSM `amenity` tag, which won't work since street parking is defined with the `parking:lane` tag. **Note:** [there is discussion](https://github.com/gboeing/osmnx/pull/342) on changing this in a future release of OSMnx.\n",
    "\n",
    "Instead, we will get *all* OSM data as JSON, and filter to the ways we want."
   ]
  },
  {
   "cell_type": "code",
   "execution_count": 33,
   "metadata": {},
   "outputs": [],
   "source": [
    "download = ox.osm_net_download(polygon=downtown_poly)[0]['elements']\n",
    "\n",
    "def is_way_with_parking(element):\n",
    "    match_tags = ['parking:lane:both', 'parking:lane:left', 'parking:lane:right']\n",
    "    \n",
    "    val = element['type'] == 'way'\n",
    "    val &= 'tags' in element and any(k in match_tags for k in element['tags'].keys())\n",
    "    \n",
    "    return val\n",
    "\n",
    "filtered = list(filter(is_way_with_parking, download))\n",
    "\n",
    "street_parking_meta = pd.DataFrame()\n",
    "\n",
    "for f in filtered:\n",
    "    osmid = f['id']\n",
    "    tags = f.get('tags', {})\n",
    "    capacity = 0\n",
    "    name = \"\"\n",
    "    for t in tags.keys():\n",
    "        if t.startswith('parking') and t.endswith('capacity'):\n",
    "            capacity += int(tags[t])\n",
    "        elif t == \"name\":\n",
    "            name = tags[t]\n",
    "    street_parking_meta.loc[osmid, 'name'] = name\n",
    "    street_parking_meta.loc[osmid, 'capacity'] = int(capacity)"
   ]
  },
  {
   "cell_type": "markdown",
   "metadata": {},
   "source": [
    "`street_parking_meta` is a plain `pandas.DataFrame`, with no geospatial information. We can now use `osmnx.graph_from_place` to pull the geospatial data for each of the streets we want.\n",
    "\n",
    "By filtering the network by `parking:lane` criteria and merging the results with capacities stored in `street_parking_meta`, we generate the `street_parking` `GeoDataFrame` containing the geometries, street names, and capacities of different road segments."
   ]
  },
  {
   "cell_type": "code",
   "execution_count": 34,
   "metadata": {
    "scrolled": true
   },
   "outputs": [
    {
     "name": "stderr",
     "output_type": "stream",
     "text": [
      "/Users/chris/opt/anaconda3/envs/parking-analysis/lib/python3.7/site-packages/ipykernel_launcher.py:22: SettingWithCopyWarning: \n",
      "A value is trying to be set on a copy of a slice from a DataFrame\n",
      "\n",
      "See the caveats in the documentation: http://pandas.pydata.org/pandas-docs/stable/user_guide/indexing.html#returning-a-view-versus-a-copy\n"
     ]
    },
    {
     "ename": "ReadTimeout",
     "evalue": "HTTPSConnectionPool(host='nominatim.openstreetmap.org', port=443): Read timed out. (read timeout=30)",
     "output_type": "error",
     "traceback": [
      "\u001b[0;31m---------------------------------------------------------------------------\u001b[0m",
      "\u001b[0;31mtimeout\u001b[0m                                   Traceback (most recent call last)",
      "\u001b[0;32m~/opt/anaconda3/envs/parking-analysis/lib/python3.7/site-packages/urllib3/connectionpool.py\u001b[0m in \u001b[0;36m_make_request\u001b[0;34m(self, conn, method, url, timeout, chunked, **httplib_request_kw)\u001b[0m\n\u001b[1;32m    420\u001b[0m                     \u001b[0;31m# Otherwise it looks like a bug in the code.\u001b[0m\u001b[0;34m\u001b[0m\u001b[0;34m\u001b[0m\u001b[0;34m\u001b[0m\u001b[0m\n\u001b[0;32m--> 421\u001b[0;31m                     \u001b[0msix\u001b[0m\u001b[0;34m.\u001b[0m\u001b[0mraise_from\u001b[0m\u001b[0;34m(\u001b[0m\u001b[0me\u001b[0m\u001b[0;34m,\u001b[0m \u001b[0;32mNone\u001b[0m\u001b[0;34m)\u001b[0m\u001b[0;34m\u001b[0m\u001b[0;34m\u001b[0m\u001b[0m\n\u001b[0m\u001b[1;32m    422\u001b[0m         \u001b[0;32mexcept\u001b[0m \u001b[0;34m(\u001b[0m\u001b[0mSocketTimeout\u001b[0m\u001b[0;34m,\u001b[0m \u001b[0mBaseSSLError\u001b[0m\u001b[0;34m,\u001b[0m \u001b[0mSocketError\u001b[0m\u001b[0;34m)\u001b[0m \u001b[0;32mas\u001b[0m \u001b[0me\u001b[0m\u001b[0;34m:\u001b[0m\u001b[0;34m\u001b[0m\u001b[0;34m\u001b[0m\u001b[0m\n",
      "\u001b[0;32m~/opt/anaconda3/envs/parking-analysis/lib/python3.7/site-packages/urllib3/packages/six.py\u001b[0m in \u001b[0;36mraise_from\u001b[0;34m(value, from_value)\u001b[0m\n",
      "\u001b[0;32m~/opt/anaconda3/envs/parking-analysis/lib/python3.7/site-packages/urllib3/connectionpool.py\u001b[0m in \u001b[0;36m_make_request\u001b[0;34m(self, conn, method, url, timeout, chunked, **httplib_request_kw)\u001b[0m\n\u001b[1;32m    415\u001b[0m                 \u001b[0;32mtry\u001b[0m\u001b[0;34m:\u001b[0m\u001b[0;34m\u001b[0m\u001b[0;34m\u001b[0m\u001b[0m\n\u001b[0;32m--> 416\u001b[0;31m                     \u001b[0mhttplib_response\u001b[0m \u001b[0;34m=\u001b[0m \u001b[0mconn\u001b[0m\u001b[0;34m.\u001b[0m\u001b[0mgetresponse\u001b[0m\u001b[0;34m(\u001b[0m\u001b[0;34m)\u001b[0m\u001b[0;34m\u001b[0m\u001b[0;34m\u001b[0m\u001b[0m\n\u001b[0m\u001b[1;32m    417\u001b[0m                 \u001b[0;32mexcept\u001b[0m \u001b[0mBaseException\u001b[0m \u001b[0;32mas\u001b[0m \u001b[0me\u001b[0m\u001b[0;34m:\u001b[0m\u001b[0;34m\u001b[0m\u001b[0;34m\u001b[0m\u001b[0m\n",
      "\u001b[0;32m~/opt/anaconda3/envs/parking-analysis/lib/python3.7/http/client.py\u001b[0m in \u001b[0;36mgetresponse\u001b[0;34m(self)\u001b[0m\n\u001b[1;32m   1343\u001b[0m             \u001b[0;32mtry\u001b[0m\u001b[0;34m:\u001b[0m\u001b[0;34m\u001b[0m\u001b[0;34m\u001b[0m\u001b[0m\n\u001b[0;32m-> 1344\u001b[0;31m                 \u001b[0mresponse\u001b[0m\u001b[0;34m.\u001b[0m\u001b[0mbegin\u001b[0m\u001b[0;34m(\u001b[0m\u001b[0;34m)\u001b[0m\u001b[0;34m\u001b[0m\u001b[0;34m\u001b[0m\u001b[0m\n\u001b[0m\u001b[1;32m   1345\u001b[0m             \u001b[0;32mexcept\u001b[0m \u001b[0mConnectionError\u001b[0m\u001b[0;34m:\u001b[0m\u001b[0;34m\u001b[0m\u001b[0;34m\u001b[0m\u001b[0m\n",
      "\u001b[0;32m~/opt/anaconda3/envs/parking-analysis/lib/python3.7/http/client.py\u001b[0m in \u001b[0;36mbegin\u001b[0;34m(self)\u001b[0m\n\u001b[1;32m    305\u001b[0m         \u001b[0;32mwhile\u001b[0m \u001b[0;32mTrue\u001b[0m\u001b[0;34m:\u001b[0m\u001b[0;34m\u001b[0m\u001b[0;34m\u001b[0m\u001b[0m\n\u001b[0;32m--> 306\u001b[0;31m             \u001b[0mversion\u001b[0m\u001b[0;34m,\u001b[0m \u001b[0mstatus\u001b[0m\u001b[0;34m,\u001b[0m \u001b[0mreason\u001b[0m \u001b[0;34m=\u001b[0m \u001b[0mself\u001b[0m\u001b[0;34m.\u001b[0m\u001b[0m_read_status\u001b[0m\u001b[0;34m(\u001b[0m\u001b[0;34m)\u001b[0m\u001b[0;34m\u001b[0m\u001b[0;34m\u001b[0m\u001b[0m\n\u001b[0m\u001b[1;32m    307\u001b[0m             \u001b[0;32mif\u001b[0m \u001b[0mstatus\u001b[0m \u001b[0;34m!=\u001b[0m \u001b[0mCONTINUE\u001b[0m\u001b[0;34m:\u001b[0m\u001b[0;34m\u001b[0m\u001b[0;34m\u001b[0m\u001b[0m\n",
      "\u001b[0;32m~/opt/anaconda3/envs/parking-analysis/lib/python3.7/http/client.py\u001b[0m in \u001b[0;36m_read_status\u001b[0;34m(self)\u001b[0m\n\u001b[1;32m    266\u001b[0m     \u001b[0;32mdef\u001b[0m \u001b[0m_read_status\u001b[0m\u001b[0;34m(\u001b[0m\u001b[0mself\u001b[0m\u001b[0;34m)\u001b[0m\u001b[0;34m:\u001b[0m\u001b[0;34m\u001b[0m\u001b[0;34m\u001b[0m\u001b[0m\n\u001b[0;32m--> 267\u001b[0;31m         \u001b[0mline\u001b[0m \u001b[0;34m=\u001b[0m \u001b[0mstr\u001b[0m\u001b[0;34m(\u001b[0m\u001b[0mself\u001b[0m\u001b[0;34m.\u001b[0m\u001b[0mfp\u001b[0m\u001b[0;34m.\u001b[0m\u001b[0mreadline\u001b[0m\u001b[0;34m(\u001b[0m\u001b[0m_MAXLINE\u001b[0m \u001b[0;34m+\u001b[0m \u001b[0;36m1\u001b[0m\u001b[0;34m)\u001b[0m\u001b[0;34m,\u001b[0m \u001b[0;34m\"iso-8859-1\"\u001b[0m\u001b[0;34m)\u001b[0m\u001b[0;34m\u001b[0m\u001b[0;34m\u001b[0m\u001b[0m\n\u001b[0m\u001b[1;32m    268\u001b[0m         \u001b[0;32mif\u001b[0m \u001b[0mlen\u001b[0m\u001b[0;34m(\u001b[0m\u001b[0mline\u001b[0m\u001b[0;34m)\u001b[0m \u001b[0;34m>\u001b[0m \u001b[0m_MAXLINE\u001b[0m\u001b[0;34m:\u001b[0m\u001b[0;34m\u001b[0m\u001b[0;34m\u001b[0m\u001b[0m\n",
      "\u001b[0;32m~/opt/anaconda3/envs/parking-analysis/lib/python3.7/socket.py\u001b[0m in \u001b[0;36mreadinto\u001b[0;34m(self, b)\u001b[0m\n\u001b[1;32m    588\u001b[0m             \u001b[0;32mtry\u001b[0m\u001b[0;34m:\u001b[0m\u001b[0;34m\u001b[0m\u001b[0;34m\u001b[0m\u001b[0m\n\u001b[0;32m--> 589\u001b[0;31m                 \u001b[0;32mreturn\u001b[0m \u001b[0mself\u001b[0m\u001b[0;34m.\u001b[0m\u001b[0m_sock\u001b[0m\u001b[0;34m.\u001b[0m\u001b[0mrecv_into\u001b[0m\u001b[0;34m(\u001b[0m\u001b[0mb\u001b[0m\u001b[0;34m)\u001b[0m\u001b[0;34m\u001b[0m\u001b[0;34m\u001b[0m\u001b[0m\n\u001b[0m\u001b[1;32m    590\u001b[0m             \u001b[0;32mexcept\u001b[0m \u001b[0mtimeout\u001b[0m\u001b[0;34m:\u001b[0m\u001b[0;34m\u001b[0m\u001b[0;34m\u001b[0m\u001b[0m\n",
      "\u001b[0;32m~/opt/anaconda3/envs/parking-analysis/lib/python3.7/site-packages/urllib3/contrib/pyopenssl.py\u001b[0m in \u001b[0;36mrecv_into\u001b[0;34m(self, *args, **kwargs)\u001b[0m\n\u001b[1;32m    325\u001b[0m             \u001b[0;32mif\u001b[0m \u001b[0;32mnot\u001b[0m \u001b[0mutil\u001b[0m\u001b[0;34m.\u001b[0m\u001b[0mwait_for_read\u001b[0m\u001b[0;34m(\u001b[0m\u001b[0mself\u001b[0m\u001b[0;34m.\u001b[0m\u001b[0msocket\u001b[0m\u001b[0;34m,\u001b[0m \u001b[0mself\u001b[0m\u001b[0;34m.\u001b[0m\u001b[0msocket\u001b[0m\u001b[0;34m.\u001b[0m\u001b[0mgettimeout\u001b[0m\u001b[0;34m(\u001b[0m\u001b[0;34m)\u001b[0m\u001b[0;34m)\u001b[0m\u001b[0;34m:\u001b[0m\u001b[0;34m\u001b[0m\u001b[0;34m\u001b[0m\u001b[0m\n\u001b[0;32m--> 326\u001b[0;31m                 \u001b[0;32mraise\u001b[0m \u001b[0mtimeout\u001b[0m\u001b[0;34m(\u001b[0m\u001b[0;34m\"The read operation timed out\"\u001b[0m\u001b[0;34m)\u001b[0m\u001b[0;34m\u001b[0m\u001b[0;34m\u001b[0m\u001b[0m\n\u001b[0m\u001b[1;32m    327\u001b[0m             \u001b[0;32melse\u001b[0m\u001b[0;34m:\u001b[0m\u001b[0;34m\u001b[0m\u001b[0;34m\u001b[0m\u001b[0m\n",
      "\u001b[0;31mtimeout\u001b[0m: The read operation timed out",
      "\nDuring handling of the above exception, another exception occurred:\n",
      "\u001b[0;31mReadTimeoutError\u001b[0m                          Traceback (most recent call last)",
      "\u001b[0;32m~/opt/anaconda3/envs/parking-analysis/lib/python3.7/site-packages/requests/adapters.py\u001b[0m in \u001b[0;36msend\u001b[0;34m(self, request, stream, timeout, verify, cert, proxies)\u001b[0m\n\u001b[1;32m    448\u001b[0m                     \u001b[0mretries\u001b[0m\u001b[0;34m=\u001b[0m\u001b[0mself\u001b[0m\u001b[0;34m.\u001b[0m\u001b[0mmax_retries\u001b[0m\u001b[0;34m,\u001b[0m\u001b[0;34m\u001b[0m\u001b[0;34m\u001b[0m\u001b[0m\n\u001b[0;32m--> 449\u001b[0;31m                     \u001b[0mtimeout\u001b[0m\u001b[0;34m=\u001b[0m\u001b[0mtimeout\u001b[0m\u001b[0;34m\u001b[0m\u001b[0;34m\u001b[0m\u001b[0m\n\u001b[0m\u001b[1;32m    450\u001b[0m                 )\n",
      "\u001b[0;32m~/opt/anaconda3/envs/parking-analysis/lib/python3.7/site-packages/urllib3/connectionpool.py\u001b[0m in \u001b[0;36murlopen\u001b[0;34m(self, method, url, body, headers, retries, redirect, assert_same_host, timeout, pool_timeout, release_conn, chunked, body_pos, **response_kw)\u001b[0m\n\u001b[1;32m    719\u001b[0m             retries = retries.increment(\n\u001b[0;32m--> 720\u001b[0;31m                 \u001b[0mmethod\u001b[0m\u001b[0;34m,\u001b[0m \u001b[0murl\u001b[0m\u001b[0;34m,\u001b[0m \u001b[0merror\u001b[0m\u001b[0;34m=\u001b[0m\u001b[0me\u001b[0m\u001b[0;34m,\u001b[0m \u001b[0m_pool\u001b[0m\u001b[0;34m=\u001b[0m\u001b[0mself\u001b[0m\u001b[0;34m,\u001b[0m \u001b[0m_stacktrace\u001b[0m\u001b[0;34m=\u001b[0m\u001b[0msys\u001b[0m\u001b[0;34m.\u001b[0m\u001b[0mexc_info\u001b[0m\u001b[0;34m(\u001b[0m\u001b[0;34m)\u001b[0m\u001b[0;34m[\u001b[0m\u001b[0;36m2\u001b[0m\u001b[0;34m]\u001b[0m\u001b[0;34m\u001b[0m\u001b[0;34m\u001b[0m\u001b[0m\n\u001b[0m\u001b[1;32m    721\u001b[0m             )\n",
      "\u001b[0;32m~/opt/anaconda3/envs/parking-analysis/lib/python3.7/site-packages/urllib3/util/retry.py\u001b[0m in \u001b[0;36mincrement\u001b[0;34m(self, method, url, response, error, _pool, _stacktrace)\u001b[0m\n\u001b[1;32m    399\u001b[0m             \u001b[0;32mif\u001b[0m \u001b[0mread\u001b[0m \u001b[0;32mis\u001b[0m \u001b[0;32mFalse\u001b[0m \u001b[0;32mor\u001b[0m \u001b[0;32mnot\u001b[0m \u001b[0mself\u001b[0m\u001b[0;34m.\u001b[0m\u001b[0m_is_method_retryable\u001b[0m\u001b[0;34m(\u001b[0m\u001b[0mmethod\u001b[0m\u001b[0;34m)\u001b[0m\u001b[0;34m:\u001b[0m\u001b[0;34m\u001b[0m\u001b[0;34m\u001b[0m\u001b[0m\n\u001b[0;32m--> 400\u001b[0;31m                 \u001b[0;32mraise\u001b[0m \u001b[0msix\u001b[0m\u001b[0;34m.\u001b[0m\u001b[0mreraise\u001b[0m\u001b[0;34m(\u001b[0m\u001b[0mtype\u001b[0m\u001b[0;34m(\u001b[0m\u001b[0merror\u001b[0m\u001b[0;34m)\u001b[0m\u001b[0;34m,\u001b[0m \u001b[0merror\u001b[0m\u001b[0;34m,\u001b[0m \u001b[0m_stacktrace\u001b[0m\u001b[0;34m)\u001b[0m\u001b[0;34m\u001b[0m\u001b[0;34m\u001b[0m\u001b[0m\n\u001b[0m\u001b[1;32m    401\u001b[0m             \u001b[0;32melif\u001b[0m \u001b[0mread\u001b[0m \u001b[0;32mis\u001b[0m \u001b[0;32mnot\u001b[0m \u001b[0;32mNone\u001b[0m\u001b[0;34m:\u001b[0m\u001b[0;34m\u001b[0m\u001b[0;34m\u001b[0m\u001b[0m\n",
      "\u001b[0;32m~/opt/anaconda3/envs/parking-analysis/lib/python3.7/site-packages/urllib3/packages/six.py\u001b[0m in \u001b[0;36mreraise\u001b[0;34m(tp, value, tb)\u001b[0m\n\u001b[1;32m    734\u001b[0m                 \u001b[0;32mraise\u001b[0m \u001b[0mvalue\u001b[0m\u001b[0;34m.\u001b[0m\u001b[0mwith_traceback\u001b[0m\u001b[0;34m(\u001b[0m\u001b[0mtb\u001b[0m\u001b[0;34m)\u001b[0m\u001b[0;34m\u001b[0m\u001b[0;34m\u001b[0m\u001b[0m\n\u001b[0;32m--> 735\u001b[0;31m             \u001b[0;32mraise\u001b[0m \u001b[0mvalue\u001b[0m\u001b[0;34m\u001b[0m\u001b[0;34m\u001b[0m\u001b[0m\n\u001b[0m\u001b[1;32m    736\u001b[0m         \u001b[0;32mfinally\u001b[0m\u001b[0;34m:\u001b[0m\u001b[0;34m\u001b[0m\u001b[0;34m\u001b[0m\u001b[0m\n",
      "\u001b[0;32m~/opt/anaconda3/envs/parking-analysis/lib/python3.7/site-packages/urllib3/connectionpool.py\u001b[0m in \u001b[0;36murlopen\u001b[0;34m(self, method, url, body, headers, retries, redirect, assert_same_host, timeout, pool_timeout, release_conn, chunked, body_pos, **response_kw)\u001b[0m\n\u001b[1;32m    671\u001b[0m                 \u001b[0mheaders\u001b[0m\u001b[0;34m=\u001b[0m\u001b[0mheaders\u001b[0m\u001b[0;34m,\u001b[0m\u001b[0;34m\u001b[0m\u001b[0;34m\u001b[0m\u001b[0m\n\u001b[0;32m--> 672\u001b[0;31m                 \u001b[0mchunked\u001b[0m\u001b[0;34m=\u001b[0m\u001b[0mchunked\u001b[0m\u001b[0;34m,\u001b[0m\u001b[0;34m\u001b[0m\u001b[0;34m\u001b[0m\u001b[0m\n\u001b[0m\u001b[1;32m    673\u001b[0m             )\n",
      "\u001b[0;32m~/opt/anaconda3/envs/parking-analysis/lib/python3.7/site-packages/urllib3/connectionpool.py\u001b[0m in \u001b[0;36m_make_request\u001b[0;34m(self, conn, method, url, timeout, chunked, **httplib_request_kw)\u001b[0m\n\u001b[1;32m    422\u001b[0m         \u001b[0;32mexcept\u001b[0m \u001b[0;34m(\u001b[0m\u001b[0mSocketTimeout\u001b[0m\u001b[0;34m,\u001b[0m \u001b[0mBaseSSLError\u001b[0m\u001b[0;34m,\u001b[0m \u001b[0mSocketError\u001b[0m\u001b[0;34m)\u001b[0m \u001b[0;32mas\u001b[0m \u001b[0me\u001b[0m\u001b[0;34m:\u001b[0m\u001b[0;34m\u001b[0m\u001b[0;34m\u001b[0m\u001b[0m\n\u001b[0;32m--> 423\u001b[0;31m             \u001b[0mself\u001b[0m\u001b[0;34m.\u001b[0m\u001b[0m_raise_timeout\u001b[0m\u001b[0;34m(\u001b[0m\u001b[0merr\u001b[0m\u001b[0;34m=\u001b[0m\u001b[0me\u001b[0m\u001b[0;34m,\u001b[0m \u001b[0murl\u001b[0m\u001b[0;34m=\u001b[0m\u001b[0murl\u001b[0m\u001b[0;34m,\u001b[0m \u001b[0mtimeout_value\u001b[0m\u001b[0;34m=\u001b[0m\u001b[0mread_timeout\u001b[0m\u001b[0;34m)\u001b[0m\u001b[0;34m\u001b[0m\u001b[0;34m\u001b[0m\u001b[0m\n\u001b[0m\u001b[1;32m    424\u001b[0m             \u001b[0;32mraise\u001b[0m\u001b[0;34m\u001b[0m\u001b[0;34m\u001b[0m\u001b[0m\n",
      "\u001b[0;32m~/opt/anaconda3/envs/parking-analysis/lib/python3.7/site-packages/urllib3/connectionpool.py\u001b[0m in \u001b[0;36m_raise_timeout\u001b[0;34m(self, err, url, timeout_value)\u001b[0m\n\u001b[1;32m    330\u001b[0m             raise ReadTimeoutError(\n\u001b[0;32m--> 331\u001b[0;31m                 \u001b[0mself\u001b[0m\u001b[0;34m,\u001b[0m \u001b[0murl\u001b[0m\u001b[0;34m,\u001b[0m \u001b[0;34m\"Read timed out. (read timeout=%s)\"\u001b[0m \u001b[0;34m%\u001b[0m \u001b[0mtimeout_value\u001b[0m\u001b[0;34m\u001b[0m\u001b[0;34m\u001b[0m\u001b[0m\n\u001b[0m\u001b[1;32m    332\u001b[0m             )\n",
      "\u001b[0;31mReadTimeoutError\u001b[0m: HTTPSConnectionPool(host='nominatim.openstreetmap.org', port=443): Read timed out. (read timeout=30)",
      "\nDuring handling of the above exception, another exception occurred:\n",
      "\u001b[0;31mReadTimeout\u001b[0m                               Traceback (most recent call last)",
      "\u001b[0;32m<ipython-input-34-9f544d99f3e8>\u001b[0m in \u001b[0;36m<module>\u001b[0;34m\u001b[0m\n\u001b[1;32m     13\u001b[0m \u001b[0;34m\u001b[0m\u001b[0m\n\u001b[1;32m     14\u001b[0m \u001b[0;32mfor\u001b[0m \u001b[0mfilter_criteria\u001b[0m \u001b[0;32min\u001b[0m \u001b[0;34m[\u001b[0m\u001b[0;34m\"['parking:lane:left']\"\u001b[0m\u001b[0;34m,\u001b[0m \u001b[0;34m\"['parking:lane:right']\"\u001b[0m\u001b[0;34m,\u001b[0m \u001b[0;34m\"['parking:lane:both']\"\u001b[0m\u001b[0;34m]\u001b[0m\u001b[0;34m:\u001b[0m\u001b[0;34m\u001b[0m\u001b[0;34m\u001b[0m\u001b[0m\n\u001b[0;32m---> 15\u001b[0;31m     \u001b[0mG\u001b[0m \u001b[0;34m=\u001b[0m \u001b[0mox\u001b[0m\u001b[0;34m.\u001b[0m\u001b[0mgraph_from_place\u001b[0m\u001b[0;34m(\u001b[0m\u001b[0mplace\u001b[0m\u001b[0;34m,\u001b[0m \u001b[0mcustom_filter\u001b[0m\u001b[0;34m=\u001b[0m\u001b[0mfilter_criteria\u001b[0m\u001b[0;34m,\u001b[0m \u001b[0mretain_all\u001b[0m\u001b[0;34m=\u001b[0m\u001b[0;32mTrue\u001b[0m\u001b[0;34m,\u001b[0m \u001b[0msimplify\u001b[0m\u001b[0;34m=\u001b[0m\u001b[0;32mFalse\u001b[0m\u001b[0;34m)\u001b[0m\u001b[0;34m\u001b[0m\u001b[0;34m\u001b[0m\u001b[0m\n\u001b[0m\u001b[1;32m     16\u001b[0m     \u001b[0mgraph_gdf\u001b[0m \u001b[0;34m=\u001b[0m \u001b[0mox\u001b[0m\u001b[0;34m.\u001b[0m\u001b[0mgraph_to_gdfs\u001b[0m\u001b[0;34m(\u001b[0m\u001b[0mG\u001b[0m\u001b[0;34m,\u001b[0m \u001b[0mnodes\u001b[0m\u001b[0;34m=\u001b[0m\u001b[0;32mFalse\u001b[0m\u001b[0;34m,\u001b[0m \u001b[0medges\u001b[0m\u001b[0;34m=\u001b[0m\u001b[0;32mTrue\u001b[0m\u001b[0;34m,\u001b[0m \u001b[0mnode_geometry\u001b[0m\u001b[0;34m=\u001b[0m\u001b[0;32mFalse\u001b[0m\u001b[0;34m,\u001b[0m \u001b[0mfill_edge_geometry\u001b[0m\u001b[0;34m=\u001b[0m\u001b[0;32mTrue\u001b[0m\u001b[0;34m)\u001b[0m\u001b[0;34m\u001b[0m\u001b[0;34m\u001b[0m\u001b[0m\n\u001b[1;32m     17\u001b[0m     \u001b[0mgraph_gdf\u001b[0m\u001b[0;34m[\u001b[0m\u001b[0;34m'capacity'\u001b[0m\u001b[0;34m]\u001b[0m \u001b[0;34m=\u001b[0m \u001b[0mlist\u001b[0m\u001b[0;34m(\u001b[0m\u001b[0mmap\u001b[0m\u001b[0;34m(\u001b[0m\u001b[0;32mlambda\u001b[0m \u001b[0mx\u001b[0m\u001b[0;34m:\u001b[0m \u001b[0mget_capacities\u001b[0m\u001b[0;34m(\u001b[0m\u001b[0mx\u001b[0m\u001b[0;34m)\u001b[0m\u001b[0;34m,\u001b[0m \u001b[0mgraph_gdf\u001b[0m\u001b[0;34m[\u001b[0m\u001b[0;34m'osmid'\u001b[0m\u001b[0;34m]\u001b[0m\u001b[0;34m)\u001b[0m\u001b[0;34m)\u001b[0m\u001b[0;34m\u001b[0m\u001b[0;34m\u001b[0m\u001b[0m\n",
      "\u001b[0;32m~/opt/anaconda3/envs/parking-analysis/lib/python3.7/site-packages/osmnx/core.py\u001b[0m in \u001b[0;36mgraph_from_place\u001b[0;34m(query, network_type, simplify, retain_all, truncate_by_edge, name, which_result, buffer_dist, timeout, memory, max_query_area_size, clean_periphery, infrastructure, custom_filter)\u001b[0m\n\u001b[1;32m   1425\u001b[0m         \u001b[0;31m# if it is a string (place name) or dict (structured place query), then\u001b[0m\u001b[0;34m\u001b[0m\u001b[0;34m\u001b[0m\u001b[0;34m\u001b[0m\u001b[0m\n\u001b[1;32m   1426\u001b[0m         \u001b[0;31m# it is a single place\u001b[0m\u001b[0;34m\u001b[0m\u001b[0;34m\u001b[0m\u001b[0;34m\u001b[0m\u001b[0m\n\u001b[0;32m-> 1427\u001b[0;31m         \u001b[0mgdf_place\u001b[0m \u001b[0;34m=\u001b[0m \u001b[0mgdf_from_place\u001b[0m\u001b[0;34m(\u001b[0m\u001b[0mquery\u001b[0m\u001b[0;34m,\u001b[0m \u001b[0mwhich_result\u001b[0m\u001b[0;34m=\u001b[0m\u001b[0mwhich_result\u001b[0m\u001b[0;34m,\u001b[0m \u001b[0mbuffer_dist\u001b[0m\u001b[0;34m=\u001b[0m\u001b[0mbuffer_dist\u001b[0m\u001b[0;34m)\u001b[0m\u001b[0;34m\u001b[0m\u001b[0;34m\u001b[0m\u001b[0m\n\u001b[0m\u001b[1;32m   1428\u001b[0m         \u001b[0mname\u001b[0m \u001b[0;34m=\u001b[0m \u001b[0mquery\u001b[0m\u001b[0;34m\u001b[0m\u001b[0;34m\u001b[0m\u001b[0m\n\u001b[1;32m   1429\u001b[0m     \u001b[0;32melif\u001b[0m \u001b[0misinstance\u001b[0m\u001b[0;34m(\u001b[0m\u001b[0mquery\u001b[0m\u001b[0;34m,\u001b[0m \u001b[0mlist\u001b[0m\u001b[0;34m)\u001b[0m\u001b[0;34m:\u001b[0m\u001b[0;34m\u001b[0m\u001b[0;34m\u001b[0m\u001b[0m\n",
      "\u001b[0;32m~/opt/anaconda3/envs/parking-analysis/lib/python3.7/site-packages/osmnx/core.py\u001b[0m in \u001b[0;36mgdf_from_place\u001b[0;34m(query, gdf_name, which_result, buffer_dist)\u001b[0m\n\u001b[1;32m     66\u001b[0m \u001b[0;34m\u001b[0m\u001b[0m\n\u001b[1;32m     67\u001b[0m     \u001b[0;31m# get the data from OSM\u001b[0m\u001b[0;34m\u001b[0m\u001b[0;34m\u001b[0m\u001b[0;34m\u001b[0m\u001b[0m\n\u001b[0;32m---> 68\u001b[0;31m     \u001b[0mdata\u001b[0m \u001b[0;34m=\u001b[0m \u001b[0mosm_polygon_download\u001b[0m\u001b[0;34m(\u001b[0m\u001b[0mquery\u001b[0m\u001b[0;34m,\u001b[0m \u001b[0mlimit\u001b[0m\u001b[0;34m=\u001b[0m\u001b[0mwhich_result\u001b[0m\u001b[0;34m)\u001b[0m\u001b[0;34m\u001b[0m\u001b[0;34m\u001b[0m\u001b[0m\n\u001b[0m\u001b[1;32m     69\u001b[0m     \u001b[0;32mif\u001b[0m \u001b[0mlen\u001b[0m\u001b[0;34m(\u001b[0m\u001b[0mdata\u001b[0m\u001b[0;34m)\u001b[0m \u001b[0;34m>=\u001b[0m \u001b[0mwhich_result\u001b[0m\u001b[0;34m:\u001b[0m\u001b[0;34m\u001b[0m\u001b[0;34m\u001b[0m\u001b[0m\n\u001b[1;32m     70\u001b[0m \u001b[0;34m\u001b[0m\u001b[0m\n",
      "\u001b[0;32m~/opt/anaconda3/envs/parking-analysis/lib/python3.7/site-packages/osmnx/downloader.py\u001b[0m in \u001b[0;36mosm_polygon_download\u001b[0;34m(query, limit, polygon_geojson)\u001b[0m\n\u001b[1;32m    281\u001b[0m \u001b[0;34m\u001b[0m\u001b[0m\n\u001b[1;32m    282\u001b[0m     \u001b[0;31m# request the URL, return the JSON\u001b[0m\u001b[0;34m\u001b[0m\u001b[0;34m\u001b[0m\u001b[0;34m\u001b[0m\u001b[0m\n\u001b[0;32m--> 283\u001b[0;31m     \u001b[0mresponse_json\u001b[0m \u001b[0;34m=\u001b[0m \u001b[0mnominatim_request\u001b[0m\u001b[0;34m(\u001b[0m\u001b[0mparams\u001b[0m\u001b[0;34m=\u001b[0m\u001b[0mparams\u001b[0m\u001b[0;34m,\u001b[0m \u001b[0mtimeout\u001b[0m\u001b[0;34m=\u001b[0m\u001b[0;36m30\u001b[0m\u001b[0;34m)\u001b[0m\u001b[0;34m\u001b[0m\u001b[0;34m\u001b[0m\u001b[0m\n\u001b[0m\u001b[1;32m    284\u001b[0m     \u001b[0;32mreturn\u001b[0m \u001b[0mresponse_json\u001b[0m\u001b[0;34m\u001b[0m\u001b[0;34m\u001b[0m\u001b[0m\n\u001b[1;32m    285\u001b[0m \u001b[0;34m\u001b[0m\u001b[0m\n",
      "\u001b[0;32m~/opt/anaconda3/envs/parking-analysis/lib/python3.7/site-packages/osmnx/downloader.py\u001b[0m in \u001b[0;36mnominatim_request\u001b[0;34m(params, type, pause_duration, timeout, error_pause_duration)\u001b[0m\n\u001b[1;32m    333\u001b[0m         \u001b[0mstart_time\u001b[0m \u001b[0;34m=\u001b[0m \u001b[0mtime\u001b[0m\u001b[0;34m.\u001b[0m\u001b[0mtime\u001b[0m\u001b[0;34m(\u001b[0m\u001b[0;34m)\u001b[0m\u001b[0;34m\u001b[0m\u001b[0;34m\u001b[0m\u001b[0m\n\u001b[1;32m    334\u001b[0m         \u001b[0mlog\u001b[0m\u001b[0;34m(\u001b[0m\u001b[0;34m'Requesting {} with timeout={}'\u001b[0m\u001b[0;34m.\u001b[0m\u001b[0mformat\u001b[0m\u001b[0;34m(\u001b[0m\u001b[0mprepared_url\u001b[0m\u001b[0;34m,\u001b[0m \u001b[0mtimeout\u001b[0m\u001b[0;34m)\u001b[0m\u001b[0;34m)\u001b[0m\u001b[0;34m\u001b[0m\u001b[0;34m\u001b[0m\u001b[0m\n\u001b[0;32m--> 335\u001b[0;31m         \u001b[0mresponse\u001b[0m \u001b[0;34m=\u001b[0m \u001b[0mrequests\u001b[0m\u001b[0;34m.\u001b[0m\u001b[0mget\u001b[0m\u001b[0;34m(\u001b[0m\u001b[0murl\u001b[0m\u001b[0;34m,\u001b[0m \u001b[0mparams\u001b[0m\u001b[0;34m=\u001b[0m\u001b[0mparams\u001b[0m\u001b[0;34m,\u001b[0m \u001b[0mtimeout\u001b[0m\u001b[0;34m=\u001b[0m\u001b[0mtimeout\u001b[0m\u001b[0;34m,\u001b[0m \u001b[0mheaders\u001b[0m\u001b[0;34m=\u001b[0m\u001b[0mget_http_headers\u001b[0m\u001b[0;34m(\u001b[0m\u001b[0;34m)\u001b[0m\u001b[0;34m)\u001b[0m\u001b[0;34m\u001b[0m\u001b[0;34m\u001b[0m\u001b[0m\n\u001b[0m\u001b[1;32m    336\u001b[0m \u001b[0;34m\u001b[0m\u001b[0m\n\u001b[1;32m    337\u001b[0m         \u001b[0;31m# get the response size and the domain, log result\u001b[0m\u001b[0;34m\u001b[0m\u001b[0;34m\u001b[0m\u001b[0;34m\u001b[0m\u001b[0m\n",
      "\u001b[0;32m~/opt/anaconda3/envs/parking-analysis/lib/python3.7/site-packages/requests/api.py\u001b[0m in \u001b[0;36mget\u001b[0;34m(url, params, **kwargs)\u001b[0m\n\u001b[1;32m     73\u001b[0m \u001b[0;34m\u001b[0m\u001b[0m\n\u001b[1;32m     74\u001b[0m     \u001b[0mkwargs\u001b[0m\u001b[0;34m.\u001b[0m\u001b[0msetdefault\u001b[0m\u001b[0;34m(\u001b[0m\u001b[0;34m'allow_redirects'\u001b[0m\u001b[0;34m,\u001b[0m \u001b[0;32mTrue\u001b[0m\u001b[0;34m)\u001b[0m\u001b[0;34m\u001b[0m\u001b[0;34m\u001b[0m\u001b[0m\n\u001b[0;32m---> 75\u001b[0;31m     \u001b[0;32mreturn\u001b[0m \u001b[0mrequest\u001b[0m\u001b[0;34m(\u001b[0m\u001b[0;34m'get'\u001b[0m\u001b[0;34m,\u001b[0m \u001b[0murl\u001b[0m\u001b[0;34m,\u001b[0m \u001b[0mparams\u001b[0m\u001b[0;34m=\u001b[0m\u001b[0mparams\u001b[0m\u001b[0;34m,\u001b[0m \u001b[0;34m**\u001b[0m\u001b[0mkwargs\u001b[0m\u001b[0;34m)\u001b[0m\u001b[0;34m\u001b[0m\u001b[0;34m\u001b[0m\u001b[0m\n\u001b[0m\u001b[1;32m     76\u001b[0m \u001b[0;34m\u001b[0m\u001b[0m\n\u001b[1;32m     77\u001b[0m \u001b[0;34m\u001b[0m\u001b[0m\n",
      "\u001b[0;32m~/opt/anaconda3/envs/parking-analysis/lib/python3.7/site-packages/requests/api.py\u001b[0m in \u001b[0;36mrequest\u001b[0;34m(method, url, **kwargs)\u001b[0m\n\u001b[1;32m     58\u001b[0m     \u001b[0;31m# cases, and look like a memory leak in others.\u001b[0m\u001b[0;34m\u001b[0m\u001b[0;34m\u001b[0m\u001b[0;34m\u001b[0m\u001b[0m\n\u001b[1;32m     59\u001b[0m     \u001b[0;32mwith\u001b[0m \u001b[0msessions\u001b[0m\u001b[0;34m.\u001b[0m\u001b[0mSession\u001b[0m\u001b[0;34m(\u001b[0m\u001b[0;34m)\u001b[0m \u001b[0;32mas\u001b[0m \u001b[0msession\u001b[0m\u001b[0;34m:\u001b[0m\u001b[0;34m\u001b[0m\u001b[0;34m\u001b[0m\u001b[0m\n\u001b[0;32m---> 60\u001b[0;31m         \u001b[0;32mreturn\u001b[0m \u001b[0msession\u001b[0m\u001b[0;34m.\u001b[0m\u001b[0mrequest\u001b[0m\u001b[0;34m(\u001b[0m\u001b[0mmethod\u001b[0m\u001b[0;34m=\u001b[0m\u001b[0mmethod\u001b[0m\u001b[0;34m,\u001b[0m \u001b[0murl\u001b[0m\u001b[0;34m=\u001b[0m\u001b[0murl\u001b[0m\u001b[0;34m,\u001b[0m \u001b[0;34m**\u001b[0m\u001b[0mkwargs\u001b[0m\u001b[0;34m)\u001b[0m\u001b[0;34m\u001b[0m\u001b[0;34m\u001b[0m\u001b[0m\n\u001b[0m\u001b[1;32m     61\u001b[0m \u001b[0;34m\u001b[0m\u001b[0m\n\u001b[1;32m     62\u001b[0m \u001b[0;34m\u001b[0m\u001b[0m\n",
      "\u001b[0;32m~/opt/anaconda3/envs/parking-analysis/lib/python3.7/site-packages/requests/sessions.py\u001b[0m in \u001b[0;36mrequest\u001b[0;34m(self, method, url, params, data, headers, cookies, files, auth, timeout, allow_redirects, proxies, hooks, stream, verify, cert, json)\u001b[0m\n\u001b[1;32m    531\u001b[0m         }\n\u001b[1;32m    532\u001b[0m         \u001b[0msend_kwargs\u001b[0m\u001b[0;34m.\u001b[0m\u001b[0mupdate\u001b[0m\u001b[0;34m(\u001b[0m\u001b[0msettings\u001b[0m\u001b[0;34m)\u001b[0m\u001b[0;34m\u001b[0m\u001b[0;34m\u001b[0m\u001b[0m\n\u001b[0;32m--> 533\u001b[0;31m         \u001b[0mresp\u001b[0m \u001b[0;34m=\u001b[0m \u001b[0mself\u001b[0m\u001b[0;34m.\u001b[0m\u001b[0msend\u001b[0m\u001b[0;34m(\u001b[0m\u001b[0mprep\u001b[0m\u001b[0;34m,\u001b[0m \u001b[0;34m**\u001b[0m\u001b[0msend_kwargs\u001b[0m\u001b[0;34m)\u001b[0m\u001b[0;34m\u001b[0m\u001b[0;34m\u001b[0m\u001b[0m\n\u001b[0m\u001b[1;32m    534\u001b[0m \u001b[0;34m\u001b[0m\u001b[0m\n\u001b[1;32m    535\u001b[0m         \u001b[0;32mreturn\u001b[0m \u001b[0mresp\u001b[0m\u001b[0;34m\u001b[0m\u001b[0;34m\u001b[0m\u001b[0m\n",
      "\u001b[0;32m~/opt/anaconda3/envs/parking-analysis/lib/python3.7/site-packages/requests/sessions.py\u001b[0m in \u001b[0;36msend\u001b[0;34m(self, request, **kwargs)\u001b[0m\n\u001b[1;32m    644\u001b[0m \u001b[0;34m\u001b[0m\u001b[0m\n\u001b[1;32m    645\u001b[0m         \u001b[0;31m# Send the request\u001b[0m\u001b[0;34m\u001b[0m\u001b[0;34m\u001b[0m\u001b[0;34m\u001b[0m\u001b[0m\n\u001b[0;32m--> 646\u001b[0;31m         \u001b[0mr\u001b[0m \u001b[0;34m=\u001b[0m \u001b[0madapter\u001b[0m\u001b[0;34m.\u001b[0m\u001b[0msend\u001b[0m\u001b[0;34m(\u001b[0m\u001b[0mrequest\u001b[0m\u001b[0;34m,\u001b[0m \u001b[0;34m**\u001b[0m\u001b[0mkwargs\u001b[0m\u001b[0;34m)\u001b[0m\u001b[0;34m\u001b[0m\u001b[0;34m\u001b[0m\u001b[0m\n\u001b[0m\u001b[1;32m    647\u001b[0m \u001b[0;34m\u001b[0m\u001b[0m\n\u001b[1;32m    648\u001b[0m         \u001b[0;31m# Total elapsed time of the request (approximately)\u001b[0m\u001b[0;34m\u001b[0m\u001b[0;34m\u001b[0m\u001b[0;34m\u001b[0m\u001b[0m\n",
      "\u001b[0;32m~/opt/anaconda3/envs/parking-analysis/lib/python3.7/site-packages/requests/adapters.py\u001b[0m in \u001b[0;36msend\u001b[0;34m(self, request, stream, timeout, verify, cert, proxies)\u001b[0m\n\u001b[1;32m    527\u001b[0m                 \u001b[0;32mraise\u001b[0m \u001b[0mSSLError\u001b[0m\u001b[0;34m(\u001b[0m\u001b[0me\u001b[0m\u001b[0;34m,\u001b[0m \u001b[0mrequest\u001b[0m\u001b[0;34m=\u001b[0m\u001b[0mrequest\u001b[0m\u001b[0;34m)\u001b[0m\u001b[0;34m\u001b[0m\u001b[0;34m\u001b[0m\u001b[0m\n\u001b[1;32m    528\u001b[0m             \u001b[0;32melif\u001b[0m \u001b[0misinstance\u001b[0m\u001b[0;34m(\u001b[0m\u001b[0me\u001b[0m\u001b[0;34m,\u001b[0m \u001b[0mReadTimeoutError\u001b[0m\u001b[0;34m)\u001b[0m\u001b[0;34m:\u001b[0m\u001b[0;34m\u001b[0m\u001b[0;34m\u001b[0m\u001b[0m\n\u001b[0;32m--> 529\u001b[0;31m                 \u001b[0;32mraise\u001b[0m \u001b[0mReadTimeout\u001b[0m\u001b[0;34m(\u001b[0m\u001b[0me\u001b[0m\u001b[0;34m,\u001b[0m \u001b[0mrequest\u001b[0m\u001b[0;34m=\u001b[0m\u001b[0mrequest\u001b[0m\u001b[0;34m)\u001b[0m\u001b[0;34m\u001b[0m\u001b[0;34m\u001b[0m\u001b[0m\n\u001b[0m\u001b[1;32m    530\u001b[0m             \u001b[0;32melse\u001b[0m\u001b[0;34m:\u001b[0m\u001b[0;34m\u001b[0m\u001b[0;34m\u001b[0m\u001b[0m\n\u001b[1;32m    531\u001b[0m                 \u001b[0;32mraise\u001b[0m\u001b[0;34m\u001b[0m\u001b[0;34m\u001b[0m\u001b[0m\n",
      "\u001b[0;31mReadTimeout\u001b[0m: HTTPSConnectionPool(host='nominatim.openstreetmap.org', port=443): Read timed out. (read timeout=30)"
     ]
    }
   ],
   "source": [
    "def get_capacities(ids):\n",
    "    if type(ids) == int:\n",
    "        ids = [ids]\n",
    "    total = 0\n",
    "    for id in ids:\n",
    "        total += street_parking_meta.loc[id, 'capacity']\n",
    "    return int(total)\n",
    "\n",
    "street_parking = gpd.GeoDataFrame()\n",
    "street_parking_all_geometries = gpd.GeoDataFrame(columns=['geometry'])\n",
    "street_parking_all_geometries.set_geometry('geometry')\n",
    "c = 0\n",
    "\n",
    "for filter_criteria in [\"['parking:lane:left']\", \"['parking:lane:right']\", \"['parking:lane:both']\"]:\n",
    "    G = ox.graph_from_place(place, custom_filter=filter_criteria, retain_all=True, simplify=False)\n",
    "    graph_gdf = ox.graph_to_gdfs(G, nodes=False, edges=True, node_geometry=False, fill_edge_geometry=True)\n",
    "    graph_gdf['capacity'] = list(map(lambda x: get_capacities(x), graph_gdf['osmid']))\n",
    "    if len(street_parking) == 0:\n",
    "        street_parking = graph_gdf[graph_gdf['name'] == -1]\n",
    "    for _, row in graph_gdf.iterrows():\n",
    "        for k, v in row.iteritems():\n",
    "            street_parking.loc[row['osmid'], k] = v\n",
    "            street_parking_all_geometries.loc[c, k] = v\n",
    "        c += 1\n",
    "        \n",
    "street_parking = street_parking[['capacity', 'name', 'geometry']]\n",
    "street_parking_all_geometries.crs = street_parking.crs"
   ]
  },
  {
   "cell_type": "markdown",
   "metadata": {},
   "source": [
    "This information can now be added to the `stats` `DataFrame`. For on-street parking, we assume average dimensions of 9 feet by 17 feet for a parking space to calculate area use."
   ]
  },
  {
   "cell_type": "code",
   "execution_count": null,
   "metadata": {},
   "outputs": [],
   "source": [
    "parking_type = \"street\"\n",
    "frame = street_parking\n",
    "on_street_dim_a = 9\n",
    "on_street_dim_b = 17\n",
    "parking_spot_area = on_street_dim_a * on_street_dim_b\n",
    "\n",
    "stats.loc[parking_type, 'capacity_sum'] = pd.to_numeric(frame['capacity']).sum()\n",
    "stats.loc[parking_type, 'area_sum'] = Area(sq_ft=(stats.loc[parking_type, 'capacity_sum'] * parking_spot_area)).sq_m\n",
    "stats.loc[parking_type, 'area_percent_sum'] = 100 * stats.loc[parking_type, 'area_sum'] / downtown_area\n",
    "stats.loc[parking_type, 'efficiency_sum'] = stats.loc[parking_type, 'area_sum'] / stats.loc[parking_type, 'capacity_sum']"
   ]
  },
  {
   "cell_type": "markdown",
   "metadata": {},
   "source": [
    "## Generating Output\n",
    "\n",
    "These calculations are used to create an HTML document. A key component of that page is a [Leaflet](https://leafletjs.com) map showing parking locations and capacities. We generate that here with [Folium](https://python-visualization.github.io/folium/).\n",
    "\n",
    "Start by creating the map and adding all the footprints:"
   ]
  },
  {
   "cell_type": "code",
   "execution_count": null,
   "metadata": {},
   "outputs": [],
   "source": [
    "footprints"
   ]
  },
  {
   "cell_type": "code",
   "execution_count": null,
   "metadata": {},
   "outputs": [],
   "source": [
    "m = folium.Map(tiles='cartodbpositron')\n",
    "\n",
    "a, b, c, d = downtown_poly.bounds\n",
    "bbox = [[b, a], [d, c]]\n",
    "\n",
    "m.fit_bounds(bbox)\n",
    "\n",
    "footprints['area square ft'] = list(map(lambda x: Area(sq_m=x).sq_ft, footprints['area']))\n",
    "\n",
    "surface_tooltip_fields = {\n",
    "    'name': 'Lot Name',\n",
    "    'parking': 'Parking Type',\n",
    "    'area square ft': 'Area (ft<sup>2</sup>)',\n",
    "    'capacity': 'Capacity',\n",
    "    'capacity:disabled': 'Accessible Spaces'\n",
    "}\n",
    "\n",
    "multistorey_tooltip_fields = {\n",
    "    'name': 'Garage Name',\n",
    "    'parking': 'Parking Type',\n",
    "    'area square ft': 'Area (ft<sup>2</sup>)',\n",
    "    'capacity': 'Capacity',\n",
    "    'capacity:disabled': 'Accessible Spaces'\n",
    "}\n",
    "\n",
    "underground_tooltip_fields = {\n",
    "    'name': 'Garage Name',\n",
    "    'parking': 'Parking Type',\n",
    "    'capacity': 'Capacity',\n",
    "    'capacity:disabled': 'Accessible Spaces'\n",
    "}\n",
    "\n",
    "colors = {\n",
    "    'surface': 'darkred',\n",
    "    'multi-storey': 'orangered',\n",
    "    'underground': 'darkorange'\n",
    "}\n",
    "\n",
    "def style_function(x):\n",
    "    color = colors.get(x['properties']['parking'], 'black')\n",
    "    return {'fillColor': color, 'color': color, 'weight': 1, 'fillOpacity': 0.7}\n",
    "\n",
    "def make_layer(parking_type, tooltip_fields, layer_name):\n",
    "    color = colors.get(parking_type, 'black')\n",
    "    tooltips = folium.features.GeoJsonTooltip(list(tooltip_fields.keys()), aliases=list(tooltip_fields.values()))\n",
    "    footprints_layer = folium.GeoJson(footprints[footprints['parking'] == parking_type], style_function=style_function)\n",
    "    footprints_layer.layer_name = \"<span style='color:\" + color + \"'>\" + layer_name + \"</span>\"\n",
    "    footprints_layer.add_child(tooltips)\n",
    "    footprints_layer.add_to(m)\n",
    "    \n",
    "\n",
    "layer_surface = (\"surface\", surface_tooltip_fields, \"Surface Lots\")\n",
    "layer_structure = (\"multi-storey\", multistorey_tooltip_fields, \"Structured Garages\")\n",
    "layer_underground = (\"underground\", underground_tooltip_fields, \"Underground Garages\")\n",
    "\n",
    "layers_to_make = [layer_surface, layer_structure, layer_underground]\n",
    "for l in layers_to_make:\n",
    "    a, b, c = l\n",
    "    make_layer(a, b, c)"
   ]
  },
  {
   "cell_type": "markdown",
   "metadata": {},
   "source": [
    "Now, we'll add the streets:"
   ]
  },
  {
   "cell_type": "code",
   "execution_count": null,
   "metadata": {},
   "outputs": [],
   "source": [
    "street_tooltip_fields = {\n",
    "    'name': 'Street Name',\n",
    "    'capacity': 'Segment Parking Capacity'\n",
    "}\n",
    "\n",
    "def style_function(x):\n",
    "    return {'color': 'CHOCOLATE', 'weight': 3, 'opacity': 0.7}\n",
    "\n",
    "streets_layer = folium.GeoJson(street_parking_all_geometries, style_function=style_function)\n",
    "tooltips = folium.features.GeoJsonTooltip(list(street_tooltip_fields.keys()), aliases=list(street_tooltip_fields.values()))\n",
    "tooltips.add_to(streets_layer)\n",
    "streets_layer.layer_name = \"<span style='color:CHOCOLATE'>Street Parking</span>\"\n",
    "streets_layer.add_to(m)"
   ]
  },
  {
   "cell_type": "markdown",
   "metadata": {},
   "source": [
    "Finally, we add a layer control, and the map is complete:"
   ]
  },
  {
   "cell_type": "code",
   "execution_count": null,
   "metadata": {},
   "outputs": [],
   "source": [
    "folium.LayerControl(collapsed=False, hideSingleBase=True).add_to(m)\n",
    "m"
   ]
  },
  {
   "cell_type": "markdown",
   "metadata": {},
   "source": [
    "We can save the map to an HTML document. Because we're hosting this project on GitHub and using GitHub Pages, we're putting all HTML into the `docs` directory."
   ]
  },
  {
   "cell_type": "code",
   "execution_count": null,
   "metadata": {},
   "outputs": [],
   "source": [
    "m.save('../docs/map.html')\n",
    "stats"
   ]
  },
  {
   "cell_type": "markdown",
   "metadata": {},
   "source": [
    "We'll use an HTML template located at `../docs/template.html` to build the main page with Python's `string.Template` class. This allows us to provide the values we've just calculated."
   ]
  },
  {
   "cell_type": "code",
   "execution_count": null,
   "metadata": {},
   "outputs": [],
   "source": [
    "with open('../docs/template_detail.html', 'r') as t_file:\n",
    "    t_html = Template(t_file.read())\n",
    "\n",
    "last_updated = datetime.datetime.now().strftime(\"%d %B %Y\")\n",
    "\n",
    "dim_area_ft = on_street_dim_a * on_street_dim_b\n",
    "\n",
    "extra_area_surface_ft = Area(sq_m=stats.loc['surface', 'efficiency_mean']).sq_ft - dim_area_ft\n",
    "extra_area_surface_percent = extra_area_surface_ft / Area(sq_m=stats.loc['surface', 'efficiency_mean']).sq_ft\n",
    "\n",
    "a = 0\n",
    "\n",
    "output = t_html.substitute(\n",
    "    date_updated=last_updated,\n",
    "    downtown_area=str(round(Area(sq_m=downtown_area).sq_mi, 2)) + \" miles<sup>2</sup>\",\n",
    "    \n",
    "    total_street_spaces=\"{:,g}\".format(stats.loc['street', 'capacity_sum']),\n",
    "    \n",
    "    on_street_dim_1=str(on_street_dim_a) + \" feet\",\n",
    "    on_street_dim_2=str(on_street_dim_b) + \" feet\",\n",
    "    \n",
    "    on_street_area=\"{:,}\".format(round(Area(sq_m=stats.loc['street', 'area_sum']).sq_ft, 2)) + \" ft<sup>2</sup>\",\n",
    "    \n",
    "    on_street_area_percent=str(round(stats.loc['street', 'area_percent_sum'], 2)) + \"%\",\n",
    "    \n",
    "    total_surface_spaces=\"{:,g}\".format(stats.loc['surface', 'capacity_sum']),\n",
    "    \n",
    "    \n",
    "    count_surface_lots=\"{:,g}\".format(stats.loc['surface', 'count']),\n",
    "    mean_surface_capacity=str(round(stats.loc['surface', 'capacity_mean'], 1)),\n",
    "    median_surface_capacity=\"{:,g}\".format(round(stats.loc['surface', 'capacity_median'])),\n",
    "    \n",
    "    total_surface_area_ft=\"{:,}\".format(round(Area(sq_m=stats.loc['surface', 'area_sum']).sq_ft, 2)) + \" ft<sup>2</sup>\",\n",
    "    total_surface_area_mi=\"{:,}\".format(round(Area(sq_m=stats.loc['surface', 'area_sum']).sq_mi, 4)) + \" mi<sup>2</sup>\",\n",
    "    \n",
    "    surface_area_percent=str(round(stats.loc['surface', 'area_percent_sum'], 2)) + \"%\",\n",
    "    \n",
    "    mean_surface_area=\"{:,}\".format(round(Area(sq_m=stats.loc['surface', 'area_mean']).sq_ft, 2)) + \" ft<sup>2</sup>\",\n",
    "    median_surface_area=\"{:,}\".format(round(Area(sq_m=stats.loc['surface', 'area_median']).sq_ft, 2)) + \" ft<sup>2</sup>\",\n",
    "    \n",
    "    area_per_surface_lot_space=\"{:,}\".format(round(Area(sq_m=stats.loc['surface', 'efficiency_mean']).sq_ft), 2) + \" ft<sup>2</sup>\",\n",
    "    \n",
    "    dim_area=str(dim_area_ft) + \" ft<sup>2</sup>\",\n",
    "    \n",
    "    extra_area=str(round(extra_area_surface_ft, 2)) + \" ft<sup>2</sup>\",\n",
    "    extra_percent = str(round(extra_area_surface_percent * 100, 2)) + \"%\",\n",
    "    \n",
    "    total_surface_disabled_spots=\"{:,g}\".format(stats.loc['surface', 'capacity:disabled_sum']),\n",
    "    count_lots_with_disabled=\"{:,g}\".format(stats.loc['surface', 'count_disabled']),\n",
    "    \n",
    "    surface_disabled_percent_total=str(round(100 * stats.loc['surface', 'capacity:disabled_sum'] / stats.loc['surface', 'capacity_sum'], 2)) + \"%\",\n",
    "\n",
    "    mean_dis_spaces=str(round(stats.loc['surface', 'capacity:disabled_mean'], 2)),\n",
    "    median_dis_spaces=str(round(stats.loc['surface', 'capacity:disabled_median'], 0)),\n",
    "   \n",
    "    total_structured_spaces=\"{:,g}\".format(stats.loc['structured', 'capacity_sum']),\n",
    "    count_structured_lots=int(stats.loc['structured', 'count']),\n",
    "    mean_structured_capacity=\"{:,g}\".format(stats.loc['structured', 'capacity_mean']),\n",
    "    median_structured_capacity=\"{:,g}\".format(stats.loc['structured', 'capacity_median']),\n",
    "    total_structured_area=\"{:,}\".format(round(Area(sq_m=stats.loc['structured', 'area_sum']).sq_ft, 2)) + \" ft<sup>2</sup>\",\n",
    "    mean_structured_area=\"{:,}\".format(round(Area(sq_m=stats.loc['structured', 'area_mean']).sq_ft, 2)) + \" ft<sup>2</sup>\",\n",
    "    median_structured_area=\"{:,}\".format(round(Area(sq_m=stats.loc['structured', 'area_median']).sq_ft, 2)) + \" ft<sup>2</sup>\",\n",
    "    strucutred_average_space_per_spot=\"{:,}\".format(round((Area(sq_m=stats.loc['structured', 'efficiency_mean']).sq_ft), 2)) + \" ft<sup>2</sup>\",\n",
    "    strucutred_efficiency_comparison=str(round(100 * ((stats.loc['surface', 'efficiency_mean'] - stats.loc['structured', 'efficiency_mean']) / stats.loc['surface', 'efficiency_mean']), 2)) + \"%\",\n",
    "    \n",
    "    total_structured_disabled_spots=\"{:,g}\".format(stats.loc['structured', 'capacity:disabled_sum']),\n",
    "    \n",
    "    total_underground_capacity=\"{:,g}\".format(stats.loc['underground', 'capacity_sum']),\n",
    "    count_underground_lots=\"{:,g}\".format(stats.loc['underground', 'count']),\n",
    "    mean_underground_capacity=\"{:,g}\".format(stats.loc['underground', 'capacity_mean']),\n",
    "    median_underground_capacity=\"{:,g}\".format(stats.loc['underground', 'capacity_median']),\n",
    "    underground_capacity_disabled=\"{:,g}\".format(stats.loc['underground', 'capacity:disabled_sum']),\n",
    "    \n",
    "    structured_area_percent=str(round(stats.loc['structured', 'area_percent_sum'], 2)) + \"%\",\n",
    "    gt_lots=\"{:,g}\".format(stats['count'].sum()),\n",
    "    gt_capacity=\"{:,g}\".format(stats['capacity_sum'].sum()),\n",
    "    gt_dis_spaces=\"{:,g}\".format(stats['capacity:disabled_sum'].sum()),\n",
    "    gt_area=\"{:,}\".format(round(Area(sq_m=stats['area_sum'].sum()).sq_mi, 4)) + \" miles<sup>2</sup>\",\n",
    "    gt_perc=\"{:,}\".format(round(stats['area_percent_sum'].sum(), 3)) + \"%\"\n",
    ")\n",
    "with open('../docs/detail.html', 'w+') as of:\n",
    "    of.write(output)\n",
    "\n",
    "with open('../docs/template_main.html', 'r') as t_file:\n",
    "    t_html = Template(t_file.read())\n",
    "\n",
    "output = t_html.substitute(\n",
    "    total_surface_spaces=\"{:,g}\".format(stats.loc['surface', 'capacity_sum']),\n",
    "    total_street_spaces=\"{:,g}\".format(stats.loc['street', 'capacity_sum']),\n",
    "    total_structured_spaces=\"{:,g}\".format(stats.loc['structured', 'capacity_sum']),\n",
    "    total_underground_capacity=\"{:,g}\".format(stats.loc['underground', 'capacity_sum']),\n",
    "    date_updated=last_updated,\n",
    "    gt_capacity=\"{:,g}\".format(stats['capacity_sum'].sum()),\n",
    "    gt_dis_spaces=\"{:,g}\".format(stats['capacity:disabled_sum'].sum()),\n",
    "    gt_area_ft=\"{:,}\".format(int(Area(sq_m=stats['area_sum'].sum()).sq_ft)),\n",
    "    gt_perc=\"{:,}\".format(round(stats['area_percent_sum'].sum(), 3)) + \"%\"\n",
    ")\n",
    "with open('../docs/index.html', 'w+') as of:\n",
    "    of.write(output)"
   ]
  },
  {
   "cell_type": "markdown",
   "metadata": {},
   "source": [
    "We'll also export some frames referenced in the HTML as CSVs:"
   ]
  },
  {
   "cell_type": "code",
   "execution_count": null,
   "metadata": {},
   "outputs": [],
   "source": [
    "if not os.path.exists('../docs/files'):\n",
    "    os.mkdir('../docs/files')\n",
    "\n",
    "for fn, frame in zip(['stats.csv', 'fp_surface.csv', 'fp_structured.csv', 'fp_underground.csv', 'street_capacities.csv'],\n",
    "                    [stats, fp_surface, fp_structure, fp_underground, street_parking_all_geometries]):\n",
    "    with open('../docs/files/' + fn, 'w+') as of:\n",
    "        of.write(frame.to_csv())"
   ]
  }
 ],
 "metadata": {
  "kernelspec": {
   "display_name": "Python 3",
   "language": "python",
   "name": "python3"
  },
  "language_info": {
   "codemirror_mode": {
    "name": "ipython",
    "version": 3
   },
   "file_extension": ".py",
   "mimetype": "text/x-python",
   "name": "python",
   "nbconvert_exporter": "python",
   "pygments_lexer": "ipython3",
   "version": "3.7.6"
  },
  "pycharm": {
   "stem_cell": {
    "cell_type": "raw",
    "metadata": {
     "collapsed": false
    },
    "source": []
   }
  }
 },
 "nbformat": 4,
 "nbformat_minor": 4
}
